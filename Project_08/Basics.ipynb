{
 "cells": [
  {
   "cell_type": "markdown",
   "metadata": {
    "collapsed": true
   },
   "source": [
    "# Star Wars Survey\n",
    "\n",
    "In this project, we will look at data that FiveThirtyEight collected in a survey about Star Wars.\n",
    "\n",
    "The survey data includes the following information:\n",
    "\n",
    "- `Have you seen any of the 6 films in the Star Wars franchise?` - Yes or No\n",
    "- `Do you consider yourself to be a fan of the Star Wars film franchise?` - Yes or No\n",
    "- `Which of the following Star Wars films have you seen? Please select all that apply.`, `Unnamed: 4`, `Unnamed: 5`, `Unnamed: 6`, `Unnamed: 7`, `Unnamed: 8` - Contain the names of the films seen.  If not all six are seen, the columns are completed in the order listed with the remainder left blank.\n",
    "- `Please rank the Star Wars films in order of preference with 1 being your favorite film in the franchise and 6 being your least favorite film.`, `Unnamed: 10`, `Unnamed: 11`, `Unnamed: 12`, `Unnamed: 13`, `Unnamed: 14` - Contains the respondent's rankings, from 1 to 6, for the six films, with 1 as the favorite and 6 as the least favorite\n",
    "- `Please state whether you view the following characters favorably, unfavorably, or are unfamiliar with him/her.`, `Unnamed: 16`, `Unnamed: 17`, `Unnamed: 18`, `Unnamed: 19`, `Unnamed: 20`, `Unnamed: 21`, `Unnamed: 22`, `Unnamed: 23`, `Unnamed: 24`, `Unnamed: 25`, `Unnamed: 26`, `Unnamed: 27`, `Unnamed: 28` - Contains the respondent's view on each of the following characters respectively: Han Solo, Luke Skywalker, Princess Leia Organa, Anakin Skywalker, Obi Wan Kenobi, Emperor Palpatine, Darth Vader, Lando Calrissian, Boba Fett, C-3P0, R2 D2, Jar Jar Binks, Padme Amidala, Yoda\n",
    "- `Which character shot first?` - Contains the respondent's answer, of either Greedo, Han, or I don't understand this question\n",
    "- `Are you familiar with the Expanded Universe?` - Yes or No\n",
    "- `Do you consider yourself to be a fan of the Expanded Universe?ÂÃ¦` - Yes or No\n",
    "- `Do you consider yourself to be a fan of the Star Trek franchise?` - Yes or No\n",
    "- `RespondentID` - An anonymized ID for the survey respondent\n",
    "- `Gender` - The respondent's gender\n",
    "- `Age` - The respondent's age\n",
    "- `Household Income` - The respondent's income\n",
    "- `Education` - The respondent's education level\n",
    "- `Location (Census Region)` - The respondent's location"
   ]
  },
  {
   "cell_type": "code",
   "execution_count": 1,
   "metadata": {},
   "outputs": [],
   "source": [
    "# read in the file\n",
    "import warnings\n",
    "warnings.filterwarnings(\"ignore\")\n",
    "\n",
    "import pandas as pd\n",
    "star_wars = pd.read_csv(\"star_wars.csv\", encoding=\"ISO-8859-1\")"
   ]
  },
  {
   "cell_type": "code",
   "execution_count": 2,
   "metadata": {},
   "outputs": [
    {
     "data": {
      "text/plain": [
       "(1187, 38)"
      ]
     },
     "execution_count": 2,
     "metadata": {},
     "output_type": "execute_result"
    }
   ],
   "source": [
    "star_wars.shape"
   ]
  },
  {
   "cell_type": "code",
   "execution_count": 3,
   "metadata": {},
   "outputs": [
    {
     "data": {
      "text/html": [
       "<div>\n",
       "<style scoped>\n",
       "    .dataframe tbody tr th:only-of-type {\n",
       "        vertical-align: middle;\n",
       "    }\n",
       "\n",
       "    .dataframe tbody tr th {\n",
       "        vertical-align: top;\n",
       "    }\n",
       "\n",
       "    .dataframe thead th {\n",
       "        text-align: right;\n",
       "    }\n",
       "</style>\n",
       "<table border=\"1\" class=\"dataframe\">\n",
       "  <thead>\n",
       "    <tr style=\"text-align: right;\">\n",
       "      <th></th>\n",
       "      <th>RespondentID</th>\n",
       "      <th>Have you seen any of the 6 films in the Star Wars franchise?</th>\n",
       "      <th>Do you consider yourself to be a fan of the Star Wars film franchise?</th>\n",
       "      <th>Which of the following Star Wars films have you seen? Please select all that apply.</th>\n",
       "      <th>Unnamed: 4</th>\n",
       "      <th>Unnamed: 5</th>\n",
       "      <th>Unnamed: 6</th>\n",
       "      <th>Unnamed: 7</th>\n",
       "      <th>Unnamed: 8</th>\n",
       "      <th>Please rank the Star Wars films in order of preference with 1 being your favorite film in the franchise and 6 being your least favorite film.</th>\n",
       "      <th>...</th>\n",
       "      <th>Unnamed: 28</th>\n",
       "      <th>Which character shot first?</th>\n",
       "      <th>Are you familiar with the Expanded Universe?</th>\n",
       "      <th>Do you consider yourself to be a fan of the Expanded Universe?ÂÃ¦</th>\n",
       "      <th>Do you consider yourself to be a fan of the Star Trek franchise?</th>\n",
       "      <th>Gender</th>\n",
       "      <th>Age</th>\n",
       "      <th>Household Income</th>\n",
       "      <th>Education</th>\n",
       "      <th>Location (Census Region)</th>\n",
       "    </tr>\n",
       "  </thead>\n",
       "  <tbody>\n",
       "    <tr>\n",
       "      <th>0</th>\n",
       "      <td>NaN</td>\n",
       "      <td>Response</td>\n",
       "      <td>Response</td>\n",
       "      <td>Star Wars: Episode I  The Phantom Menace</td>\n",
       "      <td>Star Wars: Episode II  Attack of the Clones</td>\n",
       "      <td>Star Wars: Episode III  Revenge of the Sith</td>\n",
       "      <td>Star Wars: Episode IV  A New Hope</td>\n",
       "      <td>Star Wars: Episode V The Empire Strikes Back</td>\n",
       "      <td>Star Wars: Episode VI Return of the Jedi</td>\n",
       "      <td>Star Wars: Episode I  The Phantom Menace</td>\n",
       "      <td>...</td>\n",
       "      <td>Yoda</td>\n",
       "      <td>Response</td>\n",
       "      <td>Response</td>\n",
       "      <td>Response</td>\n",
       "      <td>Response</td>\n",
       "      <td>Response</td>\n",
       "      <td>Response</td>\n",
       "      <td>Response</td>\n",
       "      <td>Response</td>\n",
       "      <td>Response</td>\n",
       "    </tr>\n",
       "    <tr>\n",
       "      <th>1</th>\n",
       "      <td>3.292880e+09</td>\n",
       "      <td>Yes</td>\n",
       "      <td>Yes</td>\n",
       "      <td>Star Wars: Episode I  The Phantom Menace</td>\n",
       "      <td>Star Wars: Episode II  Attack of the Clones</td>\n",
       "      <td>Star Wars: Episode III  Revenge of the Sith</td>\n",
       "      <td>Star Wars: Episode IV  A New Hope</td>\n",
       "      <td>Star Wars: Episode V The Empire Strikes Back</td>\n",
       "      <td>Star Wars: Episode VI Return of the Jedi</td>\n",
       "      <td>3</td>\n",
       "      <td>...</td>\n",
       "      <td>Very favorably</td>\n",
       "      <td>I don't understand this question</td>\n",
       "      <td>Yes</td>\n",
       "      <td>No</td>\n",
       "      <td>No</td>\n",
       "      <td>Male</td>\n",
       "      <td>18-29</td>\n",
       "      <td>NaN</td>\n",
       "      <td>High school degree</td>\n",
       "      <td>South Atlantic</td>\n",
       "    </tr>\n",
       "    <tr>\n",
       "      <th>2</th>\n",
       "      <td>3.292880e+09</td>\n",
       "      <td>No</td>\n",
       "      <td>NaN</td>\n",
       "      <td>NaN</td>\n",
       "      <td>NaN</td>\n",
       "      <td>NaN</td>\n",
       "      <td>NaN</td>\n",
       "      <td>NaN</td>\n",
       "      <td>NaN</td>\n",
       "      <td>NaN</td>\n",
       "      <td>...</td>\n",
       "      <td>NaN</td>\n",
       "      <td>NaN</td>\n",
       "      <td>NaN</td>\n",
       "      <td>NaN</td>\n",
       "      <td>Yes</td>\n",
       "      <td>Male</td>\n",
       "      <td>18-29</td>\n",
       "      <td>$0 - $24,999</td>\n",
       "      <td>Bachelor degree</td>\n",
       "      <td>West South Central</td>\n",
       "    </tr>\n",
       "    <tr>\n",
       "      <th>3</th>\n",
       "      <td>3.292765e+09</td>\n",
       "      <td>Yes</td>\n",
       "      <td>No</td>\n",
       "      <td>Star Wars: Episode I  The Phantom Menace</td>\n",
       "      <td>Star Wars: Episode II  Attack of the Clones</td>\n",
       "      <td>Star Wars: Episode III  Revenge of the Sith</td>\n",
       "      <td>NaN</td>\n",
       "      <td>NaN</td>\n",
       "      <td>NaN</td>\n",
       "      <td>1</td>\n",
       "      <td>...</td>\n",
       "      <td>Unfamiliar (N/A)</td>\n",
       "      <td>I don't understand this question</td>\n",
       "      <td>No</td>\n",
       "      <td>NaN</td>\n",
       "      <td>No</td>\n",
       "      <td>Male</td>\n",
       "      <td>18-29</td>\n",
       "      <td>$0 - $24,999</td>\n",
       "      <td>High school degree</td>\n",
       "      <td>West North Central</td>\n",
       "    </tr>\n",
       "    <tr>\n",
       "      <th>4</th>\n",
       "      <td>3.292763e+09</td>\n",
       "      <td>Yes</td>\n",
       "      <td>Yes</td>\n",
       "      <td>Star Wars: Episode I  The Phantom Menace</td>\n",
       "      <td>Star Wars: Episode II  Attack of the Clones</td>\n",
       "      <td>Star Wars: Episode III  Revenge of the Sith</td>\n",
       "      <td>Star Wars: Episode IV  A New Hope</td>\n",
       "      <td>Star Wars: Episode V The Empire Strikes Back</td>\n",
       "      <td>Star Wars: Episode VI Return of the Jedi</td>\n",
       "      <td>5</td>\n",
       "      <td>...</td>\n",
       "      <td>Very favorably</td>\n",
       "      <td>I don't understand this question</td>\n",
       "      <td>No</td>\n",
       "      <td>NaN</td>\n",
       "      <td>Yes</td>\n",
       "      <td>Male</td>\n",
       "      <td>18-29</td>\n",
       "      <td>$100,000 - $149,999</td>\n",
       "      <td>Some college or Associate degree</td>\n",
       "      <td>West North Central</td>\n",
       "    </tr>\n",
       "    <tr>\n",
       "      <th>5</th>\n",
       "      <td>3.292731e+09</td>\n",
       "      <td>Yes</td>\n",
       "      <td>Yes</td>\n",
       "      <td>Star Wars: Episode I  The Phantom Menace</td>\n",
       "      <td>Star Wars: Episode II  Attack of the Clones</td>\n",
       "      <td>Star Wars: Episode III  Revenge of the Sith</td>\n",
       "      <td>Star Wars: Episode IV  A New Hope</td>\n",
       "      <td>Star Wars: Episode V The Empire Strikes Back</td>\n",
       "      <td>Star Wars: Episode VI Return of the Jedi</td>\n",
       "      <td>5</td>\n",
       "      <td>...</td>\n",
       "      <td>Somewhat favorably</td>\n",
       "      <td>Greedo</td>\n",
       "      <td>Yes</td>\n",
       "      <td>No</td>\n",
       "      <td>No</td>\n",
       "      <td>Male</td>\n",
       "      <td>18-29</td>\n",
       "      <td>$100,000 - $149,999</td>\n",
       "      <td>Some college or Associate degree</td>\n",
       "      <td>West North Central</td>\n",
       "    </tr>\n",
       "    <tr>\n",
       "      <th>6</th>\n",
       "      <td>3.292719e+09</td>\n",
       "      <td>Yes</td>\n",
       "      <td>Yes</td>\n",
       "      <td>Star Wars: Episode I  The Phantom Menace</td>\n",
       "      <td>Star Wars: Episode II  Attack of the Clones</td>\n",
       "      <td>Star Wars: Episode III  Revenge of the Sith</td>\n",
       "      <td>Star Wars: Episode IV  A New Hope</td>\n",
       "      <td>Star Wars: Episode V The Empire Strikes Back</td>\n",
       "      <td>Star Wars: Episode VI Return of the Jedi</td>\n",
       "      <td>1</td>\n",
       "      <td>...</td>\n",
       "      <td>Very favorably</td>\n",
       "      <td>Han</td>\n",
       "      <td>Yes</td>\n",
       "      <td>No</td>\n",
       "      <td>Yes</td>\n",
       "      <td>Male</td>\n",
       "      <td>18-29</td>\n",
       "      <td>$25,000 - $49,999</td>\n",
       "      <td>Bachelor degree</td>\n",
       "      <td>Middle Atlantic</td>\n",
       "    </tr>\n",
       "    <tr>\n",
       "      <th>7</th>\n",
       "      <td>3.292685e+09</td>\n",
       "      <td>Yes</td>\n",
       "      <td>Yes</td>\n",
       "      <td>Star Wars: Episode I  The Phantom Menace</td>\n",
       "      <td>Star Wars: Episode II  Attack of the Clones</td>\n",
       "      <td>Star Wars: Episode III  Revenge of the Sith</td>\n",
       "      <td>Star Wars: Episode IV  A New Hope</td>\n",
       "      <td>Star Wars: Episode V The Empire Strikes Back</td>\n",
       "      <td>Star Wars: Episode VI Return of the Jedi</td>\n",
       "      <td>6</td>\n",
       "      <td>...</td>\n",
       "      <td>Very favorably</td>\n",
       "      <td>Han</td>\n",
       "      <td>Yes</td>\n",
       "      <td>No</td>\n",
       "      <td>No</td>\n",
       "      <td>Male</td>\n",
       "      <td>18-29</td>\n",
       "      <td>NaN</td>\n",
       "      <td>High school degree</td>\n",
       "      <td>East North Central</td>\n",
       "    </tr>\n",
       "    <tr>\n",
       "      <th>8</th>\n",
       "      <td>3.292664e+09</td>\n",
       "      <td>Yes</td>\n",
       "      <td>Yes</td>\n",
       "      <td>Star Wars: Episode I  The Phantom Menace</td>\n",
       "      <td>Star Wars: Episode II  Attack of the Clones</td>\n",
       "      <td>Star Wars: Episode III  Revenge of the Sith</td>\n",
       "      <td>Star Wars: Episode IV  A New Hope</td>\n",
       "      <td>Star Wars: Episode V The Empire Strikes Back</td>\n",
       "      <td>Star Wars: Episode VI Return of the Jedi</td>\n",
       "      <td>4</td>\n",
       "      <td>...</td>\n",
       "      <td>Very favorably</td>\n",
       "      <td>Han</td>\n",
       "      <td>No</td>\n",
       "      <td>NaN</td>\n",
       "      <td>Yes</td>\n",
       "      <td>Male</td>\n",
       "      <td>18-29</td>\n",
       "      <td>NaN</td>\n",
       "      <td>High school degree</td>\n",
       "      <td>South Atlantic</td>\n",
       "    </tr>\n",
       "    <tr>\n",
       "      <th>9</th>\n",
       "      <td>3.292654e+09</td>\n",
       "      <td>Yes</td>\n",
       "      <td>Yes</td>\n",
       "      <td>Star Wars: Episode I  The Phantom Menace</td>\n",
       "      <td>Star Wars: Episode II  Attack of the Clones</td>\n",
       "      <td>Star Wars: Episode III  Revenge of the Sith</td>\n",
       "      <td>Star Wars: Episode IV  A New Hope</td>\n",
       "      <td>Star Wars: Episode V The Empire Strikes Back</td>\n",
       "      <td>Star Wars: Episode VI Return of the Jedi</td>\n",
       "      <td>5</td>\n",
       "      <td>...</td>\n",
       "      <td>Somewhat favorably</td>\n",
       "      <td>Han</td>\n",
       "      <td>No</td>\n",
       "      <td>NaN</td>\n",
       "      <td>No</td>\n",
       "      <td>Male</td>\n",
       "      <td>18-29</td>\n",
       "      <td>$0 - $24,999</td>\n",
       "      <td>Some college or Associate degree</td>\n",
       "      <td>South Atlantic</td>\n",
       "    </tr>\n",
       "  </tbody>\n",
       "</table>\n",
       "<p>10 rows × 38 columns</p>\n",
       "</div>"
      ],
      "text/plain": [
       "   RespondentID Have you seen any of the 6 films in the Star Wars franchise?  \\\n",
       "0           NaN                                           Response             \n",
       "1  3.292880e+09                                                Yes             \n",
       "2  3.292880e+09                                                 No             \n",
       "3  3.292765e+09                                                Yes             \n",
       "4  3.292763e+09                                                Yes             \n",
       "5  3.292731e+09                                                Yes             \n",
       "6  3.292719e+09                                                Yes             \n",
       "7  3.292685e+09                                                Yes             \n",
       "8  3.292664e+09                                                Yes             \n",
       "9  3.292654e+09                                                Yes             \n",
       "\n",
       "  Do you consider yourself to be a fan of the Star Wars film franchise?  \\\n",
       "0                                           Response                      \n",
       "1                                                Yes                      \n",
       "2                                                NaN                      \n",
       "3                                                 No                      \n",
       "4                                                Yes                      \n",
       "5                                                Yes                      \n",
       "6                                                Yes                      \n",
       "7                                                Yes                      \n",
       "8                                                Yes                      \n",
       "9                                                Yes                      \n",
       "\n",
       "  Which of the following Star Wars films have you seen? Please select all that apply.  \\\n",
       "0           Star Wars: Episode I  The Phantom Menace                                    \n",
       "1           Star Wars: Episode I  The Phantom Menace                                    \n",
       "2                                                NaN                                    \n",
       "3           Star Wars: Episode I  The Phantom Menace                                    \n",
       "4           Star Wars: Episode I  The Phantom Menace                                    \n",
       "5           Star Wars: Episode I  The Phantom Menace                                    \n",
       "6           Star Wars: Episode I  The Phantom Menace                                    \n",
       "7           Star Wars: Episode I  The Phantom Menace                                    \n",
       "8           Star Wars: Episode I  The Phantom Menace                                    \n",
       "9           Star Wars: Episode I  The Phantom Menace                                    \n",
       "\n",
       "                                    Unnamed: 4  \\\n",
       "0  Star Wars: Episode II  Attack of the Clones   \n",
       "1  Star Wars: Episode II  Attack of the Clones   \n",
       "2                                          NaN   \n",
       "3  Star Wars: Episode II  Attack of the Clones   \n",
       "4  Star Wars: Episode II  Attack of the Clones   \n",
       "5  Star Wars: Episode II  Attack of the Clones   \n",
       "6  Star Wars: Episode II  Attack of the Clones   \n",
       "7  Star Wars: Episode II  Attack of the Clones   \n",
       "8  Star Wars: Episode II  Attack of the Clones   \n",
       "9  Star Wars: Episode II  Attack of the Clones   \n",
       "\n",
       "                                    Unnamed: 5  \\\n",
       "0  Star Wars: Episode III  Revenge of the Sith   \n",
       "1  Star Wars: Episode III  Revenge of the Sith   \n",
       "2                                          NaN   \n",
       "3  Star Wars: Episode III  Revenge of the Sith   \n",
       "4  Star Wars: Episode III  Revenge of the Sith   \n",
       "5  Star Wars: Episode III  Revenge of the Sith   \n",
       "6  Star Wars: Episode III  Revenge of the Sith   \n",
       "7  Star Wars: Episode III  Revenge of the Sith   \n",
       "8  Star Wars: Episode III  Revenge of the Sith   \n",
       "9  Star Wars: Episode III  Revenge of the Sith   \n",
       "\n",
       "                          Unnamed: 6  \\\n",
       "0  Star Wars: Episode IV  A New Hope   \n",
       "1  Star Wars: Episode IV  A New Hope   \n",
       "2                                NaN   \n",
       "3                                NaN   \n",
       "4  Star Wars: Episode IV  A New Hope   \n",
       "5  Star Wars: Episode IV  A New Hope   \n",
       "6  Star Wars: Episode IV  A New Hope   \n",
       "7  Star Wars: Episode IV  A New Hope   \n",
       "8  Star Wars: Episode IV  A New Hope   \n",
       "9  Star Wars: Episode IV  A New Hope   \n",
       "\n",
       "                                     Unnamed: 7  \\\n",
       "0  Star Wars: Episode V The Empire Strikes Back   \n",
       "1  Star Wars: Episode V The Empire Strikes Back   \n",
       "2                                           NaN   \n",
       "3                                           NaN   \n",
       "4  Star Wars: Episode V The Empire Strikes Back   \n",
       "5  Star Wars: Episode V The Empire Strikes Back   \n",
       "6  Star Wars: Episode V The Empire Strikes Back   \n",
       "7  Star Wars: Episode V The Empire Strikes Back   \n",
       "8  Star Wars: Episode V The Empire Strikes Back   \n",
       "9  Star Wars: Episode V The Empire Strikes Back   \n",
       "\n",
       "                                 Unnamed: 8  \\\n",
       "0  Star Wars: Episode VI Return of the Jedi   \n",
       "1  Star Wars: Episode VI Return of the Jedi   \n",
       "2                                       NaN   \n",
       "3                                       NaN   \n",
       "4  Star Wars: Episode VI Return of the Jedi   \n",
       "5  Star Wars: Episode VI Return of the Jedi   \n",
       "6  Star Wars: Episode VI Return of the Jedi   \n",
       "7  Star Wars: Episode VI Return of the Jedi   \n",
       "8  Star Wars: Episode VI Return of the Jedi   \n",
       "9  Star Wars: Episode VI Return of the Jedi   \n",
       "\n",
       "  Please rank the Star Wars films in order of preference with 1 being your favorite film in the franchise and 6 being your least favorite film.  \\\n",
       "0           Star Wars: Episode I  The Phantom Menace                                                                                              \n",
       "1                                                  3                                                                                              \n",
       "2                                                NaN                                                                                              \n",
       "3                                                  1                                                                                              \n",
       "4                                                  5                                                                                              \n",
       "5                                                  5                                                                                              \n",
       "6                                                  1                                                                                              \n",
       "7                                                  6                                                                                              \n",
       "8                                                  4                                                                                              \n",
       "9                                                  5                                                                                              \n",
       "\n",
       "            ...                    Unnamed: 28  \\\n",
       "0           ...                           Yoda   \n",
       "1           ...                 Very favorably   \n",
       "2           ...                            NaN   \n",
       "3           ...               Unfamiliar (N/A)   \n",
       "4           ...                 Very favorably   \n",
       "5           ...             Somewhat favorably   \n",
       "6           ...                 Very favorably   \n",
       "7           ...                 Very favorably   \n",
       "8           ...                 Very favorably   \n",
       "9           ...             Somewhat favorably   \n",
       "\n",
       "        Which character shot first?  \\\n",
       "0                          Response   \n",
       "1  I don't understand this question   \n",
       "2                               NaN   \n",
       "3  I don't understand this question   \n",
       "4  I don't understand this question   \n",
       "5                            Greedo   \n",
       "6                               Han   \n",
       "7                               Han   \n",
       "8                               Han   \n",
       "9                               Han   \n",
       "\n",
       "  Are you familiar with the Expanded Universe?  \\\n",
       "0                                     Response   \n",
       "1                                          Yes   \n",
       "2                                          NaN   \n",
       "3                                           No   \n",
       "4                                           No   \n",
       "5                                          Yes   \n",
       "6                                          Yes   \n",
       "7                                          Yes   \n",
       "8                                           No   \n",
       "9                                           No   \n",
       "\n",
       "  Do you consider yourself to be a fan of the Expanded Universe?ÂÃ¦  \\\n",
       "0                                           Response                   \n",
       "1                                                 No                   \n",
       "2                                                NaN                   \n",
       "3                                                NaN                   \n",
       "4                                                NaN                   \n",
       "5                                                 No                   \n",
       "6                                                 No                   \n",
       "7                                                 No                   \n",
       "8                                                NaN                   \n",
       "9                                                NaN                   \n",
       "\n",
       "  Do you consider yourself to be a fan of the Star Trek franchise?    Gender  \\\n",
       "0                                           Response                Response   \n",
       "1                                                 No                    Male   \n",
       "2                                                Yes                    Male   \n",
       "3                                                 No                    Male   \n",
       "4                                                Yes                    Male   \n",
       "5                                                 No                    Male   \n",
       "6                                                Yes                    Male   \n",
       "7                                                 No                    Male   \n",
       "8                                                Yes                    Male   \n",
       "9                                                 No                    Male   \n",
       "\n",
       "        Age     Household Income                         Education  \\\n",
       "0  Response             Response                          Response   \n",
       "1     18-29                  NaN                High school degree   \n",
       "2     18-29         $0 - $24,999                   Bachelor degree   \n",
       "3     18-29         $0 - $24,999                High school degree   \n",
       "4     18-29  $100,000 - $149,999  Some college or Associate degree   \n",
       "5     18-29  $100,000 - $149,999  Some college or Associate degree   \n",
       "6     18-29    $25,000 - $49,999                   Bachelor degree   \n",
       "7     18-29                  NaN                High school degree   \n",
       "8     18-29                  NaN                High school degree   \n",
       "9     18-29         $0 - $24,999  Some college or Associate degree   \n",
       "\n",
       "  Location (Census Region)  \n",
       "0                 Response  \n",
       "1           South Atlantic  \n",
       "2       West South Central  \n",
       "3       West North Central  \n",
       "4       West North Central  \n",
       "5       West North Central  \n",
       "6          Middle Atlantic  \n",
       "7       East North Central  \n",
       "8           South Atlantic  \n",
       "9           South Atlantic  \n",
       "\n",
       "[10 rows x 38 columns]"
      ]
     },
     "execution_count": 3,
     "metadata": {},
     "output_type": "execute_result"
    }
   ],
   "source": [
    "star_wars.head(10)"
   ]
  },
  {
   "cell_type": "code",
   "execution_count": 4,
   "metadata": {},
   "outputs": [
    {
     "data": {
      "text/plain": [
       "Index(['RespondentID',\n",
       "       'Have you seen any of the 6 films in the Star Wars franchise?',\n",
       "       'Do you consider yourself to be a fan of the Star Wars film franchise?',\n",
       "       'Which of the following Star Wars films have you seen? Please select all that apply.',\n",
       "       'Unnamed: 4', 'Unnamed: 5', 'Unnamed: 6', 'Unnamed: 7', 'Unnamed: 8',\n",
       "       'Please rank the Star Wars films in order of preference with 1 being your favorite film in the franchise and 6 being your least favorite film.',\n",
       "       'Unnamed: 10', 'Unnamed: 11', 'Unnamed: 12', 'Unnamed: 13',\n",
       "       'Unnamed: 14',\n",
       "       'Please state whether you view the following characters favorably, unfavorably, or are unfamiliar with him/her.',\n",
       "       'Unnamed: 16', 'Unnamed: 17', 'Unnamed: 18', 'Unnamed: 19',\n",
       "       'Unnamed: 20', 'Unnamed: 21', 'Unnamed: 22', 'Unnamed: 23',\n",
       "       'Unnamed: 24', 'Unnamed: 25', 'Unnamed: 26', 'Unnamed: 27',\n",
       "       'Unnamed: 28', 'Which character shot first?',\n",
       "       'Are you familiar with the Expanded Universe?',\n",
       "       'Do you consider yourself to be a fan of the Expanded Universe?ÂÃ¦',\n",
       "       'Do you consider yourself to be a fan of the Star Trek franchise?',\n",
       "       'Gender', 'Age', 'Household Income', 'Education',\n",
       "       'Location (Census Region)'],\n",
       "      dtype='object')"
      ]
     },
     "execution_count": 4,
     "metadata": {},
     "output_type": "execute_result"
    }
   ],
   "source": [
    "# review the columns included\n",
    "star_wars.columns"
   ]
  },
  {
   "cell_type": "markdown",
   "metadata": {},
   "source": [
    "## Clean Up Column Names\n",
    "\n",
    "The columns names are very long, and some are not very descriptive, which makes this difficult to work with.  Let's rename these columns to shorter and more useful names."
   ]
  },
  {
   "cell_type": "code",
   "execution_count": 5,
   "metadata": {},
   "outputs": [],
   "source": [
    "star_wars.rename(columns={'Have you seen any of the 6 films in the Star Wars franchise?': 'seen_any', \n",
    "                          'Do you consider yourself to be a fan of the Star Wars film franchise?': 'star_wars_fan',\n",
    "                          'Which of the following Star Wars films have you seen? Please select all that apply.': 'seen_1',\n",
    "                          'Unnamed: 4': 'seen_2',\n",
    "                          'Unnamed: 5': 'seen_3',\n",
    "                          'Unnamed: 6': 'seen_4',\n",
    "                          'Unnamed: 7': 'seen_5',\n",
    "                          'Unnamed: 8': 'seen_6',\n",
    "                          'Please rank the Star Wars films in order of preference with 1 being your favorite film in the franchise and 6 being your least favorite film.': 'ranking_1',\n",
    "                          'Unnamed: 10': 'ranking_2',\n",
    "                          'Unnamed: 11': 'ranking_3',\n",
    "                          'Unnamed: 12': 'ranking_4',\n",
    "                          'Unnamed: 13': 'ranking_5',\n",
    "                          'Unnamed: 14': 'ranking_6',\n",
    "                          'Please state whether you view the following characters favorably, unfavorably, or are unfamiliar with him/her.': 'character_han',\n",
    "                          'Unnamed: 16': 'character_luke',\n",
    "                          'Unnamed: 17': 'character_leia',\n",
    "                          'Unnamed: 18': 'character_anakin',\n",
    "                          'Unnamed: 19': 'character_obi_wan',\n",
    "                          'Unnamed: 20': 'character_palpatine',\n",
    "                          'Unnamed: 21': 'character_vader',\n",
    "                          'Unnamed: 22': 'character_lando',\n",
    "                          'Unnamed: 23': 'character_boba_fett',\n",
    "                          'Unnamed: 24': 'character_c3po',\n",
    "                          'Unnamed: 25': 'character_r2d2',\n",
    "                          'Unnamed: 26': 'character_jar_jar',\n",
    "                          'Unnamed: 27': 'character_padme',\n",
    "                          'Unnamed: 28': 'character_yoda',\n",
    "                          'Which character shot first?': 'who_shot_first',\n",
    "                          'Are you familiar with the Expanded Universe?': 'expanded_uni',\n",
    "                          'Do you consider yourself to be a fan of the Expanded Universe?ÂÃ¦': 'expanded_uni_fan',\n",
    "                          'Do you consider yourself to be a fan of the Star Trek franchise?': 'star_trek_fan',\n",
    "                          'Location (Census Region)': 'location'\n",
    "                         },\n",
    "                 inplace=True)"
   ]
  },
  {
   "cell_type": "code",
   "execution_count": 6,
   "metadata": {},
   "outputs": [
    {
     "data": {
      "text/plain": [
       "Index(['RespondentID', 'seen_any', 'star_wars_fan', 'seen_1', 'seen_2',\n",
       "       'seen_3', 'seen_4', 'seen_5', 'seen_6', 'ranking_1', 'ranking_2',\n",
       "       'ranking_3', 'ranking_4', 'ranking_5', 'ranking_6', 'character_han',\n",
       "       'character_luke', 'character_leia', 'character_anakin',\n",
       "       'character_obi_wan', 'character_palpatine', 'character_vader',\n",
       "       'character_lando', 'character_boba_fett', 'character_c3po',\n",
       "       'character_r2d2', 'character_jar_jar', 'character_padme',\n",
       "       'character_yoda', 'who_shot_first', 'expanded_uni', 'expanded_uni_fan',\n",
       "       'star_trek_fan', 'Gender', 'Age', 'Household Income', 'Education',\n",
       "       'location'],\n",
       "      dtype='object')"
      ]
     },
     "execution_count": 6,
     "metadata": {},
     "output_type": "execute_result"
    }
   ],
   "source": [
    "# review the renamed columns\n",
    "star_wars.columns"
   ]
  },
  {
   "cell_type": "code",
   "execution_count": 7,
   "metadata": {},
   "outputs": [
    {
     "data": {
      "text/plain": [
       "(1186, 38)"
      ]
     },
     "execution_count": 7,
     "metadata": {},
     "output_type": "execute_result"
    }
   ],
   "source": [
    "# remove the first row of the data that is not a response, \n",
    "# but part of the description of the data fields\n",
    "star_wars = star_wars[star_wars['RespondentID'].notnull()]\n",
    "star_wars.shape"
   ]
  },
  {
   "cell_type": "markdown",
   "metadata": {},
   "source": [
    "## Data Cleaning - Yes/No Responses\n",
    "\n",
    "There are a number of columns that have yes/no answers.  We can more easily work with these if we convert the yes answers to True and the no answers to False."
   ]
  },
  {
   "cell_type": "code",
   "execution_count": 8,
   "metadata": {},
   "outputs": [
    {
     "name": "stdout",
     "output_type": "stream",
     "text": [
      "Yes    936\n",
      "No     250\n",
      "Name: seen_any, dtype: int64\n",
      "Yes    552\n",
      "NaN    350\n",
      "No     284\n",
      "Name: star_wars_fan, dtype: int64\n",
      "No     615\n",
      "NaN    358\n",
      "Yes    213\n",
      "Name: expanded_uni, dtype: int64\n",
      "NaN    973\n",
      "No     114\n",
      "Yes     99\n",
      "Name: expanded_uni_fan, dtype: int64\n",
      "No     641\n",
      "Yes    427\n",
      "NaN    118\n",
      "Name: star_trek_fan, dtype: int64\n"
     ]
    }
   ],
   "source": [
    "# review the columns with yes/no answers\n",
    "yes_no_columns = ['seen_any',\n",
    "                  'star_wars_fan',\n",
    "                  'expanded_uni',\n",
    "                  'expanded_uni_fan',\n",
    "                  'star_trek_fan'\n",
    "                 ]\n",
    "\n",
    "for col in yes_no_columns:\n",
    "    print(star_wars[col].value_counts(dropna=False))"
   ]
  },
  {
   "cell_type": "code",
   "execution_count": 9,
   "metadata": {},
   "outputs": [
    {
     "name": "stdout",
     "output_type": "stream",
     "text": [
      "True     936\n",
      "False    250\n",
      "Name: seen_any, dtype: int64\n",
      "True     552\n",
      "NaN      350\n",
      "False    284\n",
      "Name: star_wars_fan, dtype: int64\n",
      "False    615\n",
      "NaN      358\n",
      "True     213\n",
      "Name: expanded_uni, dtype: int64\n",
      "NaN      973\n",
      "False    114\n",
      "True      99\n",
      "Name: expanded_uni_fan, dtype: int64\n",
      "False    641\n",
      "True     427\n",
      "NaN      118\n",
      "Name: star_trek_fan, dtype: int64\n"
     ]
    }
   ],
   "source": [
    "# convert the Yes/No responses to Boolean types\n",
    "\n",
    "# create mapping dictionary\n",
    "yes_no = {'Yes': True, 'No': False}\n",
    "\n",
    "# map these Yes/No columns\n",
    "for col in yes_no_columns:\n",
    "    star_wars[col] = star_wars[col].map(yes_no)\n",
    "\n",
    "# verify the update occurred as intended\n",
    "for col in yes_no_columns:\n",
    "    print(star_wars[col].value_counts(dropna=False))"
   ]
  },
  {
   "cell_type": "markdown",
   "metadata": {},
   "source": [
    "## Data Cleaning - Which Films Seen\n",
    "\n",
    "For the six columns indicating whether a respondent has seen each of the six films, the current data holds the name of the film seen rather than a yes/no, as with the columns we just dealt with above, or a True/False.\n",
    "\n",
    "To make these columns easier to work with, let's convert these columns to True if the respondent saw that movie and Fale if they didn't see it or didn't respond."
   ]
  },
  {
   "cell_type": "code",
   "execution_count": 10,
   "metadata": {},
   "outputs": [
    {
     "name": "stdout",
     "output_type": "stream",
     "text": [
      "Star Wars: Episode I  The Phantom Menace    673\n",
      "NaN                                         513\n",
      "Name: seen_1, dtype: int64\n",
      "NaN                                            615\n",
      "Star Wars: Episode II  Attack of the Clones    571\n",
      "Name: seen_2, dtype: int64\n",
      "NaN                                            636\n",
      "Star Wars: Episode III  Revenge of the Sith    550\n",
      "Name: seen_3, dtype: int64\n",
      "Star Wars: Episode IV  A New Hope    607\n",
      "NaN                                  579\n",
      "Name: seen_4, dtype: int64\n",
      "Star Wars: Episode V The Empire Strikes Back    758\n",
      "NaN                                             428\n",
      "Name: seen_5, dtype: int64\n",
      "Star Wars: Episode VI Return of the Jedi    738\n",
      "NaN                                         448\n",
      "Name: seen_6, dtype: int64\n"
     ]
    }
   ],
   "source": [
    "# confirm that each column only contains the movie name or NaN\n",
    "\n",
    "films_seen = ['seen_1', 'seen_2', 'seen_3', 'seen_4', 'seen_5', 'seen_6']\n",
    "\n",
    "for col in films_seen:\n",
    "    print(star_wars[col].value_counts(dropna=False))"
   ]
  },
  {
   "cell_type": "code",
   "execution_count": 11,
   "metadata": {},
   "outputs": [
    {
     "name": "stdout",
     "output_type": "stream",
     "text": [
      "True     673\n",
      "False    513\n",
      "Name: seen_1, dtype: int64\n",
      "False    615\n",
      "True     571\n",
      "Name: seen_2, dtype: int64\n",
      "False    636\n",
      "True     550\n",
      "Name: seen_3, dtype: int64\n",
      "True     607\n",
      "False    579\n",
      "Name: seen_4, dtype: int64\n",
      "True     758\n",
      "False    428\n",
      "Name: seen_5, dtype: int64\n",
      "True     738\n",
      "False    448\n",
      "Name: seen_6, dtype: int64\n"
     ]
    }
   ],
   "source": [
    "import numpy as np\n",
    "\n",
    "# create mapping dictionary to update values\n",
    "films_seen_map = {'Star Wars: Episode I  The Phantom Menace': True,\n",
    "                  'Star Wars: Episode II  Attack of the Clones': True,\n",
    "                  'Star Wars: Episode III  Revenge of the Sith': True,\n",
    "                  'Star Wars: Episode IV  A New Hope': True,\n",
    "                  'Star Wars: Episode V The Empire Strikes Back': True,\n",
    "                  'Star Wars: Episode VI Return of the Jedi': True,\n",
    "                  np.NaN: False}\n",
    "\n",
    "# map these columns\n",
    "for col in films_seen:\n",
    "    star_wars[col] = star_wars[col].map(films_seen_map)\n",
    "\n",
    "# verify the update occurred as intended\n",
    "for col in films_seen:\n",
    "    print(star_wars[col].value_counts(dropna=False))"
   ]
  },
  {
   "cell_type": "markdown",
   "metadata": {},
   "source": [
    "## Data Cleaning - Rankings\n",
    "\n",
    "For the six rankings columns, where respondents ranked the six movies from most favorite (1) to least favorite (6), we will convert these columns to numeric.  While there are also missing values, there is not much other data cleanup needed on these columns."
   ]
  },
  {
   "cell_type": "code",
   "execution_count": 12,
   "metadata": {},
   "outputs": [
    {
     "data": {
      "text/plain": [
       "ranking_1    float64\n",
       "ranking_2    float64\n",
       "ranking_3    float64\n",
       "ranking_4    float64\n",
       "ranking_5    float64\n",
       "ranking_6    float64\n",
       "dtype: object"
      ]
     },
     "execution_count": 12,
     "metadata": {},
     "output_type": "execute_result"
    }
   ],
   "source": [
    "# convert to float and confirm it worked as intended\n",
    "star_wars[star_wars.columns[9:15]] = star_wars[star_wars.columns[9:15]].astype(float)\n",
    "star_wars[star_wars.columns[9:15]].dtypes"
   ]
  },
  {
   "cell_type": "markdown",
   "metadata": {},
   "source": [
    "## Most Favorite Movie\n",
    "\n",
    "We can now look at the rankings for each of the movies and determine the average ranking for each.  We can visualize the average rankings using a bar chart.  Keep in mind that lower rankings are better (more favorited)."
   ]
  },
  {
   "cell_type": "code",
   "execution_count": 13,
   "metadata": {},
   "outputs": [
    {
     "data": {
      "image/png": "[encoded data removed]",
      "text/plain": [
       "<Figure size 432x288 with 1 Axes>"
      ]
     },
     "metadata": {},
     "output_type": "display_data"
    }
   ],
   "source": [
    "import matplotlib.pyplot as plt\n",
    "%matplotlib inline\n",
    "\n",
    "cb_dark_blue = (0/255, 107/255, 164/255)\n",
    "rankings_cols = ['ranking_1', 'ranking_2', 'ranking_3', 'ranking_4', 'ranking_5', 'ranking_6']\n",
    "avg_rankings = [star_wars[col].mean() for col in rankings_cols]\n",
    "\n",
    "fig, ax = plt.subplots()\n",
    "ax.bar(np.arange(6)+.6, avg_rankings, color=cb_dark_blue)\n",
    "ax.set_xlim(0.3, 6.5)\n",
    "ax.set_yticks(np.arange(0, 5, step=1))\n",
    "ax.set_ylabel('Average Ranking')\n",
    "ax.set_xlabel('Episode Number')\n",
    "ax.set_title('Average Ranking For First Six Star Wars Films')\n",
    "for key,spine in ax.spines.items():\n",
    "        spine.set_visible(False)\n",
    "ax.tick_params(bottom=\"off\", top=\"off\", left=\"off\", right=\"off\")\n",
    "plt.show()"
   ]
  },
  {
   "cell_type": "markdown",
   "metadata": {},
   "source": [
    "From the above graph, we can see that Star Wars: Episode V The Empire Strikes Back is the most favorite movie of the survey respondents. Generally, the original trilogy is rated better than the prequels. which appear to be preferred in the order they came out.\n",
    "\n",
    "This seems to fit with the common viewpoints on these movies - that the first triology was better than the prequels and that The Empire Strikes Back is the best of the original trilogy."
   ]
  },
  {
   "cell_type": "markdown",
   "metadata": {},
   "source": [
    "## Counts of Movies Seen\n",
    "\n",
    "Given the average rankings shown above, let's look further at how many of the survey respondents saw each of the movies."
   ]
  },
  {
   "cell_type": "code",
   "execution_count": 14,
   "metadata": {},
   "outputs": [
    {
     "data": {
      "image/png": "[encoded data removed]",
      "text/plain": [
       "<Figure size 432x288 with 1 Axes>"
      ]
     },
     "metadata": {},
     "output_type": "display_data"
    }
   ],
   "source": [
    "counts_seen = [star_wars[col].sum() for col in films_seen]\n",
    "\n",
    "fig, ax = plt.subplots()\n",
    "ax.bar(np.arange(6)+.6, counts_seen, color=cb_dark_blue)\n",
    "ax.set_xlim(0.3, 6.5)\n",
    "ax.set_yticks(np.arange(0, 900, step=150))\n",
    "ax.set_ylabel('Count of Movies Seen')\n",
    "ax.set_xlabel('Episode Number')\n",
    "ax.set_title('Count Of Number of Movies Seen For First Six Star Wars Films')\n",
    "for key,spine in ax.spines.items():\n",
    "        spine.set_visible(False)\n",
    "ax.tick_params(bottom=\"off\", top=\"off\", left=\"off\", right=\"off\")\n",
    "plt.show()"
   ]
  },
  {
   "cell_type": "markdown",
   "metadata": {},
   "source": [
    "What is interesting from the above graph is that the two most favorite films, Episodes 5 and 6, also had the most number of survey respondents who saw those movies.  Episodes 2 and 3 were the lowest on the number who saw these movies, which may also help explain the lower rankings we saw above.\n",
    "\n",
    "We don't know whether the general perception that Episodes 2 and 3 were not as good caused fewer people to see these movies, or if fewer people saw these movies for other reasons but since they didn't see them, they weren't ranked as highly as the others."
   ]
  },
  {
   "cell_type": "markdown",
   "metadata": {},
   "source": [
    "## Review Rankings and Movies Seen by Group\n",
    "\n",
    "We have seen the overall patterns in both overall rankings and in movies seen.  Now let's look a bit more closely at these metrics for different groups within the data.\n",
    "\n",
    "We will look at how the results may differ between males and females, between self-identified Star Wars fans and not, between self-identified Star Trek fans and not, and between different education levels."
   ]
  },
  {
   "cell_type": "code",
   "execution_count": 15,
   "metadata": {},
   "outputs": [
    {
     "data": {
      "image/png": "[encoded data removed]",
      "text/plain": [
       "<Figure size 720x720 with 4 Axes>"
      ]
     },
     "metadata": {},
     "output_type": "display_data"
    }
   ],
   "source": [
    "# look at differences between males and females\n",
    "cb_orange = (255/255, 128/255, 14/255)\n",
    "\n",
    "males = star_wars[star_wars['Gender'] == 'Male']\n",
    "females = star_wars[star_wars['Gender'] == 'Female']\n",
    "\n",
    "fig = plt.figure(figsize=(10,10))\n",
    "ax1 = fig.add_subplot(2,2,1)\n",
    "ax2 = fig.add_subplot(2,2,2)\n",
    "ax3 = fig.add_subplot(2,2,3)\n",
    "ax4 = fig.add_subplot(2,2,4)\n",
    "ax1.bar(np.arange(6)+.6, males[rankings_cols].mean(), color=cb_dark_blue, label='Males')\n",
    "ax2.bar(np.arange(6)+.6, females[rankings_cols].mean(), color=cb_orange, label='Females')\n",
    "ax3.bar(np.arange(6)+.6, males[films_seen].sum(), color=cb_dark_blue, label='Males')\n",
    "ax4.bar(np.arange(6)+.6, females[films_seen].sum(), color=cb_orange, label='Females')\n",
    "\n",
    "axes = [ax1, ax2, ax3, ax4]\n",
    "for ax in axes[0:2]:\n",
    "    ax.set_yticks(np.arange(0, 6, step=1))\n",
    "    ax.set_title('Average Rankings')\n",
    "    ax.legend(loc='upper right', frameon=False)\n",
    "for ax in axes[2:4]:\n",
    "    ax.set_yticks(np.arange(0, 600, step=150))\n",
    "    ax.set_title('Count Of Number of Movies Seen')\n",
    "for ax in axes:\n",
    "    for key,spine in ax.spines.items():\n",
    "        spine.set_visible(False)\n",
    "    ax.tick_params(bottom=\"off\", top=\"off\", left=\"off\", right=\"off\")\n",
    "    ax.set_xlim(0.3, 6.5)\n",
    "    ax.set_xlabel('Episode Number')\n",
    "    \n",
    "plt.show()"
   ]
  },
  {
   "cell_type": "markdown",
   "metadata": {},
   "source": [
    "In general, males watched more of the movies than females, especially for the prequels.  However, the overall pattern that The Empire Strikes Back is the most favorite movie still holds.  In addition, the prequels are viewed less than the original triology.\n",
    "\n",
    "Females seemed to like Episodes 1 and 2 more than males, but there were fewer females who viewed these episodes.  In addition, for females Episode 1 is actually ranked slightly better than Episode 4, while for males Episode 4 is ranked significantly better than Episode 1."
   ]
  },
  {
   "cell_type": "code",
   "execution_count": 16,
   "metadata": {},
   "outputs": [
    {
     "data": {
      "image/png": "[encoded data removed]",
      "text/plain": [
       "<Figure size 720x720 with 4 Axes>"
      ]
     },
     "metadata": {},
     "output_type": "display_data"
    }
   ],
   "source": [
    "# look at differences between Star Wars fans\n",
    "\n",
    "star_wars_fans = star_wars[star_wars['star_wars_fan'] == True]\n",
    "not_star_wars_fans = star_wars[star_wars['star_wars_fan'] != True]\n",
    "\n",
    "fig = plt.figure(figsize=(10,10))\n",
    "ax1 = fig.add_subplot(2,2,1)\n",
    "ax2 = fig.add_subplot(2,2,2)\n",
    "ax3 = fig.add_subplot(2,2,3)\n",
    "ax4 = fig.add_subplot(2,2,4)\n",
    "ax1.bar(np.arange(6)+.6, star_wars_fans[rankings_cols].mean(), color=cb_dark_blue, label='Star Wars Fans')\n",
    "ax2.bar(np.arange(6)+.6, not_star_wars_fans[rankings_cols].mean(), color=cb_orange, label='Not Star Wars Fans')\n",
    "ax3.bar(np.arange(6)+.6, star_wars_fans[films_seen].sum(), color=cb_dark_blue, label='Star Wars Fans')\n",
    "ax4.bar(np.arange(6)+.6, not_star_wars_fans[films_seen].sum(), color=cb_orange, label='Not Star Wars Fans')\n",
    "\n",
    "axes = [ax1, ax2, ax3, ax4]\n",
    "for ax in axes[0:2]:\n",
    "    ax.set_yticks(np.arange(0, 6, step=1))\n",
    "    ax.set_title('Average Rankings')\n",
    "    ax.legend(loc='upper right', frameon=False)\n",
    "for ax in axes[2:4]:\n",
    "    ax.set_yticks(np.arange(0, 600, step=150))\n",
    "    ax.set_title('Count Of Number of Movies Seen')\n",
    "for ax in axes:\n",
    "    for key,spine in ax.spines.items():\n",
    "        spine.set_visible(False)\n",
    "    ax.tick_params(bottom=\"off\", top=\"off\", left=\"off\", right=\"off\")\n",
    "    ax.set_xlim(0.3, 6.5)\n",
    "    ax.set_xlabel('Episode Number')\n",
    "    \n",
    "plt.show()"
   ]
  },
  {
   "cell_type": "markdown",
   "metadata": {},
   "source": [
    "When comparing Star Wars fans to non-fans, we see that Star Wars fans watched more of the movies than non-fans, which is to be expected.  The pattern for Star Wars fans holds more to the overall pattern we saw before.\n",
    "\n",
    "For non-fans, we see that The Empire Strikes Back is still preferred, only just slightly over Episode 1 The Phantom Menace.  Episode 3 is the least favorite for both groups.\n",
    "\n",
    "Interestingly, even for non-fans, the pattern that episodes 5 and 6 were the most watched still holds."
   ]
  },
  {
   "cell_type": "code",
   "execution_count": 17,
   "metadata": {},
   "outputs": [
    {
     "data": {
      "image/png": "[encoded data removed]",
      "text/plain": [
       "<Figure size 720x720 with 4 Axes>"
      ]
     },
     "metadata": {},
     "output_type": "display_data"
    }
   ],
   "source": [
    "# look at differences between Star Trek fans\n",
    "\n",
    "star_trek_fans = star_wars[star_wars['star_trek_fan'] == True]\n",
    "not_star_trek_fans = star_wars[star_wars['star_trek_fan'] != True]\n",
    "\n",
    "fig = plt.figure(figsize=(10,10))\n",
    "ax1 = fig.add_subplot(2,2,1)\n",
    "ax2 = fig.add_subplot(2,2,2)\n",
    "ax3 = fig.add_subplot(2,2,3)\n",
    "ax4 = fig.add_subplot(2,2,4)\n",
    "ax1.bar(np.arange(6)+.6, star_trek_fans[rankings_cols].mean(), color=cb_dark_blue, label='Star Trek Fans')\n",
    "ax2.bar(np.arange(6)+.6, not_star_trek_fans[rankings_cols].mean(), color=cb_orange, label='Not Star Trek Fans')\n",
    "ax3.bar(np.arange(6)+.6, star_trek_fans[films_seen].sum(), color=cb_dark_blue, label='Star Trek Fans')\n",
    "ax4.bar(np.arange(6)+.6, not_star_trek_fans[films_seen].sum(), color=cb_orange, label='Not Star Trek Fans')\n",
    "\n",
    "axes = [ax1, ax2, ax3, ax4]\n",
    "for ax in axes[0:2]:\n",
    "    ax.set_yticks(np.arange(0, 6, step=1))\n",
    "    ax.set_title('Average Rankings')\n",
    "    ax.legend(loc='upper right', frameon=False)\n",
    "for ax in axes[2:4]:\n",
    "    ax.set_yticks(np.arange(0, 600, step=150))\n",
    "    ax.set_title('Count Of Number of Movies Seen')\n",
    "for ax in axes:\n",
    "    for key,spine in ax.spines.items():\n",
    "        spine.set_visible(False)\n",
    "    ax.tick_params(bottom=\"off\", top=\"off\", left=\"off\", right=\"off\")\n",
    "    ax.set_xlim(0.3, 6.5)\n",
    "    ax.set_xlabel('Episode Number')\n",
    "    \n",
    "plt.show()"
   ]
  },
  {
   "cell_type": "markdown",
   "metadata": {},
   "source": [
    "The differences between Star Trek fans and non-fans is less stark than the differences we looked at above.  Presumably this is because there a Star Wars fans who are also Star Trek fans.\n",
    "\n",
    "The rankings between Star Trek fans and non-fans are very similar.  However, we do see a general decline in numbers of the movies seen, probably because there are some Star Trek fans who are not Star Wars fans and did not watch the Star Wars movies."
   ]
  },
  {
   "cell_type": "code",
   "execution_count": 18,
   "metadata": {},
   "outputs": [
    {
     "data": {
      "text/plain": [
       "Some college or Associate degree    328\n",
       "Bachelor degree                     321\n",
       "Graduate degree                     275\n",
       "NaN                                 150\n",
       "High school degree                  105\n",
       "Less than high school degree          7\n",
       "Name: Education, dtype: int64"
      ]
     },
     "execution_count": 18,
     "metadata": {},
     "output_type": "execute_result"
    }
   ],
   "source": [
    "# look at the education variable\n",
    "star_wars['Education'].value_counts(dropna=False)"
   ]
  },
  {
   "cell_type": "markdown",
   "metadata": {},
   "source": [
    "There are four different categories for `Education` that have enough data that we can look at differences across different levels.  We will look at the following: Graduate degree, Bachelor degree, Some college or Associate degree, High school degree.  I will ignore the NaN values, since we don't know what these are, and the Less than high school degree values, since there are so few of these."
   ]
  },
  {
   "cell_type": "code",
   "execution_count": 19,
   "metadata": {},
   "outputs": [
    {
     "data": {
      "image/png": "[encoded data removed]",
      "text/plain": [
       "<Figure size 720x1440 with 8 Axes>"
      ]
     },
     "metadata": {},
     "output_type": "display_data"
    }
   ],
   "source": [
    "# create the bar graphs for comparisons\n",
    "tab_green = (44/255, 160/255, 44/255)\n",
    "tab_red = (214/255, 39/255, 40/255)\n",
    "\n",
    "educ_grad = star_wars[star_wars['Education'] == 'Graduate degree']\n",
    "educ_bach = star_wars[star_wars['Education'] == 'Bachelor degree']\n",
    "educ_coll = star_wars[star_wars['Education'] == 'Some college or Associate degree']\n",
    "educ_high = star_wars[star_wars['Education'] == 'High school degree']\n",
    "\n",
    "fig = plt.figure(figsize=(10,20))\n",
    "ax1 = fig.add_subplot(4,2,1)\n",
    "ax2 = fig.add_subplot(4,2,2)\n",
    "ax3 = fig.add_subplot(4,2,3)\n",
    "ax4 = fig.add_subplot(4,2,4)\n",
    "ax5 = fig.add_subplot(4,2,5)\n",
    "ax6 = fig.add_subplot(4,2,6)\n",
    "ax7 = fig.add_subplot(4,2,7)\n",
    "ax8 = fig.add_subplot(4,2,8)\n",
    "\n",
    "ax1.bar(np.arange(6)+.6, educ_grad[rankings_cols].mean(), color=cb_dark_blue, label='Graduate Degrees')\n",
    "ax2.bar(np.arange(6)+.6, educ_grad[films_seen].sum(), color=cb_dark_blue, label='Graduate Degrees')\n",
    "ax3.bar(np.arange(6)+.6, educ_bach[rankings_cols].mean(), color=cb_orange, label='Bachelor Degrees')\n",
    "ax4.bar(np.arange(6)+.6, educ_bach[films_seen].sum(), color=cb_orange, label='Bachelor Degrees')\n",
    "ax5.bar(np.arange(6)+.6, educ_coll[rankings_cols].mean(), color=tab_green, label='Some College')\n",
    "ax6.bar(np.arange(6)+.6, educ_coll[films_seen].sum(), color=tab_green, label='Some College')\n",
    "ax7.bar(np.arange(6)+.6, educ_high[rankings_cols].mean(), color=tab_red, label='High School')\n",
    "ax8.bar(np.arange(6)+.6, educ_high[films_seen].sum(), color=tab_red, label='High School')\n",
    "\n",
    "axes = [ax1, ax2, ax3, ax4, ax5, ax6, ax7, ax8]\n",
    "for ax in [ax1, ax3, ax5, ax7]:\n",
    "    ax.set_yticks(np.arange(0, 6, step=1))\n",
    "    ax.set_title('Average Rankings')\n",
    "for ax in [ax2, ax4, ax6, ax8]:\n",
    "    ax.set_yticks(np.arange(0, 450, step=150))\n",
    "    ax.set_title('Count Of Number of Movies Seen')\n",
    "    ax.legend(loc='upper right', frameon=False)\n",
    "for ax in axes:\n",
    "    for key,spine in ax.spines.items():\n",
    "        spine.set_visible(False)\n",
    "    ax.tick_params(bottom=\"off\", top=\"off\", left=\"off\", right=\"off\")\n",
    "    ax.set_xlim(0.3, 6.5)\n",
    "    ax.set_xlabel('Episode Number')\n",
    "    \n",
    "plt.show()"
   ]
  },
  {
   "cell_type": "markdown",
   "metadata": {},
   "source": [
    "The general pattern that Episode 5 is the most favorite and Episode 3 is the least favorite holds across all Education levels.  However, these effects appear to be stronger in the groups with more education.\n",
    "\n",
    "Regarding the counts of movies seen, generally Episodes 5 and 6 are the most viewed, which is consistent with the above.  However, for those with only a high school education level, there is relatively little difference in the numbers seen of the different movies.  This may also be due to the low number of responses for this group - it may be harder to see patterns with less data."
   ]
  },
  {
   "cell_type": "markdown",
   "metadata": {},
   "source": [
    "## Who Shot First\n",
    "\n",
    "Who shot first is a controversy in the Star Wars world.  In the original version, it appeared that Han shot Greedo first in the cantina.  However, in the re-release of the movie 20 years later, Greedo shot first and Han retaliated.  This was altered again when the movies went to DVD, so that they fired at about the same time.  Then when the movies were released on Blu-ray, the scene was shortened.\n",
    "\n",
    "Fans of Han argue that he transforms through the movies from one with shady morals in the beginning to a hero.  We would expect those who are fans of Han Solo to have selected Han as who shot first and have favorable ratings of Han.  It would also be interesting to see if the respondent's age correlated with this in some way."
   ]
  },
  {
   "cell_type": "code",
   "execution_count": 20,
   "metadata": {},
   "outputs": [
    {
     "data": {
      "text/plain": [
       "Han                                 325\n",
       "I don't understand this question    306\n",
       "Greedo                              197\n",
       "Name: who_shot_first, dtype: int64"
      ]
     },
     "execution_count": 20,
     "metadata": {},
     "output_type": "execute_result"
    }
   ],
   "source": [
    "# look at the who_shot_first variable\n",
    "star_wars['who_shot_first'].value_counts()"
   ]
  },
  {
   "cell_type": "markdown",
   "metadata": {},
   "source": [
    "For those who answered the question, there were three possible responses: Han, Greedo, and \"I don't understand this question\".  Let's look more closely at these groups."
   ]
  },
  {
   "cell_type": "code",
   "execution_count": 21,
   "metadata": {},
   "outputs": [
    {
     "data": {
      "image/png": "[encoded data removed]",
      "text/plain": [
       "<Figure size 720x1080 with 6 Axes>"
      ]
     },
     "metadata": {},
     "output_type": "display_data"
    }
   ],
   "source": [
    "# create the bar graphs for comparisons\n",
    "\n",
    "first_han = star_wars[star_wars['who_shot_first'] == 'Han']\n",
    "first_greedo = star_wars[star_wars['who_shot_first'] == 'Greedo']\n",
    "first_huh = star_wars[star_wars['who_shot_first'] == 'I don\\'t understand this question']\n",
    "\n",
    "fig = plt.figure(figsize=(10,15))\n",
    "ax1 = fig.add_subplot(3,2,1)\n",
    "ax2 = fig.add_subplot(3,2,2)\n",
    "ax3 = fig.add_subplot(3,2,3)\n",
    "ax4 = fig.add_subplot(3,2,4)\n",
    "ax5 = fig.add_subplot(3,2,5)\n",
    "ax6 = fig.add_subplot(3,2,6)\n",
    "\n",
    "ax1.bar(np.arange(6)+.6, first_han[rankings_cols].mean(), color=cb_dark_blue, label='Han Shot First')\n",
    "ax2.bar(np.arange(6)+.6, first_han[films_seen].sum(), color=cb_dark_blue, label='Han Shot First')\n",
    "ax3.bar(np.arange(6)+.6, first_greedo[rankings_cols].mean(), color=cb_orange, label='Greedo Shot First')\n",
    "ax4.bar(np.arange(6)+.6, first_greedo[films_seen].sum(), color=cb_orange, label='Greedo Shot First')\n",
    "ax5.bar(np.arange(6)+.6, first_huh[rankings_cols].mean(), color=tab_green, label='What?')\n",
    "ax6.bar(np.arange(6)+.6, first_huh[films_seen].sum(), color=tab_green, label='What?')\n",
    "\n",
    "axes = [ax1, ax2, ax3, ax4, ax5, ax6]\n",
    "for ax in [ax1, ax3, ax5]:\n",
    "    ax.set_yticks(np.arange(0, 6, step=1))\n",
    "    ax.set_title('Average Rankings')\n",
    "for ax in [ax2, ax4, ax6]:\n",
    "    ax.set_yticks(np.arange(0, 600, step=150))\n",
    "    ax.set_title('Count Of Number of Movies Seen')\n",
    "    ax.legend(loc='upper right', frameon=False)\n",
    "for ax in axes:\n",
    "    for key,spine in ax.spines.items():\n",
    "        spine.set_visible(False)\n",
    "    ax.tick_params(bottom=\"off\", top=\"off\", left=\"off\", right=\"off\")\n",
    "    ax.set_xlim(0.3, 6.5)\n",
    "    ax.set_xlabel('Episode Number')\n",
    "    \n",
    "plt.show()"
   ]
  },
  {
   "cell_type": "markdown",
   "metadata": {},
   "source": [
    "From the above, it appears that while about twice the number of people selected Han as who shot first than Greedo, for the rankings and number of movies seen, both of these groups follow similar patterns to the general patterns we saw above.  Episode 5 is ranked the best, while Episode 3 is ranked the worst.  The original trilogy is ranked higher than the prequels.  Episodes 5 and 6 are viewed more than all of the other episodes.\n",
    "\n",
    "However, for the group that didn't understand the question, the patterns are a bit different.  In the rankings, Episode 1 ranks almost as well as Episode 5, and we do not see the big difference in the rankings of the original trilogy versus the prequels."
   ]
  },
  {
   "cell_type": "code",
   "execution_count": 22,
   "metadata": {},
   "outputs": [
    {
     "data": {
      "text/plain": [
       "array(['18-29', '30-44', '> 60', '45-60', nan], dtype=object)"
      ]
     },
     "execution_count": 22,
     "metadata": {},
     "output_type": "execute_result"
    }
   ],
   "source": [
    "first_han['Age'].unique()"
   ]
  },
  {
   "cell_type": "code",
   "execution_count": 23,
   "metadata": {},
   "outputs": [
    {
     "data": {
      "image/png": "[encoded data removed]",
      "text/plain": [
       "<Figure size 720x720 with 1 Axes>"
      ]
     },
     "metadata": {},
     "output_type": "display_data"
    }
   ],
   "source": [
    "import seaborn as sns\n",
    "sns.set_style('white')\n",
    "\n",
    "fig, ax = plt.subplots(figsize=(10,10))\n",
    "sns.countplot(x='Age', hue='who_shot_first', data=star_wars, \n",
    "                   order=['18-29','30-44', '45-60', '> 60'])\n",
    "sns.despine(left=True, bottom=True)\n",
    "plt.show()"
   ]
  },
  {
   "cell_type": "markdown",
   "metadata": {},
   "source": [
    "From the above, we can see that Han generally wins out across the age groups.  However, with older populations, there are many more respondents who do not know what this question is referring to, and in the oldest group, there is almost an even split between Han and Greedo."
   ]
  },
  {
   "cell_type": "code",
   "execution_count": 24,
   "metadata": {},
   "outputs": [],
   "source": [
    "favorable = {'Neither favorably nor unfavorably (neutral)': 'Neutral',\n",
    "             'Very favorably': 'Very favorably',\n",
    "             'Somewhat favorably': 'Somewhat favorably',\n",
    "             'Somewhat unfavorably': 'Somewhat unfavorably',\n",
    "             'Very unfavorably': 'Very unfavorably',\n",
    "             'Unfamiliar (N/A)': 'Unfamiliar'}"
   ]
  },
  {
   "cell_type": "code",
   "execution_count": 25,
   "metadata": {},
   "outputs": [
    {
     "data": {
      "text/plain": [
       "array(['Very favorably', nan, 'Somewhat favorably', 'Neutral',\n",
       "       'Somewhat unfavorably', 'Unfamiliar', 'Very unfavorably'],\n",
       "      dtype=object)"
      ]
     },
     "execution_count": 25,
     "metadata": {},
     "output_type": "execute_result"
    }
   ],
   "source": [
    "star_wars['character_han'] = star_wars['character_han'].map(favorable)\n",
    "star_wars['character_han'].unique()"
   ]
  },
  {
   "cell_type": "code",
   "execution_count": 26,
   "metadata": {},
   "outputs": [
    {
     "data": {
      "image/png": "[encoded data removed]",
      "text/plain": [
       "<Figure size 720x720 with 1 Axes>"
      ]
     },
     "metadata": {},
     "output_type": "display_data"
    }
   ],
   "source": [
    "fig, ax = plt.subplots(figsize=(10,10))\n",
    "sns.countplot(x='character_han', hue='who_shot_first', data=star_wars,\n",
    "             order=['Very favorably', 'Somewhat favorably', 'Neutral', 'Somewhat unfavorably', 'Very unfavorably', 'Unfamiliar'])\n",
    "plt.xticks(rotation=45)\n",
    "sns.despine(left=True, bottom=True)\n",
    "plt.show()"
   ]
  },
  {
   "cell_type": "markdown",
   "metadata": {},
   "source": [
    "Overall, most respondents viewed Han favorably, especially those who believe Han shot first."
   ]
  },
  {
   "cell_type": "markdown",
   "metadata": {
    "collapsed": true
   },
   "source": [
    "## Characters\n",
    "\n",
    "Finally, let's look at how the characters are viewed by the respondents.  which are viewed most favorably or least favorably?  Which are more controversial and have people on both sides?"
   ]
  },
  {
   "cell_type": "code",
   "execution_count": 27,
   "metadata": {},
   "outputs": [],
   "source": [
    "# our character columns\n",
    "characters = ['character_han', 'character_luke', 'character_leia', 'character_anakin',\n",
    "              'character_obi_wan', 'character_palpatine', 'character_vader',\n",
    "              'character_lando', 'character_boba_fett', 'character_c3po',\n",
    "              'character_r2d2', 'character_jar_jar', 'character_padme',\n",
    "              'character_yoda']\n",
    "\n",
    "# let's clean up these other character columns\n",
    "# perform the same mapping we did on all the other characters as we did for Han\n",
    "for char in characters[1:]:\n",
    "    star_wars[char] = star_wars[char].map(favorable)"
   ]
  },
  {
   "cell_type": "code",
   "execution_count": 28,
   "metadata": {},
   "outputs": [],
   "source": [
    "very_favor = pd.DataFrame()\n",
    "very_unfavor = pd.DataFrame()\n",
    "for char in characters:\n",
    "    very_favor[char] = star_wars[char].map({'Very favorably': 1})\n",
    "    very_unfavor[char] = star_wars[char].map({'Very unfavorably': 1})"
   ]
  },
  {
   "cell_type": "code",
   "execution_count": 29,
   "metadata": {},
   "outputs": [
    {
     "data": {
      "text/plain": [
       "character_han          610\n",
       "character_luke         552\n",
       "character_leia         547\n",
       "character_anakin       245\n",
       "character_obi_wan      591\n",
       "character_palpatine    110\n",
       "character_vader        310\n",
       "character_lando        142\n",
       "character_boba_fett    138\n",
       "character_c3po         474\n",
       "character_r2d2         562\n",
       "character_jar_jar      112\n",
       "character_padme        168\n",
       "character_yoda         605\n",
       "dtype: int64"
      ]
     },
     "execution_count": 29,
     "metadata": {},
     "output_type": "execute_result"
    }
   ],
   "source": [
    "very_favor.count()"
   ]
  },
  {
   "cell_type": "code",
   "execution_count": 30,
   "metadata": {},
   "outputs": [
    {
     "data": {
      "text/plain": [
       "character_han            1\n",
       "character_luke           3\n",
       "character_leia           6\n",
       "character_anakin        39\n",
       "character_obi_wan        7\n",
       "character_palpatine    124\n",
       "character_vader        149\n",
       "character_lando          8\n",
       "character_boba_fett     45\n",
       "character_c3po           7\n",
       "character_r2d2           6\n",
       "character_jar_jar      204\n",
       "character_padme         34\n",
       "character_yoda           8\n",
       "dtype: int64"
      ]
     },
     "execution_count": 30,
     "metadata": {},
     "output_type": "execute_result"
    }
   ],
   "source": [
    "very_unfavor.count()"
   ]
  },
  {
   "cell_type": "markdown",
   "metadata": {},
   "source": [
    "From the above tables, the most well liked characters are Han, Luke, Leia, Obi Wan, R2 D2 and Yoda.  The least liked characters are Emperor Palpatine, Darth Vader, and Jar Jar Binks.\n",
    "\n",
    "What is interesting is that the most disliked characters also have a large number of respondents that viewed them favorably."
   ]
  },
  {
   "cell_type": "code",
   "execution_count": 31,
   "metadata": {},
   "outputs": [
    {
     "data": {
      "image/png": "[encoded data removed]",
      "text/plain": [
       "<Figure size 720x720 with 1 Axes>"
      ]
     },
     "metadata": {},
     "output_type": "display_data"
    }
   ],
   "source": [
    "# review character_palpatine more closely\n",
    "fig, ax = plt.subplots(figsize=(10,10))\n",
    "sns.countplot(x='character_palpatine', data=star_wars,\n",
    "             order=['Very favorably', 'Somewhat favorably', 'Neutral', 'Somewhat unfavorably', 'Very unfavorably', 'Unfamiliar'])\n",
    "plt.xticks(rotation=45)\n",
    "sns.despine(left=True, bottom=True)\n",
    "plt.show()"
   ]
  },
  {
   "cell_type": "markdown",
   "metadata": {},
   "source": [
    "For Emperor Palpatine, we can see that a lot of respondents either were unfamiliar or were neutral on him, but those who viewed him in one extreme or the other were split pretty evenly."
   ]
  },
  {
   "cell_type": "code",
   "execution_count": 32,
   "metadata": {},
   "outputs": [
    {
     "data": {
      "image/png": "[encoded data removed]",
      "text/plain": [
       "<Figure size 720x720 with 1 Axes>"
      ]
     },
     "metadata": {},
     "output_type": "display_data"
    }
   ],
   "source": [
    "# review character_vader more closely\n",
    "fig, ax = plt.subplots(figsize=(10,10))\n",
    "sns.countplot(x='character_vader', data=star_wars,\n",
    "             order=['Very favorably', 'Somewhat favorably', 'Neutral', 'Somewhat unfavorably', 'Very unfavorably', 'Unfamiliar'])\n",
    "plt.xticks(rotation=45)\n",
    "sns.despine(left=True, bottom=True)\n",
    "plt.show()"
   ]
  },
  {
   "cell_type": "markdown",
   "metadata": {},
   "source": [
    "For Darth Vader, there is a different pattern.  Overall, he is viewed favorably, even though he has the second highest count of those that view him very unfavorably.  Most respondents had an opinion on him, and a much smaller number were neutral than with Emperor Palpatine."
   ]
  },
  {
   "cell_type": "code",
   "execution_count": 33,
   "metadata": {},
   "outputs": [
    {
     "data": {
      "image/png": "[encoded data removed]",
      "text/plain": [
       "<Figure size 720x720 with 1 Axes>"
      ]
     },
     "metadata": {},
     "output_type": "display_data"
    }
   ],
   "source": [
    "# review character_jar_jar more closely\n",
    "fig, ax = plt.subplots(figsize=(10,10))\n",
    "sns.countplot(x='character_jar_jar', data=star_wars,\n",
    "             order=['Very favorably', 'Somewhat favorably', 'Neutral', 'Somewhat unfavorably', 'Very unfavorably', 'Unfamiliar'])\n",
    "plt.xticks(rotation=45)\n",
    "sns.despine(left=True, bottom=True)\n",
    "plt.show()"
   ]
  },
  {
   "cell_type": "markdown",
   "metadata": {},
   "source": [
    "This graph for Jar Jar Binks represents a different pattern of sentiments.  Apart from Emperor Palpatine, this is the only character where the very unfavorable ratings outweigh the very favorable ones.  In this case, the very unfavorable are almost double that of the very favorable.\n",
    "\n",
    "These findings are in line with general public sentiment that Jar Jar Binks was one of the worst, most annoying characters in the Star Wars universe.  This character was criticized by both fans and critics, and he even received the Worst Supporting Actor award at the Razzie Awards."
   ]
  }
 ],
 "metadata": {
  "kernelspec": {
   "display_name": "Python 3",
   "language": "python",
   "name": "python3"
  },
  "language_info": {
   "codemirror_mode": {
    "name": "ipython",
    "version": 3
   },
   "file_extension": ".py",
   "mimetype": "text/x-python",
   "name": "python",
   "nbconvert_exporter": "python",
   "pygments_lexer": "ipython3",
   "version": "3.6.5"
  }
 },
 "nbformat": 4,
 "nbformat_minor": 1
}
