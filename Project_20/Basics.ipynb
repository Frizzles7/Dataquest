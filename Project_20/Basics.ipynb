{
 "cells": [
  {
   "cell_type": "markdown",
   "metadata": {
    "collapsed": true
   },
   "source": [
    "# Predicting Bike Rentals in DC\n",
    "\n",
    "We have data on bike rentals by hour in Washington, DC for 2011 and 2012.  This data is available for download from the University of California Irvine's [website](http://archive.ics.uci.edu/ml/datasets/Bike+Sharing+Dataset).\n",
    "\n",
    "The columns we have available to work with are summarized below:\n",
    "\n",
    "- `instant`: record id number\n",
    "- `dteday`: date\n",
    "- `season`: season (1:spring, 2:summer, 3:fall, 4:winter)\n",
    "- `yr`: year (0: 2011, 1:2012)\n",
    "- `mnth`: month ( 1 to 12)\n",
    "- `hr`: hour (0 to 23)\n",
    "- `holiday`: whether the day is a holiday or not\n",
    "- `weekday`: day of the week\n",
    "- `workingday`: if day is neither weekend nor holiday is 1, otherwise is 0.\n",
    "- `weathersit`: \n",
    "    - 1: Clear, Few clouds, Partly cloudy, Partly cloudy\n",
    "    - 2: Mist + Cloudy, Mist + Broken clouds, Mist + Few clouds, Mist\n",
    "    - 3: Light Snow, Light Rain + Thunderstorm + Scattered clouds, Light Rain + Scattered clouds\n",
    "    - 4: Heavy Rain + Ice Pallets + Thunderstorm + Mist, Snow + Fog\n",
    "- `temp`: Normalized temperature in degrees Celsius (0 to 1)\n",
    "- `atemp`: Normalized adjusted temperature in degrees Celsius (0 to 1)\n",
    "- `hum`: Normalized humidity (0 to 1)\n",
    "- `windspeed`: Normalized wind speed (0 to 1)\n",
    "- `casual`: count of casual users\n",
    "- `registered`: count of registered users\n",
    "- `cnt`: count of total rental bikes (casual + registered)\n",
    "\n",
    "Our goal is to use the data available to predict the total number of bikes rented in a given hour.  (Note that we cannot use `casual` or `registered` in this prediction as `cnt` = `casual` + `registered`.)"
   ]
  },
  {
   "cell_type": "code",
   "execution_count": 1,
   "metadata": {
    "collapsed": false
   },
   "outputs": [],
   "source": [
    "# imports\n",
    "import numpy as np\n",
    "import pandas as pd\n",
    "import matplotlib.pyplot as plt\n",
    "%matplotlib inline\n",
    "import seaborn as sns\n",
    "sns.set_style('white')"
   ]
  },
  {
   "cell_type": "markdown",
   "metadata": {},
   "source": [
    "## Initial Data\n",
    "\n",
    "Let's begin by reading in our data and reviewing what we have."
   ]
  },
  {
   "cell_type": "code",
   "execution_count": 2,
   "metadata": {
    "collapsed": false
   },
   "outputs": [
    {
     "data": {
      "text/html": [
       "<div>\n",
       "<style scoped>\n",
       "    .dataframe tbody tr th:only-of-type {\n",
       "        vertical-align: middle;\n",
       "    }\n",
       "\n",
       "    .dataframe tbody tr th {\n",
       "        vertical-align: top;\n",
       "    }\n",
       "\n",
       "    .dataframe thead th {\n",
       "        text-align: right;\n",
       "    }\n",
       "</style>\n",
       "<table border=\"1\" class=\"dataframe\">\n",
       "  <thead>\n",
       "    <tr style=\"text-align: right;\">\n",
       "      <th></th>\n",
       "      <th>instant</th>\n",
       "      <th>dteday</th>\n",
       "      <th>season</th>\n",
       "      <th>yr</th>\n",
       "      <th>mnth</th>\n",
       "      <th>hr</th>\n",
       "      <th>holiday</th>\n",
       "      <th>weekday</th>\n",
       "      <th>workingday</th>\n",
       "      <th>weathersit</th>\n",
       "      <th>temp</th>\n",
       "      <th>atemp</th>\n",
       "      <th>hum</th>\n",
       "      <th>windspeed</th>\n",
       "      <th>casual</th>\n",
       "      <th>registered</th>\n",
       "      <th>cnt</th>\n",
       "    </tr>\n",
       "  </thead>\n",
       "  <tbody>\n",
       "    <tr>\n",
       "      <th>0</th>\n",
       "      <td>1</td>\n",
       "      <td>2011-01-01</td>\n",
       "      <td>1</td>\n",
       "      <td>0</td>\n",
       "      <td>1</td>\n",
       "      <td>0</td>\n",
       "      <td>0</td>\n",
       "      <td>6</td>\n",
       "      <td>0</td>\n",
       "      <td>1</td>\n",
       "      <td>0.24</td>\n",
       "      <td>0.2879</td>\n",
       "      <td>0.81</td>\n",
       "      <td>0.0</td>\n",
       "      <td>3</td>\n",
       "      <td>13</td>\n",
       "      <td>16</td>\n",
       "    </tr>\n",
       "    <tr>\n",
       "      <th>1</th>\n",
       "      <td>2</td>\n",
       "      <td>2011-01-01</td>\n",
       "      <td>1</td>\n",
       "      <td>0</td>\n",
       "      <td>1</td>\n",
       "      <td>1</td>\n",
       "      <td>0</td>\n",
       "      <td>6</td>\n",
       "      <td>0</td>\n",
       "      <td>1</td>\n",
       "      <td>0.22</td>\n",
       "      <td>0.2727</td>\n",
       "      <td>0.80</td>\n",
       "      <td>0.0</td>\n",
       "      <td>8</td>\n",
       "      <td>32</td>\n",
       "      <td>40</td>\n",
       "    </tr>\n",
       "    <tr>\n",
       "      <th>2</th>\n",
       "      <td>3</td>\n",
       "      <td>2011-01-01</td>\n",
       "      <td>1</td>\n",
       "      <td>0</td>\n",
       "      <td>1</td>\n",
       "      <td>2</td>\n",
       "      <td>0</td>\n",
       "      <td>6</td>\n",
       "      <td>0</td>\n",
       "      <td>1</td>\n",
       "      <td>0.22</td>\n",
       "      <td>0.2727</td>\n",
       "      <td>0.80</td>\n",
       "      <td>0.0</td>\n",
       "      <td>5</td>\n",
       "      <td>27</td>\n",
       "      <td>32</td>\n",
       "    </tr>\n",
       "    <tr>\n",
       "      <th>3</th>\n",
       "      <td>4</td>\n",
       "      <td>2011-01-01</td>\n",
       "      <td>1</td>\n",
       "      <td>0</td>\n",
       "      <td>1</td>\n",
       "      <td>3</td>\n",
       "      <td>0</td>\n",
       "      <td>6</td>\n",
       "      <td>0</td>\n",
       "      <td>1</td>\n",
       "      <td>0.24</td>\n",
       "      <td>0.2879</td>\n",
       "      <td>0.75</td>\n",
       "      <td>0.0</td>\n",
       "      <td>3</td>\n",
       "      <td>10</td>\n",
       "      <td>13</td>\n",
       "    </tr>\n",
       "    <tr>\n",
       "      <th>4</th>\n",
       "      <td>5</td>\n",
       "      <td>2011-01-01</td>\n",
       "      <td>1</td>\n",
       "      <td>0</td>\n",
       "      <td>1</td>\n",
       "      <td>4</td>\n",
       "      <td>0</td>\n",
       "      <td>6</td>\n",
       "      <td>0</td>\n",
       "      <td>1</td>\n",
       "      <td>0.24</td>\n",
       "      <td>0.2879</td>\n",
       "      <td>0.75</td>\n",
       "      <td>0.0</td>\n",
       "      <td>0</td>\n",
       "      <td>1</td>\n",
       "      <td>1</td>\n",
       "    </tr>\n",
       "  </tbody>\n",
       "</table>\n",
       "</div>"
      ],
      "text/plain": [
       "   instant      dteday  season  yr  mnth  hr  holiday  weekday  workingday  \\\n",
       "0        1  2011-01-01       1   0     1   0        0        6           0   \n",
       "1        2  2011-01-01       1   0     1   1        0        6           0   \n",
       "2        3  2011-01-01       1   0     1   2        0        6           0   \n",
       "3        4  2011-01-01       1   0     1   3        0        6           0   \n",
       "4        5  2011-01-01       1   0     1   4        0        6           0   \n",
       "\n",
       "   weathersit  temp   atemp   hum  windspeed  casual  registered  cnt  \n",
       "0           1  0.24  0.2879  0.81        0.0       3          13   16  \n",
       "1           1  0.22  0.2727  0.80        0.0       8          32   40  \n",
       "2           1  0.22  0.2727  0.80        0.0       5          27   32  \n",
       "3           1  0.24  0.2879  0.75        0.0       3          10   13  \n",
       "4           1  0.24  0.2879  0.75        0.0       0           1    1  "
      ]
     },
     "execution_count": 2,
     "metadata": {},
     "output_type": "execute_result"
    }
   ],
   "source": [
    "# read in our data\n",
    "bike_rentals = pd.read_csv('bike_rental_hour.csv')\n",
    "bike_rentals.head()"
   ]
  },
  {
   "cell_type": "code",
   "execution_count": 3,
   "metadata": {
    "collapsed": false
   },
   "outputs": [
    {
     "name": "stdout",
     "output_type": "stream",
     "text": [
      "<class 'pandas.core.frame.DataFrame'>\n",
      "RangeIndex: 17379 entries, 0 to 17378\n",
      "Data columns (total 17 columns):\n",
      "instant       17379 non-null int64\n",
      "dteday        17379 non-null object\n",
      "season        17379 non-null int64\n",
      "yr            17379 non-null int64\n",
      "mnth          17379 non-null int64\n",
      "hr            17379 non-null int64\n",
      "holiday       17379 non-null int64\n",
      "weekday       17379 non-null int64\n",
      "workingday    17379 non-null int64\n",
      "weathersit    17379 non-null int64\n",
      "temp          17379 non-null float64\n",
      "atemp         17379 non-null float64\n",
      "hum           17379 non-null float64\n",
      "windspeed     17379 non-null float64\n",
      "casual        17379 non-null int64\n",
      "registered    17379 non-null int64\n",
      "cnt           17379 non-null int64\n",
      "dtypes: float64(4), int64(12), object(1)\n",
      "memory usage: 2.3+ MB\n"
     ]
    }
   ],
   "source": [
    "bike_rentals.info()"
   ]
  },
  {
   "cell_type": "code",
   "execution_count": 4,
   "metadata": {
    "collapsed": false
   },
   "outputs": [
    {
     "data": {
      "text/html": [
       "<div>\n",
       "<style scoped>\n",
       "    .dataframe tbody tr th:only-of-type {\n",
       "        vertical-align: middle;\n",
       "    }\n",
       "\n",
       "    .dataframe tbody tr th {\n",
       "        vertical-align: top;\n",
       "    }\n",
       "\n",
       "    .dataframe thead th {\n",
       "        text-align: right;\n",
       "    }\n",
       "</style>\n",
       "<table border=\"1\" class=\"dataframe\">\n",
       "  <thead>\n",
       "    <tr style=\"text-align: right;\">\n",
       "      <th></th>\n",
       "      <th>instant</th>\n",
       "      <th>season</th>\n",
       "      <th>yr</th>\n",
       "      <th>mnth</th>\n",
       "      <th>hr</th>\n",
       "      <th>holiday</th>\n",
       "      <th>weekday</th>\n",
       "      <th>workingday</th>\n",
       "      <th>weathersit</th>\n",
       "      <th>temp</th>\n",
       "      <th>atemp</th>\n",
       "      <th>hum</th>\n",
       "      <th>windspeed</th>\n",
       "      <th>casual</th>\n",
       "      <th>registered</th>\n",
       "      <th>cnt</th>\n",
       "    </tr>\n",
       "  </thead>\n",
       "  <tbody>\n",
       "    <tr>\n",
       "      <th>count</th>\n",
       "      <td>17379.0000</td>\n",
       "      <td>17379.000000</td>\n",
       "      <td>17379.000000</td>\n",
       "      <td>17379.000000</td>\n",
       "      <td>17379.000000</td>\n",
       "      <td>17379.000000</td>\n",
       "      <td>17379.000000</td>\n",
       "      <td>17379.000000</td>\n",
       "      <td>17379.000000</td>\n",
       "      <td>17379.000000</td>\n",
       "      <td>17379.000000</td>\n",
       "      <td>17379.000000</td>\n",
       "      <td>17379.000000</td>\n",
       "      <td>17379.000000</td>\n",
       "      <td>17379.000000</td>\n",
       "      <td>17379.000000</td>\n",
       "    </tr>\n",
       "    <tr>\n",
       "      <th>mean</th>\n",
       "      <td>8690.0000</td>\n",
       "      <td>2.501640</td>\n",
       "      <td>0.502561</td>\n",
       "      <td>6.537775</td>\n",
       "      <td>11.546752</td>\n",
       "      <td>0.028770</td>\n",
       "      <td>3.003683</td>\n",
       "      <td>0.682721</td>\n",
       "      <td>1.425283</td>\n",
       "      <td>0.496987</td>\n",
       "      <td>0.475775</td>\n",
       "      <td>0.627229</td>\n",
       "      <td>0.190098</td>\n",
       "      <td>35.676218</td>\n",
       "      <td>153.786869</td>\n",
       "      <td>189.463088</td>\n",
       "    </tr>\n",
       "    <tr>\n",
       "      <th>std</th>\n",
       "      <td>5017.0295</td>\n",
       "      <td>1.106918</td>\n",
       "      <td>0.500008</td>\n",
       "      <td>3.438776</td>\n",
       "      <td>6.914405</td>\n",
       "      <td>0.167165</td>\n",
       "      <td>2.005771</td>\n",
       "      <td>0.465431</td>\n",
       "      <td>0.639357</td>\n",
       "      <td>0.192556</td>\n",
       "      <td>0.171850</td>\n",
       "      <td>0.192930</td>\n",
       "      <td>0.122340</td>\n",
       "      <td>49.305030</td>\n",
       "      <td>151.357286</td>\n",
       "      <td>181.387599</td>\n",
       "    </tr>\n",
       "    <tr>\n",
       "      <th>min</th>\n",
       "      <td>1.0000</td>\n",
       "      <td>1.000000</td>\n",
       "      <td>0.000000</td>\n",
       "      <td>1.000000</td>\n",
       "      <td>0.000000</td>\n",
       "      <td>0.000000</td>\n",
       "      <td>0.000000</td>\n",
       "      <td>0.000000</td>\n",
       "      <td>1.000000</td>\n",
       "      <td>0.020000</td>\n",
       "      <td>0.000000</td>\n",
       "      <td>0.000000</td>\n",
       "      <td>0.000000</td>\n",
       "      <td>0.000000</td>\n",
       "      <td>0.000000</td>\n",
       "      <td>1.000000</td>\n",
       "    </tr>\n",
       "    <tr>\n",
       "      <th>25%</th>\n",
       "      <td>4345.5000</td>\n",
       "      <td>2.000000</td>\n",
       "      <td>0.000000</td>\n",
       "      <td>4.000000</td>\n",
       "      <td>6.000000</td>\n",
       "      <td>0.000000</td>\n",
       "      <td>1.000000</td>\n",
       "      <td>0.000000</td>\n",
       "      <td>1.000000</td>\n",
       "      <td>0.340000</td>\n",
       "      <td>0.333300</td>\n",
       "      <td>0.480000</td>\n",
       "      <td>0.104500</td>\n",
       "      <td>4.000000</td>\n",
       "      <td>34.000000</td>\n",
       "      <td>40.000000</td>\n",
       "    </tr>\n",
       "    <tr>\n",
       "      <th>50%</th>\n",
       "      <td>8690.0000</td>\n",
       "      <td>3.000000</td>\n",
       "      <td>1.000000</td>\n",
       "      <td>7.000000</td>\n",
       "      <td>12.000000</td>\n",
       "      <td>0.000000</td>\n",
       "      <td>3.000000</td>\n",
       "      <td>1.000000</td>\n",
       "      <td>1.000000</td>\n",
       "      <td>0.500000</td>\n",
       "      <td>0.484800</td>\n",
       "      <td>0.630000</td>\n",
       "      <td>0.194000</td>\n",
       "      <td>17.000000</td>\n",
       "      <td>115.000000</td>\n",
       "      <td>142.000000</td>\n",
       "    </tr>\n",
       "    <tr>\n",
       "      <th>75%</th>\n",
       "      <td>13034.5000</td>\n",
       "      <td>3.000000</td>\n",
       "      <td>1.000000</td>\n",
       "      <td>10.000000</td>\n",
       "      <td>18.000000</td>\n",
       "      <td>0.000000</td>\n",
       "      <td>5.000000</td>\n",
       "      <td>1.000000</td>\n",
       "      <td>2.000000</td>\n",
       "      <td>0.660000</td>\n",
       "      <td>0.621200</td>\n",
       "      <td>0.780000</td>\n",
       "      <td>0.253700</td>\n",
       "      <td>48.000000</td>\n",
       "      <td>220.000000</td>\n",
       "      <td>281.000000</td>\n",
       "    </tr>\n",
       "    <tr>\n",
       "      <th>max</th>\n",
       "      <td>17379.0000</td>\n",
       "      <td>4.000000</td>\n",
       "      <td>1.000000</td>\n",
       "      <td>12.000000</td>\n",
       "      <td>23.000000</td>\n",
       "      <td>1.000000</td>\n",
       "      <td>6.000000</td>\n",
       "      <td>1.000000</td>\n",
       "      <td>4.000000</td>\n",
       "      <td>1.000000</td>\n",
       "      <td>1.000000</td>\n",
       "      <td>1.000000</td>\n",
       "      <td>0.850700</td>\n",
       "      <td>367.000000</td>\n",
       "      <td>886.000000</td>\n",
       "      <td>977.000000</td>\n",
       "    </tr>\n",
       "  </tbody>\n",
       "</table>\n",
       "</div>"
      ],
      "text/plain": [
       "          instant        season            yr          mnth            hr  \\\n",
       "count  17379.0000  17379.000000  17379.000000  17379.000000  17379.000000   \n",
       "mean    8690.0000      2.501640      0.502561      6.537775     11.546752   \n",
       "std     5017.0295      1.106918      0.500008      3.438776      6.914405   \n",
       "min        1.0000      1.000000      0.000000      1.000000      0.000000   \n",
       "25%     4345.5000      2.000000      0.000000      4.000000      6.000000   \n",
       "50%     8690.0000      3.000000      1.000000      7.000000     12.000000   \n",
       "75%    13034.5000      3.000000      1.000000     10.000000     18.000000   \n",
       "max    17379.0000      4.000000      1.000000     12.000000     23.000000   \n",
       "\n",
       "            holiday       weekday    workingday    weathersit          temp  \\\n",
       "count  17379.000000  17379.000000  17379.000000  17379.000000  17379.000000   \n",
       "mean       0.028770      3.003683      0.682721      1.425283      0.496987   \n",
       "std        0.167165      2.005771      0.465431      0.639357      0.192556   \n",
       "min        0.000000      0.000000      0.000000      1.000000      0.020000   \n",
       "25%        0.000000      1.000000      0.000000      1.000000      0.340000   \n",
       "50%        0.000000      3.000000      1.000000      1.000000      0.500000   \n",
       "75%        0.000000      5.000000      1.000000      2.000000      0.660000   \n",
       "max        1.000000      6.000000      1.000000      4.000000      1.000000   \n",
       "\n",
       "              atemp           hum     windspeed        casual    registered  \\\n",
       "count  17379.000000  17379.000000  17379.000000  17379.000000  17379.000000   \n",
       "mean       0.475775      0.627229      0.190098     35.676218    153.786869   \n",
       "std        0.171850      0.192930      0.122340     49.305030    151.357286   \n",
       "min        0.000000      0.000000      0.000000      0.000000      0.000000   \n",
       "25%        0.333300      0.480000      0.104500      4.000000     34.000000   \n",
       "50%        0.484800      0.630000      0.194000     17.000000    115.000000   \n",
       "75%        0.621200      0.780000      0.253700     48.000000    220.000000   \n",
       "max        1.000000      1.000000      0.850700    367.000000    886.000000   \n",
       "\n",
       "                cnt  \n",
       "count  17379.000000  \n",
       "mean     189.463088  \n",
       "std      181.387599  \n",
       "min        1.000000  \n",
       "25%       40.000000  \n",
       "50%      142.000000  \n",
       "75%      281.000000  \n",
       "max      977.000000  "
      ]
     },
     "execution_count": 4,
     "metadata": {},
     "output_type": "execute_result"
    }
   ],
   "source": [
    "bike_rentals.describe()"
   ]
  },
  {
   "cell_type": "code",
   "execution_count": 5,
   "metadata": {
    "collapsed": false
   },
   "outputs": [
    {
     "data": {
      "image/png": "[encoded data removed]",
      "text/plain": [
       "<matplotlib.figure.Figure at 0x7ff8b59c4dd8>"
      ]
     },
     "metadata": {},
     "output_type": "display_data"
    }
   ],
   "source": [
    "# review distribution of cnt in histogram\n",
    "ax = sns.distplot(bike_rentals['cnt'], bins=10, kde=False)\n",
    "sns.despine()"
   ]
  },
  {
   "cell_type": "markdown",
   "metadata": {},
   "source": [
    "From the above histogram, we can see that low counts of bike rentals are the most common.  Larger counts of bike rentals on a given day occur less frequently.\n",
    "\n",
    "We can also review the features in our data to determine which are correlated with our target variable `cnt`.  Let's develop the correlation matrix.  We can also better view the correlations using a heatmap."
   ]
  },
  {
   "cell_type": "code",
   "execution_count": 6,
   "metadata": {
    "collapsed": false
   },
   "outputs": [],
   "source": [
    "# drop columns we will not be using (index, date, and the breakdowns of cnt)\n",
    "bike_rentals = bike_rentals.drop(['instant', 'dteday', 'casual', 'registered'], axis=1)"
   ]
  },
  {
   "cell_type": "code",
   "execution_count": 7,
   "metadata": {
    "collapsed": false
   },
   "outputs": [
    {
     "data": {
      "text/plain": [
       "cnt           1.000000\n",
       "temp          0.404772\n",
       "atemp         0.400929\n",
       "hr            0.394071\n",
       "yr            0.250495\n",
       "season        0.178056\n",
       "mnth          0.120638\n",
       "windspeed     0.093234\n",
       "workingday    0.030284\n",
       "weekday       0.026900\n",
       "holiday      -0.030927\n",
       "weathersit   -0.142426\n",
       "hum          -0.322911\n",
       "Name: cnt, dtype: float64"
      ]
     },
     "execution_count": 7,
     "metadata": {},
     "output_type": "execute_result"
    }
   ],
   "source": [
    "# calculate correlations of numeric columns with cnt\n",
    "corr_with_cnt = bike_rentals.corr()['cnt'].sort_values(ascending=False)\n",
    "corr_with_cnt"
   ]
  },
  {
   "cell_type": "code",
   "execution_count": 8,
   "metadata": {
    "collapsed": false
   },
   "outputs": [
    {
     "data": {
      "text/plain": [
       "<matplotlib.axes._subplots.AxesSubplot at 0x7ff8b590a588>"
      ]
     },
     "execution_count": 8,
     "metadata": {},
     "output_type": "execute_result"
    },
    {
     "data": {
      "image/png": "[encoded data removed]",
      "text/plain": [
       "<matplotlib.figure.Figure at 0x7ff8b59f6390>"
      ]
     },
     "metadata": {},
     "output_type": "display_data"
    }
   ],
   "source": [
    "# create a correlation heatmap of the numerical features\n",
    "corr_matrix = bike_rentals.corr()\n",
    "sns.heatmap(corr_matrix)"
   ]
  },
  {
   "cell_type": "markdown",
   "metadata": {},
   "source": [
    "While it does not appear that any of the features are strongly correlated with `cnt`, there are some features that are highly correlated to each other.\n",
    "\n",
    "Specifically, `mnth` appears to be highly correlated with `season`.  This makes sense, as both of these features are dependent on the calendar.  While they may be highly correlated, the months do not exactly line up with the seasons, as some months will have days in two seasons.\n",
    "\n",
    "Another example is `temp` and `atemp`.  The adjusted temperature is how warm or cold it actually feels.  This is definitely going to be highly correlated with the temperatue.\n",
    "\n",
    "We can look more closely at how correlated these features are by looking at the actual values in the correlation matrix.  If features are too strongly correlated, we may need to remove them before modeling."
   ]
  },
  {
   "cell_type": "code",
   "execution_count": 9,
   "metadata": {
    "collapsed": false
   },
   "outputs": [
    {
     "data": {
      "text/html": [
       "<div>\n",
       "<style scoped>\n",
       "    .dataframe tbody tr th:only-of-type {\n",
       "        vertical-align: middle;\n",
       "    }\n",
       "\n",
       "    .dataframe tbody tr th {\n",
       "        vertical-align: top;\n",
       "    }\n",
       "\n",
       "    .dataframe thead th {\n",
       "        text-align: right;\n",
       "    }\n",
       "</style>\n",
       "<table border=\"1\" class=\"dataframe\">\n",
       "  <thead>\n",
       "    <tr style=\"text-align: right;\">\n",
       "      <th></th>\n",
       "      <th>mnth</th>\n",
       "      <th>temp</th>\n",
       "    </tr>\n",
       "  </thead>\n",
       "  <tbody>\n",
       "    <tr>\n",
       "      <th>season</th>\n",
       "      <td>0.830386</td>\n",
       "      <td>0.312025</td>\n",
       "    </tr>\n",
       "    <tr>\n",
       "      <th>yr</th>\n",
       "      <td>-0.010473</td>\n",
       "      <td>0.040913</td>\n",
       "    </tr>\n",
       "    <tr>\n",
       "      <th>mnth</th>\n",
       "      <td>1.000000</td>\n",
       "      <td>0.201691</td>\n",
       "    </tr>\n",
       "    <tr>\n",
       "      <th>hr</th>\n",
       "      <td>-0.005772</td>\n",
       "      <td>0.137603</td>\n",
       "    </tr>\n",
       "    <tr>\n",
       "      <th>holiday</th>\n",
       "      <td>0.018430</td>\n",
       "      <td>-0.027340</td>\n",
       "    </tr>\n",
       "    <tr>\n",
       "      <th>weekday</th>\n",
       "      <td>0.010400</td>\n",
       "      <td>-0.001795</td>\n",
       "    </tr>\n",
       "    <tr>\n",
       "      <th>workingday</th>\n",
       "      <td>-0.003477</td>\n",
       "      <td>0.055390</td>\n",
       "    </tr>\n",
       "    <tr>\n",
       "      <th>weathersit</th>\n",
       "      <td>0.005400</td>\n",
       "      <td>-0.102640</td>\n",
       "    </tr>\n",
       "    <tr>\n",
       "      <th>temp</th>\n",
       "      <td>0.201691</td>\n",
       "      <td>1.000000</td>\n",
       "    </tr>\n",
       "    <tr>\n",
       "      <th>atemp</th>\n",
       "      <td>0.208096</td>\n",
       "      <td>0.987672</td>\n",
       "    </tr>\n",
       "    <tr>\n",
       "      <th>hum</th>\n",
       "      <td>0.164411</td>\n",
       "      <td>-0.069881</td>\n",
       "    </tr>\n",
       "    <tr>\n",
       "      <th>windspeed</th>\n",
       "      <td>-0.135386</td>\n",
       "      <td>-0.023125</td>\n",
       "    </tr>\n",
       "    <tr>\n",
       "      <th>cnt</th>\n",
       "      <td>0.120638</td>\n",
       "      <td>0.404772</td>\n",
       "    </tr>\n",
       "  </tbody>\n",
       "</table>\n",
       "</div>"
      ],
      "text/plain": [
       "                mnth      temp\n",
       "season      0.830386  0.312025\n",
       "yr         -0.010473  0.040913\n",
       "mnth        1.000000  0.201691\n",
       "hr         -0.005772  0.137603\n",
       "holiday     0.018430 -0.027340\n",
       "weekday     0.010400 -0.001795\n",
       "workingday -0.003477  0.055390\n",
       "weathersit  0.005400 -0.102640\n",
       "temp        0.201691  1.000000\n",
       "atemp       0.208096  0.987672\n",
       "hum         0.164411 -0.069881\n",
       "windspeed  -0.135386 -0.023125\n",
       "cnt         0.120638  0.404772"
      ]
     },
     "execution_count": 9,
     "metadata": {},
     "output_type": "execute_result"
    }
   ],
   "source": [
    "# review some of the features with strongest correlations\n",
    "corr_matrix[['mnth', 'temp']]"
   ]
  },
  {
   "cell_type": "markdown",
   "metadata": {},
   "source": [
    "The features `mnth` and `season` have a correlation of 0.83. `temp` and `atemp` are extremely highly correlated at 0.99.  If we are performing linear regressions, we do not want to include highly correlated features to avoid issues with multicollinearity.  These high correlations may also be a problem with decision tree models, as they can be very sensitive to small changes in the training data.  Random forest models, however, are robust to correlated variables."
   ]
  },
  {
   "cell_type": "markdown",
   "metadata": {},
   "source": [
    "## Creating New Features\n",
    "\n",
    "Let's create a new feature for time of day to group the `hr` feature.  This will provide some order and relation between the hours by bundling similar hours together.\n",
    "\n",
    "We can create the following:\n",
    "- 1: morning (`hr` from 6 to 12)\n",
    "- 2: afternoon (`hr` from 12 to 18)\n",
    "- 3: evening (`hr` from 18 to 24)\n",
    "- 4: night (`hr` from 0 to 6)"
   ]
  },
  {
   "cell_type": "code",
   "execution_count": 10,
   "metadata": {
    "collapsed": true
   },
   "outputs": [],
   "source": [
    "# create function to assign label for time of day based on hour\n",
    "def create_label(hour):\n",
    "    if hour < 6:\n",
    "        return 4\n",
    "    elif hour < 12:\n",
    "        return 1\n",
    "    elif hour < 18:\n",
    "        return 2\n",
    "    else:\n",
    "        return 3"
   ]
  },
  {
   "cell_type": "code",
   "execution_count": 11,
   "metadata": {
    "collapsed": false
   },
   "outputs": [
    {
     "data": {
      "text/plain": [
       "2    4375\n",
       "3    4368\n",
       "1    4360\n",
       "4    4276\n",
       "Name: time_of_day, dtype: int64"
      ]
     },
     "execution_count": 11,
     "metadata": {},
     "output_type": "execute_result"
    }
   ],
   "source": [
    "# apply the function to hour to create time_of_day\n",
    "bike_rentals['time_of_day'] = bike_rentals['hr'].apply(create_label)\n",
    "bike_rentals['time_of_day'].value_counts()"
   ]
  },
  {
   "cell_type": "markdown",
   "metadata": {},
   "source": [
    "## Error Metric\n",
    "\n",
    "To evaluate our models, we will need to choose an error metric.  Root mean squared error (RMSE) makes the most sense, as it works for continuous, numerical data.  It punishes large errors (due to the squaring).  Using the RMSE, rather than just MSE, our error metric will be in understandable units (rather than squared units)."
   ]
  },
  {
   "cell_type": "markdown",
   "metadata": {},
   "source": [
    "## Train and Test Data\n",
    "\n",
    "Now let's split our data into training data and testing data.  We will use an 80/20 split for the data."
   ]
  },
  {
   "cell_type": "code",
   "execution_count": 12,
   "metadata": {
    "collapsed": true
   },
   "outputs": [],
   "source": [
    "# select a random sample of 80% of the data for train\n",
    "train = bike_rentals.sample(frac=0.80, random_state=1)"
   ]
  },
  {
   "cell_type": "code",
   "execution_count": 13,
   "metadata": {
    "collapsed": true
   },
   "outputs": [],
   "source": [
    "# the remainder of our data will be assigned to test\n",
    "test = bike_rentals.loc[~bike_rentals.index.isin(train.index)]"
   ]
  },
  {
   "cell_type": "markdown",
   "metadata": {},
   "source": [
    "## Modeling\n",
    "\n",
    "Now we can begin to evaluate different models for our data.  We can consider a linear regression model, a decision tree, and a random forest."
   ]
  },
  {
   "cell_type": "code",
   "execution_count": 14,
   "metadata": {
    "collapsed": true
   },
   "outputs": [],
   "source": [
    "# imports for modeling\n",
    "from sklearn.metrics import mean_squared_error\n",
    "from sklearn.linear_model import LinearRegression\n",
    "from sklearn.tree import DecisionTreeRegressor\n",
    "from sklearn.ensemble import RandomForestRegressor"
   ]
  },
  {
   "cell_type": "code",
   "execution_count": 15,
   "metadata": {
    "collapsed": false
   },
   "outputs": [],
   "source": [
    "# create full features and trimmed features columns lists\n",
    "full_features = bike_rentals.columns.drop(['cnt'])\n",
    "trim_features = full_features.drop(['atemp', 'season', 'time_of_day'])\n",
    "# create target\n",
    "target = ['cnt']"
   ]
  },
  {
   "cell_type": "markdown",
   "metadata": {},
   "source": [
    "### Linear Regression\n",
    "\n",
    "The first model we will investigate is linear regression.  We will train the model on the train subset of data and evaluate its performance on the test subset using the RMSE metric.  We can look at the performance using all of the features (full_features) as well as a trimmed down list of features (trim_features) that removes some features that are highly correlated."
   ]
  },
  {
   "cell_type": "code",
   "execution_count": 16,
   "metadata": {
    "collapsed": false
   },
   "outputs": [
    {
     "data": {
      "text/plain": [
       "130.5946379586095"
      ]
     },
     "execution_count": 16,
     "metadata": {},
     "output_type": "execute_result"
    }
   ],
   "source": [
    "# linear regression model - full_features\n",
    "reg_full = LinearRegression()\n",
    "reg_full.fit(train[full_features], train[target])\n",
    "predictions_reg_full = reg_full.predict(test[full_features])\n",
    "rmse_reg_full = np.sqrt(mean_squared_error(test[target], predictions_reg_full))\n",
    "rmse_reg_full"
   ]
  },
  {
   "cell_type": "code",
   "execution_count": 17,
   "metadata": {
    "collapsed": false
   },
   "outputs": [
    {
     "data": {
      "text/plain": [
       "140.48506359704018"
      ]
     },
     "execution_count": 17,
     "metadata": {},
     "output_type": "execute_result"
    }
   ],
   "source": [
    "# linear regression model - trim_features\n",
    "reg_trim = LinearRegression()\n",
    "reg_trim.fit(train[trim_features], train[target])\n",
    "predictions_reg_trim = reg_trim.predict(test[trim_features])\n",
    "rmse_reg_trim = np.sqrt(mean_squared_error(test[target], predictions_reg_trim))\n",
    "rmse_reg_trim"
   ]
  },
  {
   "cell_type": "markdown",
   "metadata": {},
   "source": [
    "The RMSE is very high, given that the average `cnt` is about 189.  There are very few high rental count observations, and these may be causing higher errors."
   ]
  },
  {
   "cell_type": "markdown",
   "metadata": {},
   "source": [
    "### Decision Tree\n",
    "\n",
    "The next model to investigate is the decision tree.  Since this model can tend to overfit, we will want to experiment with different parameters for the model."
   ]
  },
  {
   "cell_type": "code",
   "execution_count": 18,
   "metadata": {
    "collapsed": false
   },
   "outputs": [
    {
     "data": {
      "text/plain": [
       "57.97565806011068"
      ]
     },
     "execution_count": 18,
     "metadata": {},
     "output_type": "execute_result"
    }
   ],
   "source": [
    "# initial decision tree model\n",
    "tree = DecisionTreeRegressor(random_state=1)\n",
    "tree.fit(train[full_features], train[target])\n",
    "predictions_tree = tree.predict(test[full_features])\n",
    "rmse_tree = np.sqrt(mean_squared_error(test[target], predictions_tree))\n",
    "rmse_tree"
   ]
  },
  {
   "cell_type": "markdown",
   "metadata": {},
   "source": [
    "This is a dramatic improvement in the RMSE metric!  Let's look at how the RMSE changes as we change different parameters of the model."
   ]
  },
  {
   "cell_type": "code",
   "execution_count": 19,
   "metadata": {
    "collapsed": false
   },
   "outputs": [
    {
     "data": {
      "text/plain": [
       "[(2, 57.97565806011068),\n",
       " (5, 56.997213191917815),\n",
       " (10, 56.19078990059445),\n",
       " (15, 55.719288465901236),\n",
       " (19, 54.60297531998544),\n",
       " (20, 54.313162075195166),\n",
       " (21, 54.36780553619447),\n",
       " (25, 54.573509341155976),\n",
       " (30, 55.15049154117209)]"
      ]
     },
     "execution_count": 19,
     "metadata": {},
     "output_type": "execute_result"
    }
   ],
   "source": [
    "# decision tree with min_samples_split\n",
    "rmse_min_samples_split = {}\n",
    "min_samples = [2, 5, 10, 15, 19, 20, 21, 25, 30]\n",
    "for i in min_samples:\n",
    "    tree = DecisionTreeRegressor(random_state=1, min_samples_split=i)\n",
    "    tree.fit(train[full_features], train[target])\n",
    "    predictions_tree = tree.predict(test[full_features])\n",
    "    rmse_tree = np.sqrt(mean_squared_error(test[target], predictions_tree))\n",
    "    rmse_min_samples_split[i] = rmse_tree\n",
    "best_rmse = sorted(rmse_min_samples_split.items(), key=lambda x: x[0])\n",
    "best_rmse"
   ]
  },
  {
   "cell_type": "markdown",
   "metadata": {},
   "source": [
    "We can improve our model by selecting a min_samples_split of 20.  Let's look at a few other possible parameters."
   ]
  },
  {
   "cell_type": "code",
   "execution_count": 20,
   "metadata": {
    "collapsed": false
   },
   "outputs": [
    {
     "data": {
      "text/plain": [
       "[(2, 55.59598927568774),\n",
       " (3, 55.89001382245454),\n",
       " (4, 55.16303948153995),\n",
       " (5, 55.05035825499082),\n",
       " (6, 54.17769259278429),\n",
       " (7, 53.7507355557973),\n",
       " (8, 53.78616690331471),\n",
       " (9, 54.02273704283459),\n",
       " (10, 54.32212883787292),\n",
       " (11, 54.60780814059192),\n",
       " (12, 54.96747222160683),\n",
       " (13, 54.54490934443157),\n",
       " (14, 55.31462834286756),\n",
       " (15, 56.95157268280956)]"
      ]
     },
     "execution_count": 20,
     "metadata": {},
     "output_type": "execute_result"
    }
   ],
   "source": [
    "# decision tree with min_samples_leaf\n",
    "rmse_min_samples_leaf = {}\n",
    "for i in range(2,16):\n",
    "    tree = DecisionTreeRegressor(random_state=1, min_samples_leaf=i)\n",
    "    tree.fit(train[full_features], train[target])\n",
    "    predictions_tree = tree.predict(test[full_features])\n",
    "    rmse_tree = np.sqrt(mean_squared_error(test[target], predictions_tree))\n",
    "    rmse_min_samples_leaf[i] = rmse_tree\n",
    "best_rmse = sorted(rmse_min_samples_leaf.items(), key=lambda x: x[0])\n",
    "best_rmse"
   ]
  },
  {
   "cell_type": "markdown",
   "metadata": {},
   "source": [
    "We can also improve our model by selecting a min_samples_leaf of 7.  Let's look at a few other possible parameters."
   ]
  },
  {
   "cell_type": "code",
   "execution_count": 21,
   "metadata": {
    "collapsed": false
   },
   "outputs": [
    {
     "data": {
      "text/plain": [
       "[(10, 60.840960731021426),\n",
       " (20, 58.36418174897915),\n",
       " (30, 58.015912364254405),\n",
       " (40, 57.97565806011068),\n",
       " (50, 57.97565806011068)]"
      ]
     },
     "execution_count": 21,
     "metadata": {},
     "output_type": "execute_result"
    }
   ],
   "source": [
    "# decision tree with max_depth\n",
    "rmse_max_depth = {}\n",
    "max_depth = [10, 20, 30, 40, 50]\n",
    "for i in max_depth:\n",
    "    tree = DecisionTreeRegressor(random_state=1, max_depth=i)\n",
    "    tree.fit(train[full_features], train[target])\n",
    "    predictions_tree = tree.predict(test[full_features])\n",
    "    rmse_tree = np.sqrt(mean_squared_error(test[target], predictions_tree))\n",
    "    rmse_max_depth[i] = rmse_tree\n",
    "best_rmse = sorted(rmse_max_depth.items(), key=lambda x: x[0])\n",
    "best_rmse"
   ]
  },
  {
   "cell_type": "markdown",
   "metadata": {},
   "source": [
    "This parameter does not help us reduce our error metric."
   ]
  },
  {
   "cell_type": "code",
   "execution_count": 22,
   "metadata": {
    "collapsed": false
   },
   "outputs": [
    {
     "data": {
      "text/plain": [
       "[(4, 86.50469266290851),\n",
       " (5, 69.83847311752886),\n",
       " (6, 66.62582945636014),\n",
       " (7, 61.56085895746686),\n",
       " (8, 64.38070754078619),\n",
       " (9, 63.44899322354692),\n",
       " (10, 61.026230471196484),\n",
       " (11, 60.39386750222012),\n",
       " (12, 59.9406387884375),\n",
       " (13, 57.97565806011068)]"
      ]
     },
     "execution_count": 22,
     "metadata": {},
     "output_type": "execute_result"
    }
   ],
   "source": [
    "# decision tree with max_features\n",
    "rmse_max_features = {}\n",
    "for i in range(4,14):\n",
    "    tree = DecisionTreeRegressor(random_state=1, max_features=i)\n",
    "    tree.fit(train[full_features], train[target])\n",
    "    predictions_tree = tree.predict(test[full_features])\n",
    "    rmse_tree = np.sqrt(mean_squared_error(test[target], predictions_tree))\n",
    "    rmse_max_features[i] = rmse_tree\n",
    "best_rmse = sorted(rmse_max_features.items(), key=lambda x: x[0])\n",
    "best_rmse"
   ]
  },
  {
   "cell_type": "markdown",
   "metadata": {},
   "source": [
    "This metric also does not help us reduce our error metric.  Note that removing any of the features will not improve our model, so we can use full_features rather than trim_features."
   ]
  },
  {
   "cell_type": "markdown",
   "metadata": {},
   "source": [
    "The best option of the parameters above was min_samples_leaf of 7, where we obtained a RMSE of 53.7507355557973.  However, min_samples_split also helped to reduce our error.  Can we combine these two parameters to do any better? "
   ]
  },
  {
   "cell_type": "code",
   "execution_count": 23,
   "metadata": {
    "collapsed": false
   },
   "outputs": [
    {
     "data": {
      "text/plain": [
       "[(15, 53.79422569212631),\n",
       " (16, 54.02228622149228),\n",
       " (17, 53.98082297752051),\n",
       " (18, 53.65105390261412),\n",
       " (19, 53.48434806203951),\n",
       " (20, 53.463535169583814),\n",
       " (21, 53.72239100886752),\n",
       " (22, 53.67445271178587),\n",
       " (23, 53.991758358203874),\n",
       " (24, 53.938468255320494)]"
      ]
     },
     "execution_count": 23,
     "metadata": {},
     "output_type": "execute_result"
    }
   ],
   "source": [
    "# decision tree with min_samples_leaf of 7 and min_samples_split\n",
    "rmse_min_samples_combined = {}\n",
    "for i in range(15,25):\n",
    "    tree = DecisionTreeRegressor(random_state=1, min_samples_leaf=7, \n",
    "                                 min_samples_split=i)\n",
    "    tree.fit(train[full_features], train[target])\n",
    "    predictions_tree = tree.predict(test[full_features])\n",
    "    rmse_tree = np.sqrt(mean_squared_error(test[target], predictions_tree))\n",
    "    rmse_min_samples_combined[i] = rmse_tree\n",
    "best_rmse = sorted(rmse_min_samples_combined.items(), key=lambda x: x[0])\n",
    "best_rmse"
   ]
  },
  {
   "cell_type": "markdown",
   "metadata": {},
   "source": [
    "If we use min_samples_leaf of 7 and min_samples_split of 20, our RMSE gets down to 53.463535169583814.  By limiting the minimum number of samples required to be at a leaf node and limiting the number of samples required to split an internal node, we can reduce the overfitting of the model."
   ]
  },
  {
   "cell_type": "code",
   "execution_count": 24,
   "metadata": {
    "collapsed": false
   },
   "outputs": [
    {
     "data": {
      "text/plain": [
       "53.463535169583814"
      ]
     },
     "execution_count": 24,
     "metadata": {},
     "output_type": "execute_result"
    }
   ],
   "source": [
    "# resulting decision tree model\n",
    "tree = DecisionTreeRegressor(random_state=1, min_samples_leaf=7, \n",
    "                             min_samples_split=20)\n",
    "tree.fit(train[full_features], train[target])\n",
    "predictions_tree = tree.predict(test[full_features])\n",
    "rmse_tree = np.sqrt(mean_squared_error(test[target], predictions_tree))\n",
    "rmse_tree"
   ]
  },
  {
   "cell_type": "markdown",
   "metadata": {},
   "source": [
    "### Random Forest Model\n",
    "\n",
    "The next model to investigate is the random forest model.  We will also want to investigate the parameters for this model, similar to what we did for the decision tree model."
   ]
  },
  {
   "cell_type": "code",
   "execution_count": 25,
   "metadata": {
    "collapsed": false
   },
   "outputs": [
    {
     "data": {
      "text/plain": [
       "46.410854139612844"
      ]
     },
     "execution_count": 25,
     "metadata": {},
     "output_type": "execute_result"
    }
   ],
   "source": [
    "# initial random forest model\n",
    "forest = RandomForestRegressor(random_state=1)\n",
    "forest.fit(train[full_features], train['cnt'])\n",
    "predictions_forest = forest.predict(test[full_features])\n",
    "rmse_forest = np.sqrt(mean_squared_error(test['cnt'], predictions_forest))\n",
    "rmse_forest"
   ]
  },
  {
   "cell_type": "markdown",
   "metadata": {},
   "source": [
    "The random forest model has improved even more over the decision tree model!  Let's investigate the various parameters to see if this can be improved."
   ]
  },
  {
   "cell_type": "code",
   "execution_count": 26,
   "metadata": {
    "collapsed": false
   },
   "outputs": [
    {
     "data": {
      "text/plain": [
       "[(2, 46.410854139612844),\n",
       " (3, 46.26999125273833),\n",
       " (4, 46.48561594576344),\n",
       " (5, 46.19711762106733),\n",
       " (6, 46.345604229814036),\n",
       " (7, 46.07129911180877),\n",
       " (8, 46.20043856815267),\n",
       " (9, 46.24524018973908),\n",
       " (10, 46.53877101254192)]"
      ]
     },
     "execution_count": 26,
     "metadata": {},
     "output_type": "execute_result"
    }
   ],
   "source": [
    "# random forest with min_samples_split\n",
    "rmse_min_samples_split = {}\n",
    "for i in range(2, 11):\n",
    "    forest = RandomForestRegressor(random_state=1, min_samples_split=i)\n",
    "    forest.fit(train[full_features], train['cnt'])\n",
    "    predictions_forest = forest.predict(test[full_features])\n",
    "    rmse_forest = np.sqrt(mean_squared_error(test['cnt'], predictions_forest))\n",
    "    rmse_min_samples_split[i] = rmse_forest\n",
    "best_rmse = sorted(rmse_min_samples_split.items(), key=lambda x: x[0])\n",
    "best_rmse"
   ]
  },
  {
   "cell_type": "markdown",
   "metadata": {},
   "source": [
    "We can improve upon the initial model by using min_samples_split of 7.  Let's also look at min_samples_leaf."
   ]
  },
  {
   "cell_type": "code",
   "execution_count": 27,
   "metadata": {
    "collapsed": false
   },
   "outputs": [
    {
     "data": {
      "text/plain": [
       "[(1, 46.410854139612844),\n",
       " (2, 45.38966197968034),\n",
       " (3, 46.10076678151248),\n",
       " (4, 46.89796536941684),\n",
       " (5, 47.9265012702772),\n",
       " (6, 48.48029103122137)]"
      ]
     },
     "execution_count": 27,
     "metadata": {},
     "output_type": "execute_result"
    }
   ],
   "source": [
    "# random forest with min_samples_leaf\n",
    "rmse_min_samples_leaf = {}\n",
    "for i in range(1, 7):\n",
    "    forest = RandomForestRegressor(random_state=1, min_samples_leaf=i)\n",
    "    forest.fit(train[full_features], train['cnt'])\n",
    "    predictions_forest = forest.predict(test[full_features])\n",
    "    rmse_forest = np.sqrt(mean_squared_error(test['cnt'], predictions_forest))\n",
    "    rmse_min_samples_leaf[i] = rmse_forest\n",
    "best_rmse = sorted(rmse_min_samples_leaf.items(), key=lambda x: x[0])\n",
    "best_rmse"
   ]
  },
  {
   "cell_type": "markdown",
   "metadata": {},
   "source": [
    "We can improve even more by setting min_samples_leaf to 2 (rather than allowing it to go to 1).  Let's see if we can improve this even further by combining min_samples_leaf and min_samples_split."
   ]
  },
  {
   "cell_type": "code",
   "execution_count": 28,
   "metadata": {
    "collapsed": false
   },
   "outputs": [
    {
     "data": {
      "text/plain": [
       "[(2, 45.38966197968034),\n",
       " (3, 45.38966197968034),\n",
       " (4, 45.38966197968034),\n",
       " (5, 45.414912453515356),\n",
       " (6, 45.63293858216443),\n",
       " (7, 45.55807381778391),\n",
       " (8, 45.931893075268846),\n",
       " (9, 46.164557017340734),\n",
       " (10, 46.38386619832955)]"
      ]
     },
     "execution_count": 28,
     "metadata": {},
     "output_type": "execute_result"
    }
   ],
   "source": [
    "# random forest with min_samples_leaf = 2 and min_samples_split\n",
    "rmse_min_samples_combined = {}\n",
    "for i in range(2, 11):\n",
    "    forest = RandomForestRegressor(random_state=1, min_samples_leaf=2, \n",
    "                                   min_samples_split=i)\n",
    "    forest.fit(train[full_features], train['cnt'])\n",
    "    predictions_forest = forest.predict(test[full_features])\n",
    "    rmse_forest = np.sqrt(mean_squared_error(test['cnt'], predictions_forest))\n",
    "    rmse_min_samples_combined[i] = rmse_forest\n",
    "best_rmse = sorted(rmse_min_samples_combined.items(), key=lambda x: x[0])\n",
    "best_rmse"
   ]
  },
  {
   "cell_type": "markdown",
   "metadata": {},
   "source": [
    "We don't do any better this time by combining the two parameters.  45.38966197968034 was still the minimum RMSE.  By setting min_samples_leaf, we reduce the overfitting of the model."
   ]
  },
  {
   "cell_type": "code",
   "execution_count": 29,
   "metadata": {
    "collapsed": false
   },
   "outputs": [
    {
     "data": {
      "text/plain": [
       "45.38966197968034"
      ]
     },
     "execution_count": 29,
     "metadata": {},
     "output_type": "execute_result"
    }
   ],
   "source": [
    "# resulting random forest model\n",
    "forest = RandomForestRegressor(random_state=1, min_samples_leaf=2)\n",
    "forest.fit(train[full_features], train['cnt'])\n",
    "predictions_forest = forest.predict(test[full_features])\n",
    "rmse_forest = np.sqrt(mean_squared_error(test['cnt'], predictions_forest))\n",
    "rmse_forest"
   ]
  },
  {
   "cell_type": "markdown",
   "metadata": {},
   "source": [
    "Overall, we see that the decision tree model was able to significantly improve over the linear regression model.  The random forest was able to improve even further over the decision tree model.  In addition, by modifying some of the parameters, we reduced the overfitting of the model and improved the accuracy."
   ]
  }
 ],
 "metadata": {
  "kernelspec": {
   "display_name": "Python 3",
   "language": "python",
   "name": "python3"
  },
  "language_info": {
   "codemirror_mode": {
    "name": "ipython",
    "version": 3
   },
   "file_extension": ".py",
   "mimetype": "text/x-python",
   "name": "python",
   "nbconvert_exporter": "python",
   "pygments_lexer": "ipython3",
   "version": "3.4.3"
  }
 },
 "nbformat": 4,
 "nbformat_minor": 0
}
