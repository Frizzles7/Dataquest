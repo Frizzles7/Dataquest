{
 "cells": [
  {
   "cell_type": "markdown",
   "metadata": {
    "collapsed": true
   },
   "source": [
    "## Overview\n",
    "Working with a dataset on births.  The data contains the following fields:\n",
    "\n",
    " - `year` - Year of birth (1994 to 2003)\n",
    " - `month` - Month of birth (1-January to 12-December)\n",
    " - `date_of_month` - Date number of the month of birth (1 to 31)\n",
    " - `day_of_week` - Day of week of birth (1-Monday to 7-Sunday)\n",
    " - `births` - Number of births on that day"
   ]
  },
  {
   "cell_type": "code",
   "execution_count": 1,
   "metadata": {
    "collapsed": true
   },
   "outputs": [],
   "source": [
    "# open and read the file\n",
    "f = open('US_births_1994-2003_CDC_NCHS.csv', 'r')\n",
    "data = f.read()"
   ]
  },
  {
   "cell_type": "code",
   "execution_count": 2,
   "metadata": {
    "collapsed": false
   },
   "outputs": [
    {
     "name": "stdout",
     "output_type": "stream",
     "text": [
      "['year,month,date_of_month,day_of_week,births', '1994,1,1,6,8096', '1994,1,2,7,7772', '1994,1,3,1,10142', '1994,1,4,2,11248', '1994,1,5,3,11053', '1994,1,6,4,11406', '1994,1,7,5,11251', '1994,1,8,6,8653', '1994,1,9,7,7910']\n"
     ]
    }
   ],
   "source": [
    "# split data by new line and print first 10 entries\n",
    "split_data = data.split('\\n')\n",
    "print(split_data[0:10])"
   ]
  },
  {
   "cell_type": "code",
   "execution_count": 3,
   "metadata": {
    "collapsed": true
   },
   "outputs": [],
   "source": [
    "# create a function to convert the dataset into a list of lists\n",
    "# want integers, not strings, in the lists\n",
    "def read_csv(input_filename):\n",
    "    f = open(input_filename, 'r')\n",
    "    data = f.read()\n",
    "    split_data = data.split('\\n')\n",
    "    string_list = split_data[1:]\n",
    "    final_list = []\n",
    "    for item in string_list:\n",
    "        int_fields = []\n",
    "        string_fields = item.split(',')\n",
    "        for i in string_fields:\n",
    "            int_fields.append(int(i))\n",
    "        final_list.append(int_fields)\n",
    "    return final_list"
   ]
  },
  {
   "cell_type": "code",
   "execution_count": 4,
   "metadata": {
    "collapsed": true
   },
   "outputs": [],
   "source": [
    "# use function to convert the file\n",
    "cdc_list = read_csv('US_births_1994-2003_CDC_NCHS.csv')"
   ]
  },
  {
   "cell_type": "code",
   "execution_count": 5,
   "metadata": {
    "collapsed": false
   },
   "outputs": [
    {
     "name": "stdout",
     "output_type": "stream",
     "text": [
      "[[1994, 1, 1, 6, 8096], [1994, 1, 2, 7, 7772], [1994, 1, 3, 1, 10142], [1994, 1, 4, 2, 11248], [1994, 1, 5, 3, 11053], [1994, 1, 6, 4, 11406], [1994, 1, 7, 5, 11251], [1994, 1, 8, 6, 8653], [1994, 1, 9, 7, 7910], [1994, 1, 10, 1, 10498]]\n"
     ]
    }
   ],
   "source": [
    "# confirm list of lists, all integer values, no header row\n",
    "print(cdc_list[0:10])"
   ]
  },
  {
   "cell_type": "code",
   "execution_count": 6,
   "metadata": {
    "collapsed": true
   },
   "outputs": [],
   "source": [
    "# create a function to calculate total number of births by month\n",
    "def month_births(input_list):\n",
    "    births_per_month = {}\n",
    "    for item in input_list:\n",
    "        month = item[1]\n",
    "        births = item[4]\n",
    "        if month in births_per_month:\n",
    "            births_per_month[month] += births\n",
    "        else:\n",
    "            births_per_month[month] = births\n",
    "    return births_per_month"
   ]
  },
  {
   "cell_type": "code",
   "execution_count": 7,
   "metadata": {
    "collapsed": false
   },
   "outputs": [
    {
     "name": "stdout",
     "output_type": "stream",
     "text": [
      "{1: 3232517, 2: 3018140, 3: 3322069, 4: 3185314, 5: 3350907, 6: 3296530, 7: 3498783, 8: 3525858, 9: 3439698, 10: 3378814, 11: 3171647, 12: 3301860}\n"
     ]
    }
   ],
   "source": [
    "# apply the above function to the dataset\n",
    "cdc_month_births = month_births(cdc_list)\n",
    "print(cdc_month_births)"
   ]
  },
  {
   "cell_type": "code",
   "execution_count": 8,
   "metadata": {
    "collapsed": true
   },
   "outputs": [],
   "source": [
    "# create a function to calculate total number of births by day of the week\n",
    "def dow_births(input_list):\n",
    "    births_per_dow = {}\n",
    "    for item in input_list:\n",
    "        dow = item[3]\n",
    "        births = item[4]\n",
    "        if dow in births_per_dow:\n",
    "            births_per_dow[dow] += births\n",
    "        else:\n",
    "            births_per_dow[dow] = births\n",
    "    return births_per_dow"
   ]
  },
  {
   "cell_type": "code",
   "execution_count": 9,
   "metadata": {
    "collapsed": false
   },
   "outputs": [
    {
     "name": "stdout",
     "output_type": "stream",
     "text": [
      "{1: 5789166, 2: 6446196, 3: 6322855, 4: 6288429, 5: 6233657, 6: 4562111, 7: 4079723}\n"
     ]
    }
   ],
   "source": [
    "# apply the above function to the dataset\n",
    "cdc_day_births = dow_births(cdc_list)\n",
    "print(cdc_day_births)"
   ]
  },
  {
   "cell_type": "code",
   "execution_count": 10,
   "metadata": {
    "collapsed": true
   },
   "outputs": [],
   "source": [
    "# create a more general function to calculate totals for any column\n",
    "# data is a list of lists\n",
    "# column is the column number \n",
    "# (0=year, 1=month, 2=date_of_month, 3=day_of_week)\n",
    "def calc_counts(data, column):\n",
    "    counts = {}\n",
    "    for item in data:\n",
    "        key = item[column]\n",
    "        births = item[4]\n",
    "        if key in counts:\n",
    "            counts[key] += births\n",
    "        else:\n",
    "            counts[key] = births\n",
    "    return counts"
   ]
  },
  {
   "cell_type": "code",
   "execution_count": 11,
   "metadata": {
    "collapsed": true
   },
   "outputs": [],
   "source": [
    "# use the general function to create counts for each column\n",
    "cdc_year_births = calc_counts(cdc_list, 0)\n",
    "cdc_month_births = calc_counts(cdc_list, 1)\n",
    "cdc_dom_births = calc_counts(cdc_list, 2)\n",
    "cdc_dow_births = calc_counts(cdc_list, 3)"
   ]
  },
  {
   "cell_type": "code",
   "execution_count": 13,
   "metadata": {
    "collapsed": false,
    "scrolled": true
   },
   "outputs": [
    {
     "data": {
      "text/plain": [
       "({1994: 3952767,\n",
       "  1995: 3899589,\n",
       "  1996: 3891494,\n",
       "  1997: 3880894,\n",
       "  1998: 3941553,\n",
       "  1999: 3959417,\n",
       "  2000: 4058814,\n",
       "  2001: 4025933,\n",
       "  2002: 4021726,\n",
       "  2003: 4089950},\n",
       " {1: 3232517,\n",
       "  2: 3018140,\n",
       "  3: 3322069,\n",
       "  4: 3185314,\n",
       "  5: 3350907,\n",
       "  6: 3296530,\n",
       "  7: 3498783,\n",
       "  8: 3525858,\n",
       "  9: 3439698,\n",
       "  10: 3378814,\n",
       "  11: 3171647,\n",
       "  12: 3301860},\n",
       " {1: 1276557,\n",
       "  2: 1288739,\n",
       "  3: 1304499,\n",
       "  4: 1288154,\n",
       "  5: 1299953,\n",
       "  6: 1304474,\n",
       "  7: 1310459,\n",
       "  8: 1312297,\n",
       "  9: 1303292,\n",
       "  10: 1320764,\n",
       "  11: 1314361,\n",
       "  12: 1318437,\n",
       "  13: 1277684,\n",
       "  14: 1320153,\n",
       "  15: 1319171,\n",
       "  16: 1315192,\n",
       "  17: 1324953,\n",
       "  18: 1326855,\n",
       "  19: 1318727,\n",
       "  20: 1324821,\n",
       "  21: 1322897,\n",
       "  22: 1317381,\n",
       "  23: 1293290,\n",
       "  24: 1288083,\n",
       "  25: 1272116,\n",
       "  26: 1284796,\n",
       "  27: 1294395,\n",
       "  28: 1307685,\n",
       "  29: 1223161,\n",
       "  30: 1202095,\n",
       "  31: 746696},\n",
       " {1: 5789166,\n",
       "  2: 6446196,\n",
       "  3: 6322855,\n",
       "  4: 6288429,\n",
       "  5: 6233657,\n",
       "  6: 4562111,\n",
       "  7: 4079723})"
      ]
     },
     "execution_count": 13,
     "metadata": {},
     "output_type": "execute_result"
    }
   ],
   "source": [
    "# review the dictionaries created\n",
    "cdc_year_births, cdc_month_births, cdc_dom_births, cdc_dow_births"
   ]
  },
  {
   "cell_type": "code",
   "execution_count": 16,
   "metadata": {
    "collapsed": true
   },
   "outputs": [],
   "source": [
    "# create a function to calculate the min and max values in a dictionary\n",
    "def min_max(mydict):\n",
    "    max = 0\n",
    "    for key in mydict:\n",
    "        if mydict[key] > max:\n",
    "            max = mydict[key]\n",
    "    min = max\n",
    "    for key in mydict:\n",
    "        if mydict[key] < min:\n",
    "            min = mydict[key]\n",
    "    return [min, max]"
   ]
  },
  {
   "cell_type": "code",
   "execution_count": 17,
   "metadata": {
    "collapsed": false
   },
   "outputs": [
    {
     "data": {
      "text/plain": [
       "[4079723, 6446196]"
      ]
     },
     "execution_count": 17,
     "metadata": {},
     "output_type": "execute_result"
    }
   ],
   "source": [
    "# apply min_max function to number of births by day of week\n",
    "min_max_dow = min_max(cdc_dow_births)\n",
    "min_max_dow"
   ]
  },
  {
   "cell_type": "code",
   "execution_count": 18,
   "metadata": {
    "collapsed": true
   },
   "outputs": [],
   "source": [
    "# determine how the number of births on Saturdays changed year over year\n",
    "def births_by_year_saturdays(data):\n",
    "    counts = {}\n",
    "    for item in data:\n",
    "        if item[3] == 6:\n",
    "            key = item[0]\n",
    "            births = item[4]\n",
    "            if key in counts:\n",
    "                counts[key] += births\n",
    "            else:\n",
    "                counts[key] = births\n",
    "    return counts"
   ]
  },
  {
   "cell_type": "code",
   "execution_count": 19,
   "metadata": {
    "collapsed": false
   },
   "outputs": [
    {
     "data": {
      "text/plain": [
       "{1994: 474732,\n",
       " 1995: 459580,\n",
       " 1996: 456261,\n",
       " 1997: 450840,\n",
       " 1998: 453776,\n",
       " 1999: 449985,\n",
       " 2000: 469794,\n",
       " 2001: 453928,\n",
       " 2002: 445770,\n",
       " 2003: 447445}"
      ]
     },
     "execution_count": 19,
     "metadata": {},
     "output_type": "execute_result"
    }
   ],
   "source": [
    "saturday_births = births_by_year_saturdays(cdc_list)\n",
    "saturday_births"
   ]
  },
  {
   "cell_type": "code",
   "execution_count": null,
   "metadata": {
    "collapsed": true
   },
   "outputs": [],
   "source": []
  }
 ],
 "metadata": {
  "anaconda-cloud": {},
  "kernelspec": {
   "display_name": "Python 3",
   "language": "python",
   "name": "python3"
  },
  "language_info": {
   "codemirror_mode": {
    "name": "ipython",
    "version": 3
   },
   "file_extension": ".py",
   "mimetype": "text/x-python",
   "name": "python",
   "nbconvert_exporter": "python",
   "pygments_lexer": "ipython3",
   "version": "3.4.3"
  }
 },
 "nbformat": 4,
 "nbformat_minor": 1
}
