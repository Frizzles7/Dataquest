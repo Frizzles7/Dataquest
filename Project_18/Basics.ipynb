{
 "cells": [
  {
   "cell_type": "markdown",
   "metadata": {
    "collapsed": true
   },
   "source": [
    "# Predicting House Sale Prices\n",
    "\n",
    "We will work with housing data for the city of Ames, Iowa from 2006 - 2010.  Information on this data is available [here](https://s3.amazonaws.com/dq-content/307/data_description.txt).\n",
    "\n",
    "We will use this data to practice different data preparation and linear regression techniques."
   ]
  },
  {
   "cell_type": "code",
   "execution_count": 1,
   "metadata": {
    "collapsed": true
   },
   "outputs": [],
   "source": [
    "# imports\n",
    "import numpy as np\n",
    "import pandas as pd\n",
    "import matplotlib.pyplot as plt\n",
    "%matplotlib inline\n",
    "plt.style.use('fivethirtyeight')\n",
    "import seaborn as sns\n",
    "from sklearn.linear_model import LinearRegression\n",
    "from sklearn.metrics import mean_squared_error\n",
    "from sklearn.model_selection import cross_val_score, KFold"
   ]
  },
  {
   "cell_type": "code",
   "execution_count": 2,
   "metadata": {
    "collapsed": false
   },
   "outputs": [
    {
     "data": {
      "text/html": [
       "<div>\n",
       "<style scoped>\n",
       "    .dataframe tbody tr th:only-of-type {\n",
       "        vertical-align: middle;\n",
       "    }\n",
       "\n",
       "    .dataframe tbody tr th {\n",
       "        vertical-align: top;\n",
       "    }\n",
       "\n",
       "    .dataframe thead th {\n",
       "        text-align: right;\n",
       "    }\n",
       "</style>\n",
       "<table border=\"1\" class=\"dataframe\">\n",
       "  <thead>\n",
       "    <tr style=\"text-align: right;\">\n",
       "      <th></th>\n",
       "      <th>Order</th>\n",
       "      <th>PID</th>\n",
       "      <th>MS SubClass</th>\n",
       "      <th>MS Zoning</th>\n",
       "      <th>Lot Frontage</th>\n",
       "      <th>Lot Area</th>\n",
       "      <th>Street</th>\n",
       "      <th>Alley</th>\n",
       "      <th>Lot Shape</th>\n",
       "      <th>Land Contour</th>\n",
       "      <th>...</th>\n",
       "      <th>Pool Area</th>\n",
       "      <th>Pool QC</th>\n",
       "      <th>Fence</th>\n",
       "      <th>Misc Feature</th>\n",
       "      <th>Misc Val</th>\n",
       "      <th>Mo Sold</th>\n",
       "      <th>Yr Sold</th>\n",
       "      <th>Sale Type</th>\n",
       "      <th>Sale Condition</th>\n",
       "      <th>SalePrice</th>\n",
       "    </tr>\n",
       "  </thead>\n",
       "  <tbody>\n",
       "    <tr>\n",
       "      <th>0</th>\n",
       "      <td>1</td>\n",
       "      <td>526301100</td>\n",
       "      <td>20</td>\n",
       "      <td>RL</td>\n",
       "      <td>141.0</td>\n",
       "      <td>31770</td>\n",
       "      <td>Pave</td>\n",
       "      <td>NaN</td>\n",
       "      <td>IR1</td>\n",
       "      <td>Lvl</td>\n",
       "      <td>...</td>\n",
       "      <td>0</td>\n",
       "      <td>NaN</td>\n",
       "      <td>NaN</td>\n",
       "      <td>NaN</td>\n",
       "      <td>0</td>\n",
       "      <td>5</td>\n",
       "      <td>2010</td>\n",
       "      <td>WD</td>\n",
       "      <td>Normal</td>\n",
       "      <td>215000</td>\n",
       "    </tr>\n",
       "    <tr>\n",
       "      <th>1</th>\n",
       "      <td>2</td>\n",
       "      <td>526350040</td>\n",
       "      <td>20</td>\n",
       "      <td>RH</td>\n",
       "      <td>80.0</td>\n",
       "      <td>11622</td>\n",
       "      <td>Pave</td>\n",
       "      <td>NaN</td>\n",
       "      <td>Reg</td>\n",
       "      <td>Lvl</td>\n",
       "      <td>...</td>\n",
       "      <td>0</td>\n",
       "      <td>NaN</td>\n",
       "      <td>MnPrv</td>\n",
       "      <td>NaN</td>\n",
       "      <td>0</td>\n",
       "      <td>6</td>\n",
       "      <td>2010</td>\n",
       "      <td>WD</td>\n",
       "      <td>Normal</td>\n",
       "      <td>105000</td>\n",
       "    </tr>\n",
       "    <tr>\n",
       "      <th>2</th>\n",
       "      <td>3</td>\n",
       "      <td>526351010</td>\n",
       "      <td>20</td>\n",
       "      <td>RL</td>\n",
       "      <td>81.0</td>\n",
       "      <td>14267</td>\n",
       "      <td>Pave</td>\n",
       "      <td>NaN</td>\n",
       "      <td>IR1</td>\n",
       "      <td>Lvl</td>\n",
       "      <td>...</td>\n",
       "      <td>0</td>\n",
       "      <td>NaN</td>\n",
       "      <td>NaN</td>\n",
       "      <td>Gar2</td>\n",
       "      <td>12500</td>\n",
       "      <td>6</td>\n",
       "      <td>2010</td>\n",
       "      <td>WD</td>\n",
       "      <td>Normal</td>\n",
       "      <td>172000</td>\n",
       "    </tr>\n",
       "    <tr>\n",
       "      <th>3</th>\n",
       "      <td>4</td>\n",
       "      <td>526353030</td>\n",
       "      <td>20</td>\n",
       "      <td>RL</td>\n",
       "      <td>93.0</td>\n",
       "      <td>11160</td>\n",
       "      <td>Pave</td>\n",
       "      <td>NaN</td>\n",
       "      <td>Reg</td>\n",
       "      <td>Lvl</td>\n",
       "      <td>...</td>\n",
       "      <td>0</td>\n",
       "      <td>NaN</td>\n",
       "      <td>NaN</td>\n",
       "      <td>NaN</td>\n",
       "      <td>0</td>\n",
       "      <td>4</td>\n",
       "      <td>2010</td>\n",
       "      <td>WD</td>\n",
       "      <td>Normal</td>\n",
       "      <td>244000</td>\n",
       "    </tr>\n",
       "    <tr>\n",
       "      <th>4</th>\n",
       "      <td>5</td>\n",
       "      <td>527105010</td>\n",
       "      <td>60</td>\n",
       "      <td>RL</td>\n",
       "      <td>74.0</td>\n",
       "      <td>13830</td>\n",
       "      <td>Pave</td>\n",
       "      <td>NaN</td>\n",
       "      <td>IR1</td>\n",
       "      <td>Lvl</td>\n",
       "      <td>...</td>\n",
       "      <td>0</td>\n",
       "      <td>NaN</td>\n",
       "      <td>MnPrv</td>\n",
       "      <td>NaN</td>\n",
       "      <td>0</td>\n",
       "      <td>3</td>\n",
       "      <td>2010</td>\n",
       "      <td>WD</td>\n",
       "      <td>Normal</td>\n",
       "      <td>189900</td>\n",
       "    </tr>\n",
       "  </tbody>\n",
       "</table>\n",
       "<p>5 rows × 82 columns</p>\n",
       "</div>"
      ],
      "text/plain": [
       "   Order        PID  MS SubClass MS Zoning  Lot Frontage  Lot Area Street  \\\n",
       "0      1  526301100           20        RL         141.0     31770   Pave   \n",
       "1      2  526350040           20        RH          80.0     11622   Pave   \n",
       "2      3  526351010           20        RL          81.0     14267   Pave   \n",
       "3      4  526353030           20        RL          93.0     11160   Pave   \n",
       "4      5  527105010           60        RL          74.0     13830   Pave   \n",
       "\n",
       "  Alley Lot Shape Land Contour    ...     Pool Area Pool QC  Fence  \\\n",
       "0   NaN       IR1          Lvl    ...             0     NaN    NaN   \n",
       "1   NaN       Reg          Lvl    ...             0     NaN  MnPrv   \n",
       "2   NaN       IR1          Lvl    ...             0     NaN    NaN   \n",
       "3   NaN       Reg          Lvl    ...             0     NaN    NaN   \n",
       "4   NaN       IR1          Lvl    ...             0     NaN  MnPrv   \n",
       "\n",
       "  Misc Feature Misc Val Mo Sold Yr Sold Sale Type  Sale Condition  SalePrice  \n",
       "0          NaN        0       5    2010       WD           Normal     215000  \n",
       "1          NaN        0       6    2010       WD           Normal     105000  \n",
       "2         Gar2    12500       6    2010       WD           Normal     172000  \n",
       "3          NaN        0       4    2010       WD           Normal     244000  \n",
       "4          NaN        0       3    2010       WD           Normal     189900  \n",
       "\n",
       "[5 rows x 82 columns]"
      ]
     },
     "execution_count": 2,
     "metadata": {},
     "output_type": "execute_result"
    }
   ],
   "source": [
    "# read data into dataframe\n",
    "housing = pd.read_csv('AmesHousing.tsv', sep='\\t')\n",
    "housing.head()"
   ]
  },
  {
   "cell_type": "code",
   "execution_count": 3,
   "metadata": {
    "collapsed": false
   },
   "outputs": [
    {
     "name": "stdout",
     "output_type": "stream",
     "text": [
      "<class 'pandas.core.frame.DataFrame'>\n",
      "RangeIndex: 2930 entries, 0 to 2929\n",
      "Data columns (total 82 columns):\n",
      "Order              2930 non-null int64\n",
      "PID                2930 non-null int64\n",
      "MS SubClass        2930 non-null int64\n",
      "MS Zoning          2930 non-null object\n",
      "Lot Frontage       2440 non-null float64\n",
      "Lot Area           2930 non-null int64\n",
      "Street             2930 non-null object\n",
      "Alley              198 non-null object\n",
      "Lot Shape          2930 non-null object\n",
      "Land Contour       2930 non-null object\n",
      "Utilities          2930 non-null object\n",
      "Lot Config         2930 non-null object\n",
      "Land Slope         2930 non-null object\n",
      "Neighborhood       2930 non-null object\n",
      "Condition 1        2930 non-null object\n",
      "Condition 2        2930 non-null object\n",
      "Bldg Type          2930 non-null object\n",
      "House Style        2930 non-null object\n",
      "Overall Qual       2930 non-null int64\n",
      "Overall Cond       2930 non-null int64\n",
      "Year Built         2930 non-null int64\n",
      "Year Remod/Add     2930 non-null int64\n",
      "Roof Style         2930 non-null object\n",
      "Roof Matl          2930 non-null object\n",
      "Exterior 1st       2930 non-null object\n",
      "Exterior 2nd       2930 non-null object\n",
      "Mas Vnr Type       2907 non-null object\n",
      "Mas Vnr Area       2907 non-null float64\n",
      "Exter Qual         2930 non-null object\n",
      "Exter Cond         2930 non-null object\n",
      "Foundation         2930 non-null object\n",
      "Bsmt Qual          2850 non-null object\n",
      "Bsmt Cond          2850 non-null object\n",
      "Bsmt Exposure      2847 non-null object\n",
      "BsmtFin Type 1     2850 non-null object\n",
      "BsmtFin SF 1       2929 non-null float64\n",
      "BsmtFin Type 2     2849 non-null object\n",
      "BsmtFin SF 2       2929 non-null float64\n",
      "Bsmt Unf SF        2929 non-null float64\n",
      "Total Bsmt SF      2929 non-null float64\n",
      "Heating            2930 non-null object\n",
      "Heating QC         2930 non-null object\n",
      "Central Air        2930 non-null object\n",
      "Electrical         2929 non-null object\n",
      "1st Flr SF         2930 non-null int64\n",
      "2nd Flr SF         2930 non-null int64\n",
      "Low Qual Fin SF    2930 non-null int64\n",
      "Gr Liv Area        2930 non-null int64\n",
      "Bsmt Full Bath     2928 non-null float64\n",
      "Bsmt Half Bath     2928 non-null float64\n",
      "Full Bath          2930 non-null int64\n",
      "Half Bath          2930 non-null int64\n",
      "Bedroom AbvGr      2930 non-null int64\n",
      "Kitchen AbvGr      2930 non-null int64\n",
      "Kitchen Qual       2930 non-null object\n",
      "TotRms AbvGrd      2930 non-null int64\n",
      "Functional         2930 non-null object\n",
      "Fireplaces         2930 non-null int64\n",
      "Fireplace Qu       1508 non-null object\n",
      "Garage Type        2773 non-null object\n",
      "Garage Yr Blt      2771 non-null float64\n",
      "Garage Finish      2771 non-null object\n",
      "Garage Cars        2929 non-null float64\n",
      "Garage Area        2929 non-null float64\n",
      "Garage Qual        2771 non-null object\n",
      "Garage Cond        2771 non-null object\n",
      "Paved Drive        2930 non-null object\n",
      "Wood Deck SF       2930 non-null int64\n",
      "Open Porch SF      2930 non-null int64\n",
      "Enclosed Porch     2930 non-null int64\n",
      "3Ssn Porch         2930 non-null int64\n",
      "Screen Porch       2930 non-null int64\n",
      "Pool Area          2930 non-null int64\n",
      "Pool QC            13 non-null object\n",
      "Fence              572 non-null object\n",
      "Misc Feature       106 non-null object\n",
      "Misc Val           2930 non-null int64\n",
      "Mo Sold            2930 non-null int64\n",
      "Yr Sold            2930 non-null int64\n",
      "Sale Type          2930 non-null object\n",
      "Sale Condition     2930 non-null object\n",
      "SalePrice          2930 non-null int64\n",
      "dtypes: float64(11), int64(28), object(43)\n",
      "memory usage: 1.8+ MB\n"
     ]
    }
   ],
   "source": [
    "housing.info()"
   ]
  },
  {
   "cell_type": "markdown",
   "metadata": {},
   "source": [
    "## Create Functions\n",
    "\n",
    "Let's create a series of functions to allow us to transform the data, select different features for the model, train the model, and then test the model.  We can then continue to use these functions below.\n",
    "\n",
    "We will start with a simple setup as a baseline using one feature, `Gr Liv Area`, and our target `SalePrice`."
   ]
  },
  {
   "cell_type": "code",
   "execution_count": 4,
   "metadata": {
    "collapsed": false
   },
   "outputs": [
    {
     "data": {
      "text/plain": [
       "57088.25161263909"
      ]
     },
     "execution_count": 4,
     "metadata": {},
     "output_type": "execute_result"
    }
   ],
   "source": [
    "# create simple transform_features()\n",
    "def transform_features(df):\n",
    "    return df\n",
    "\n",
    "# create simple select_features()\n",
    "def select_features(df):\n",
    "    features = df[['Gr Liv Area', 'SalePrice']]\n",
    "    return features\n",
    "\n",
    "# create train_and_test()\n",
    "def train_and_test(df):\n",
    "    train = df[:1460]\n",
    "    test = df[1460:]\n",
    "        \n",
    "    features = train.columns.drop('SalePrice')\n",
    "    X = train[features]\n",
    "    y = train['SalePrice']\n",
    "    \n",
    "    reg = LinearRegression()\n",
    "    reg.fit(X, y)\n",
    "    predictions = reg.predict(test[features])\n",
    "    rmse = mean_squared_error(test['SalePrice'], predictions) ** (1/2)\n",
    "    return rmse\n",
    "\n",
    "# run the basic model on just this one feature 'Gr Liv Area'\n",
    "transform_df = transform_features(housing)\n",
    "filtered_df = select_features(transform_df)\n",
    "rmse = train_and_test(filtered_df)\n",
    "\n",
    "# print resulting rmse\n",
    "rmse"
   ]
  },
  {
   "cell_type": "markdown",
   "metadata": {},
   "source": [
    "## Feature Engineering\n",
    "\n",
    "Next, we will dive into more of the available features.  We should deal with missing values, potential categorical features, and transformations needed of the data.\n",
    "\n",
    "Our goals are to remove features that we do not want to use in the model, convert features into a proper format for regression modeling, and create new features by combining existing features."
   ]
  },
  {
   "cell_type": "code",
   "execution_count": 5,
   "metadata": {
    "collapsed": false
   },
   "outputs": [
    {
     "data": {
      "text/plain": [
       "Pool QC           2917\n",
       "Misc Feature      2824\n",
       "Alley             2732\n",
       "Fence             2358\n",
       "Fireplace Qu      1422\n",
       "Lot Frontage       490\n",
       "Garage Yr Blt      159\n",
       "Garage Cond        159\n",
       "Garage Qual        159\n",
       "Garage Finish      159\n",
       "Garage Type        157\n",
       "Bsmt Exposure       83\n",
       "BsmtFin Type 2      81\n",
       "Bsmt Cond           80\n",
       "Bsmt Qual           80\n",
       "BsmtFin Type 1      80\n",
       "Mas Vnr Type        23\n",
       "Mas Vnr Area        23\n",
       "Bsmt Half Bath       2\n",
       "Bsmt Full Bath       2\n",
       "Garage Cars          1\n",
       "BsmtFin SF 2         1\n",
       "BsmtFin SF 1         1\n",
       "Bsmt Unf SF          1\n",
       "Total Bsmt SF        1\n",
       "Garage Area          1\n",
       "Electrical           1\n",
       "dtype: int64"
      ]
     },
     "execution_count": 5,
     "metadata": {},
     "output_type": "execute_result"
    }
   ],
   "source": [
    "# missing values\n",
    "missing_values = housing.isnull().sum()\n",
    "missing_values[missing_values > 0].sort_values(ascending=False)"
   ]
  },
  {
   "cell_type": "markdown",
   "metadata": {},
   "source": [
    "For the missing values we have, let's take the following approaches:\n",
    "\n",
    "- Remove the features with too many missing values.  In this case, it is those with at least 1422 missing values, so we will drop `Pool QC`, `Misc Feature`, `Alley`, `Fence`, and `Fireplace Qu`.\n",
    "\n",
    "- For those features that are numeric and there are no more than 83 missing values, replace any missing values with the most common value for that feature.  This will impact `Mas Vnr Area`, `Bsmt Half Bath`, `Bsmt Full Bath`, `Garage Cars`, `BsmtFin SF 2`, `BsmtFin SF 1`, `Bsmt Unf SF`, `Total Bsmt SF`, and `Garage Area`."
   ]
  },
  {
   "cell_type": "code",
   "execution_count": 6,
   "metadata": {
    "collapsed": false
   },
   "outputs": [
    {
     "data": {
      "text/plain": [
       "Index(['Alley', 'Fireplace Qu', 'Pool QC', 'Fence', 'Misc Feature'], dtype='object')"
      ]
     },
     "execution_count": 6,
     "metadata": {},
     "output_type": "execute_result"
    }
   ],
   "source": [
    "# drop columns with too many missing values\n",
    "missing_values_count = housing.isnull().sum()\n",
    "cols_to_drop = missing_values[missing_values >= 1422].index\n",
    "\n",
    "# confirm this matches what we expected above\n",
    "cols_to_drop"
   ]
  },
  {
   "cell_type": "code",
   "execution_count": 7,
   "metadata": {
    "collapsed": false
   },
   "outputs": [
    {
     "data": {
      "text/plain": [
       "Mas Vnr Area      0\n",
       "BsmtFin SF 1      0\n",
       "BsmtFin SF 2      0\n",
       "Bsmt Unf SF       0\n",
       "Total Bsmt SF     0\n",
       "Bsmt Full Bath    0\n",
       "Bsmt Half Bath    0\n",
       "Garage Cars       0\n",
       "Garage Area       0\n",
       "dtype: int64"
      ]
     },
     "execution_count": 7,
     "metadata": {},
     "output_type": "execute_result"
    }
   ],
   "source": [
    "# select numeric columns with few missing values and fill with the mode\n",
    "num_cols_to_fix = housing.select_dtypes(exclude=['object']).isnull().sum()\n",
    "num_cols_to_fix = num_cols_to_fix[num_cols_to_fix > 0]\n",
    "num_cols_to_fix = num_cols_to_fix[num_cols_to_fix <= 83].index\n",
    "for col in num_cols_to_fix:\n",
    "    housing[col] = housing[col].fillna(housing[col].mode()[0])\n",
    "    \n",
    "# confirm this matches what we expected above\n",
    "housing[num_cols_to_fix].isnull().sum()"
   ]
  },
  {
   "cell_type": "markdown",
   "metadata": {},
   "source": [
    "We can create some new features based on the years provided in the data.  For example, we have the following features:\n",
    "\n",
    "- `Yr Sold`\n",
    "- `Garage Yr Blt`\n",
    "- `Year Built`\n",
    "- `Year Remod/Add`\n",
    "\n",
    "We can calculate years between these events to better capture the information provided:\n",
    "- `years_since_built` = `Yr Sold` - `Year Built`\n",
    "- `years_since_remod` = `Yr Sold` - `Year Remod/Add`\n",
    "- `years_since_garage` = `Yr Sold` - `Garage Yr Blt`\n",
    "\n",
    "Once we have produced these new features, we can then delete the original ones from our dataframe.  We should also validate these features after we create them to ensure they make sense (i.e. no negative values)."
   ]
  },
  {
   "cell_type": "code",
   "execution_count": 8,
   "metadata": {
    "collapsed": false
   },
   "outputs": [
    {
     "data": {
      "text/plain": [
       "count    2930.000000\n",
       "mean       36.434130\n",
       "std        30.291357\n",
       "min        -1.000000\n",
       "25%         7.000000\n",
       "50%        34.000000\n",
       "75%        54.000000\n",
       "max       136.000000\n",
       "Name: years_since_built, dtype: float64"
      ]
     },
     "execution_count": 8,
     "metadata": {},
     "output_type": "execute_result"
    }
   ],
   "source": [
    "# create years_since_built\n",
    "housing['years_since_built'] = housing['Yr Sold'] - housing['Year Built']\n",
    "housing['years_since_built'].describe()"
   ]
  },
  {
   "cell_type": "code",
   "execution_count": 9,
   "metadata": {
    "collapsed": false
   },
   "outputs": [
    {
     "data": {
      "text/html": [
       "<div>\n",
       "<style scoped>\n",
       "    .dataframe tbody tr th:only-of-type {\n",
       "        vertical-align: middle;\n",
       "    }\n",
       "\n",
       "    .dataframe tbody tr th {\n",
       "        vertical-align: top;\n",
       "    }\n",
       "\n",
       "    .dataframe thead th {\n",
       "        text-align: right;\n",
       "    }\n",
       "</style>\n",
       "<table border=\"1\" class=\"dataframe\">\n",
       "  <thead>\n",
       "    <tr style=\"text-align: right;\">\n",
       "      <th></th>\n",
       "      <th>years_since_built</th>\n",
       "    </tr>\n",
       "  </thead>\n",
       "  <tbody>\n",
       "    <tr>\n",
       "      <th>2180</th>\n",
       "      <td>-1</td>\n",
       "    </tr>\n",
       "  </tbody>\n",
       "</table>\n",
       "</div>"
      ],
      "text/plain": [
       "      years_since_built\n",
       "2180                 -1"
      ]
     },
     "execution_count": 9,
     "metadata": {},
     "output_type": "execute_result"
    }
   ],
   "source": [
    "# identify the negative values to drop\n",
    "housing.loc[housing['years_since_built'] < 0, ['years_since_built']]"
   ]
  },
  {
   "cell_type": "code",
   "execution_count": 10,
   "metadata": {
    "collapsed": false
   },
   "outputs": [
    {
     "data": {
      "text/plain": [
       "count    2930.000000\n",
       "mean       23.523891\n",
       "std        20.858846\n",
       "min        -2.000000\n",
       "25%         4.000000\n",
       "50%        15.000000\n",
       "75%        42.750000\n",
       "max        60.000000\n",
       "Name: years_since_remod, dtype: float64"
      ]
     },
     "execution_count": 10,
     "metadata": {},
     "output_type": "execute_result"
    }
   ],
   "source": [
    "# create years_since_remod\n",
    "housing['years_since_remod'] = housing['Yr Sold'] - housing['Year Remod/Add']\n",
    "housing['years_since_remod'].describe()"
   ]
  },
  {
   "cell_type": "code",
   "execution_count": 11,
   "metadata": {
    "collapsed": false
   },
   "outputs": [
    {
     "data": {
      "text/html": [
       "<div>\n",
       "<style scoped>\n",
       "    .dataframe tbody tr th:only-of-type {\n",
       "        vertical-align: middle;\n",
       "    }\n",
       "\n",
       "    .dataframe tbody tr th {\n",
       "        vertical-align: top;\n",
       "    }\n",
       "\n",
       "    .dataframe thead th {\n",
       "        text-align: right;\n",
       "    }\n",
       "</style>\n",
       "<table border=\"1\" class=\"dataframe\">\n",
       "  <thead>\n",
       "    <tr style=\"text-align: right;\">\n",
       "      <th></th>\n",
       "      <th>years_since_remod</th>\n",
       "    </tr>\n",
       "  </thead>\n",
       "  <tbody>\n",
       "    <tr>\n",
       "      <th>1702</th>\n",
       "      <td>-1</td>\n",
       "    </tr>\n",
       "    <tr>\n",
       "      <th>2180</th>\n",
       "      <td>-2</td>\n",
       "    </tr>\n",
       "    <tr>\n",
       "      <th>2181</th>\n",
       "      <td>-1</td>\n",
       "    </tr>\n",
       "  </tbody>\n",
       "</table>\n",
       "</div>"
      ],
      "text/plain": [
       "      years_since_remod\n",
       "1702                 -1\n",
       "2180                 -2\n",
       "2181                 -1"
      ]
     },
     "execution_count": 11,
     "metadata": {},
     "output_type": "execute_result"
    }
   ],
   "source": [
    "# identify the negative values to drop\n",
    "housing.loc[housing['years_since_remod'] < 0, ['years_since_remod']]"
   ]
  },
  {
   "cell_type": "code",
   "execution_count": 12,
   "metadata": {
    "collapsed": false
   },
   "outputs": [
    {
     "data": {
      "text/plain": [
       "count    2771.000000\n",
       "mean       29.654637\n",
       "std        25.569051\n",
       "min      -200.000000\n",
       "25%         6.000000\n",
       "50%        28.000000\n",
       "75%        48.000000\n",
       "max       114.000000\n",
       "Name: years_since_garage, dtype: float64"
      ]
     },
     "execution_count": 12,
     "metadata": {},
     "output_type": "execute_result"
    }
   ],
   "source": [
    "# create years_since_garage\n",
    "housing['years_since_garage'] = housing['Yr Sold'] - housing['Garage Yr Blt']\n",
    "housing['years_since_garage'].describe()"
   ]
  },
  {
   "cell_type": "code",
   "execution_count": 13,
   "metadata": {
    "collapsed": false
   },
   "outputs": [
    {
     "data": {
      "text/html": [
       "<div>\n",
       "<style scoped>\n",
       "    .dataframe tbody tr th:only-of-type {\n",
       "        vertical-align: middle;\n",
       "    }\n",
       "\n",
       "    .dataframe tbody tr th {\n",
       "        vertical-align: top;\n",
       "    }\n",
       "\n",
       "    .dataframe thead th {\n",
       "        text-align: right;\n",
       "    }\n",
       "</style>\n",
       "<table border=\"1\" class=\"dataframe\">\n",
       "  <thead>\n",
       "    <tr style=\"text-align: right;\">\n",
       "      <th></th>\n",
       "      <th>years_since_garage</th>\n",
       "    </tr>\n",
       "  </thead>\n",
       "  <tbody>\n",
       "    <tr>\n",
       "      <th>2180</th>\n",
       "      <td>-1.0</td>\n",
       "    </tr>\n",
       "    <tr>\n",
       "      <th>2260</th>\n",
       "      <td>-200.0</td>\n",
       "    </tr>\n",
       "  </tbody>\n",
       "</table>\n",
       "</div>"
      ],
      "text/plain": [
       "      years_since_garage\n",
       "2180                -1.0\n",
       "2260              -200.0"
      ]
     },
     "execution_count": 13,
     "metadata": {},
     "output_type": "execute_result"
    }
   ],
   "source": [
    "# identify the negative values to drop\n",
    "housing.loc[housing['years_since_garage'] < 0, ['years_since_garage']]"
   ]
  },
  {
   "cell_type": "code",
   "execution_count": 14,
   "metadata": {
    "collapsed": false
   },
   "outputs": [
    {
     "data": {
      "text/plain": [
       "159"
      ]
     },
     "execution_count": 14,
     "metadata": {},
     "output_type": "execute_result"
    }
   ],
   "source": [
    "# there are missing values here since 'Garage Yr Blt` had missing values\n",
    "housing['years_since_garage'].isnull().sum()"
   ]
  },
  {
   "cell_type": "code",
   "execution_count": 15,
   "metadata": {
    "collapsed": false
   },
   "outputs": [
    {
     "data": {
      "text/plain": [
       "NaN       157\n",
       "Detchd      2\n",
       "Name: Garage Type, dtype: int64"
      ]
     },
     "execution_count": 15,
     "metadata": {},
     "output_type": "execute_result"
    }
   ],
   "source": [
    "# are the missing values those without garages?\n",
    "garages = housing.loc[housing['Garage Yr Blt'].isnull(), ['Garage Type','Garage Yr Blt']]\n",
    "garages['Garage Type'].value_counts(dropna=False)"
   ]
  },
  {
   "cell_type": "code",
   "execution_count": 16,
   "metadata": {
    "collapsed": false
   },
   "outputs": [
    {
     "data": {
      "text/plain": [
       "count    2930.000000\n",
       "mean       28.045392\n",
       "std        25.757204\n",
       "min      -200.000000\n",
       "25%         5.000000\n",
       "50%        25.000000\n",
       "75%        46.000000\n",
       "max       114.000000\n",
       "Name: years_since_garage, dtype: float64"
      ]
     },
     "execution_count": 16,
     "metadata": {},
     "output_type": "execute_result"
    }
   ],
   "source": [
    "''' let's fill in the missing values with zero, as data on whether the house \n",
    "has a garage is already captured in the 'Garage Type' feature '''\n",
    "housing['years_since_garage'] = housing['years_since_garage'].fillna(0)\n",
    "housing['years_since_garage'].describe()"
   ]
  },
  {
   "cell_type": "markdown",
   "metadata": {},
   "source": [
    "Are there other columns that we should drop?  We should consider some additional columns that we may want to remove from our data.\n",
    "\n",
    "- Are there columns that aren't useful for machine learning?\n",
    "\n",
    "Yes, the first two columns in our data are not useful.  `Order` appears to just be a counter for each record and does not add meaningful data.  `PID` appears to be an ID number and also does not add meaningful data.  We can remove both of these columns from our data.\n",
    "\n",
    "- Are there columns that leak data about the final sale?\n",
    "\n",
    "Yes, there are several columns that leak data about the final sale.  These columns include `Mo Sold`, `Yr Sold`, `Sale Type`, and `Sale Condition`.  We can remove these columns from our data."
   ]
  },
  {
   "cell_type": "code",
   "execution_count": 17,
   "metadata": {
    "collapsed": true
   },
   "outputs": [],
   "source": [
    "# revise our transform_features function based on the above work\n",
    "def transform_features(df):\n",
    "    # drop columns with too many missing values\n",
    "    missing_values_count = df.isnull().sum()\n",
    "    cols_to_drop = missing_values[missing_values >= 1422].index\n",
    "    df = df.drop(cols_to_drop, axis=1)\n",
    "    \n",
    "    # fill numeric columns with mode if missing few values\n",
    "    num_cols_to_fix = df.select_dtypes(exclude=['object']).isnull().sum()\n",
    "    num_cols_to_fix = num_cols_to_fix[num_cols_to_fix > 0]\n",
    "    num_cols_to_fix = num_cols_to_fix[num_cols_to_fix <= 83].index\n",
    "    for col in num_cols_to_fix:\n",
    "        df[col] = df[col].fillna(df[col].mode()[0])\n",
    "    \n",
    "    # create new features from years columns\n",
    "    df['years_since_built'] = df['Yr Sold'] - df['Year Built']\n",
    "    df['years_since_remod'] = df['Yr Sold'] - df['Year Remod/Add']\n",
    "    df['years_since_garage'] = df['Yr Sold'] - df['Garage Yr Blt']\n",
    "    df['years_since_garage'] = df['years_since_garage'].fillna(0)\n",
    "    \n",
    "    # remove the negative values identified above\n",
    "    df = df.drop([2180, 1702, 2181, 2260], axis=0)\n",
    "    \n",
    "    # drop original columns no longer used\n",
    "    df = df.drop(['Yr Sold', 'Year Built', 'Year Remod/Add', \n",
    "                  'Garage Yr Blt'], axis=1)\n",
    "    \n",
    "    # drop columns that aren't useful or leak data\n",
    "    df = df.drop(['Order', 'PID', 'Mo Sold', 'Sale Type', \n",
    "                  'Sale Condition'], axis=1)\n",
    "    \n",
    "    # remove any remaining columns with missing values not addressed above\n",
    "    # may revise this later\n",
    "    df = df.dropna(axis=1)\n",
    "    \n",
    "    return df"
   ]
  },
  {
   "cell_type": "code",
   "execution_count": 18,
   "metadata": {
    "collapsed": false
   },
   "outputs": [
    {
     "data": {
      "text/plain": [
       "55255.556890488806"
      ]
     },
     "execution_count": 18,
     "metadata": {},
     "output_type": "execute_result"
    }
   ],
   "source": [
    "# re-run the basic model with our revisions above\n",
    "housing = pd.read_csv('AmesHousing.tsv', sep='\\t')\n",
    "transform_df = transform_features(housing)\n",
    "filtered_df = select_features(transform_df)\n",
    "rmse = train_and_test(filtered_df)\n",
    "\n",
    "# print resulting rmse\n",
    "rmse"
   ]
  },
  {
   "cell_type": "markdown",
   "metadata": {},
   "source": [
    "## Feature Selection\n",
    "\n",
    "Now that we have cleaned and transformed the numerical data in our dataset, let's look at feature selection for these numerical features.\n",
    "\n",
    "To begin, let's look at the correlations of the features in our data.  What features correlate strongly with `SalePrice`?\n",
    "\n",
    "Are there features that should be converted to categorical data types?  How do these categorical features \"correlate\" with `SalePrice`?\n",
    "\n",
    "Let's update our `select_features()` function with all of the above and then re-run our model."
   ]
  },
  {
   "cell_type": "code",
   "execution_count": 19,
   "metadata": {
    "collapsed": false
   },
   "outputs": [
    {
     "data": {
      "text/html": [
       "<div>\n",
       "<style scoped>\n",
       "    .dataframe tbody tr th:only-of-type {\n",
       "        vertical-align: middle;\n",
       "    }\n",
       "\n",
       "    .dataframe tbody tr th {\n",
       "        vertical-align: top;\n",
       "    }\n",
       "\n",
       "    .dataframe thead th {\n",
       "        text-align: right;\n",
       "    }\n",
       "</style>\n",
       "<table border=\"1\" class=\"dataframe\">\n",
       "  <thead>\n",
       "    <tr style=\"text-align: right;\">\n",
       "      <th></th>\n",
       "      <th>MS SubClass</th>\n",
       "      <th>Lot Area</th>\n",
       "      <th>Overall Qual</th>\n",
       "      <th>Overall Cond</th>\n",
       "      <th>Mas Vnr Area</th>\n",
       "      <th>BsmtFin SF 1</th>\n",
       "      <th>BsmtFin SF 2</th>\n",
       "      <th>Bsmt Unf SF</th>\n",
       "      <th>Total Bsmt SF</th>\n",
       "      <th>1st Flr SF</th>\n",
       "      <th>...</th>\n",
       "      <th>Open Porch SF</th>\n",
       "      <th>Enclosed Porch</th>\n",
       "      <th>3Ssn Porch</th>\n",
       "      <th>Screen Porch</th>\n",
       "      <th>Pool Area</th>\n",
       "      <th>Misc Val</th>\n",
       "      <th>SalePrice</th>\n",
       "      <th>years_since_built</th>\n",
       "      <th>years_since_remod</th>\n",
       "      <th>years_since_garage</th>\n",
       "    </tr>\n",
       "  </thead>\n",
       "  <tbody>\n",
       "    <tr>\n",
       "      <th>0</th>\n",
       "      <td>20</td>\n",
       "      <td>31770</td>\n",
       "      <td>6</td>\n",
       "      <td>5</td>\n",
       "      <td>112.0</td>\n",
       "      <td>639.0</td>\n",
       "      <td>0.0</td>\n",
       "      <td>441.0</td>\n",
       "      <td>1080.0</td>\n",
       "      <td>1656</td>\n",
       "      <td>...</td>\n",
       "      <td>62</td>\n",
       "      <td>0</td>\n",
       "      <td>0</td>\n",
       "      <td>0</td>\n",
       "      <td>0</td>\n",
       "      <td>0</td>\n",
       "      <td>215000</td>\n",
       "      <td>50</td>\n",
       "      <td>50</td>\n",
       "      <td>50.0</td>\n",
       "    </tr>\n",
       "    <tr>\n",
       "      <th>1</th>\n",
       "      <td>20</td>\n",
       "      <td>11622</td>\n",
       "      <td>5</td>\n",
       "      <td>6</td>\n",
       "      <td>0.0</td>\n",
       "      <td>468.0</td>\n",
       "      <td>144.0</td>\n",
       "      <td>270.0</td>\n",
       "      <td>882.0</td>\n",
       "      <td>896</td>\n",
       "      <td>...</td>\n",
       "      <td>0</td>\n",
       "      <td>0</td>\n",
       "      <td>0</td>\n",
       "      <td>120</td>\n",
       "      <td>0</td>\n",
       "      <td>0</td>\n",
       "      <td>105000</td>\n",
       "      <td>49</td>\n",
       "      <td>49</td>\n",
       "      <td>49.0</td>\n",
       "    </tr>\n",
       "    <tr>\n",
       "      <th>2</th>\n",
       "      <td>20</td>\n",
       "      <td>14267</td>\n",
       "      <td>6</td>\n",
       "      <td>6</td>\n",
       "      <td>108.0</td>\n",
       "      <td>923.0</td>\n",
       "      <td>0.0</td>\n",
       "      <td>406.0</td>\n",
       "      <td>1329.0</td>\n",
       "      <td>1329</td>\n",
       "      <td>...</td>\n",
       "      <td>36</td>\n",
       "      <td>0</td>\n",
       "      <td>0</td>\n",
       "      <td>0</td>\n",
       "      <td>0</td>\n",
       "      <td>12500</td>\n",
       "      <td>172000</td>\n",
       "      <td>52</td>\n",
       "      <td>52</td>\n",
       "      <td>52.0</td>\n",
       "    </tr>\n",
       "    <tr>\n",
       "      <th>3</th>\n",
       "      <td>20</td>\n",
       "      <td>11160</td>\n",
       "      <td>7</td>\n",
       "      <td>5</td>\n",
       "      <td>0.0</td>\n",
       "      <td>1065.0</td>\n",
       "      <td>0.0</td>\n",
       "      <td>1045.0</td>\n",
       "      <td>2110.0</td>\n",
       "      <td>2110</td>\n",
       "      <td>...</td>\n",
       "      <td>0</td>\n",
       "      <td>0</td>\n",
       "      <td>0</td>\n",
       "      <td>0</td>\n",
       "      <td>0</td>\n",
       "      <td>0</td>\n",
       "      <td>244000</td>\n",
       "      <td>42</td>\n",
       "      <td>42</td>\n",
       "      <td>42.0</td>\n",
       "    </tr>\n",
       "    <tr>\n",
       "      <th>4</th>\n",
       "      <td>60</td>\n",
       "      <td>13830</td>\n",
       "      <td>5</td>\n",
       "      <td>5</td>\n",
       "      <td>0.0</td>\n",
       "      <td>791.0</td>\n",
       "      <td>0.0</td>\n",
       "      <td>137.0</td>\n",
       "      <td>928.0</td>\n",
       "      <td>928</td>\n",
       "      <td>...</td>\n",
       "      <td>34</td>\n",
       "      <td>0</td>\n",
       "      <td>0</td>\n",
       "      <td>0</td>\n",
       "      <td>0</td>\n",
       "      <td>0</td>\n",
       "      <td>189900</td>\n",
       "      <td>13</td>\n",
       "      <td>12</td>\n",
       "      <td>13.0</td>\n",
       "    </tr>\n",
       "    <tr>\n",
       "      <th>5</th>\n",
       "      <td>60</td>\n",
       "      <td>9978</td>\n",
       "      <td>6</td>\n",
       "      <td>6</td>\n",
       "      <td>20.0</td>\n",
       "      <td>602.0</td>\n",
       "      <td>0.0</td>\n",
       "      <td>324.0</td>\n",
       "      <td>926.0</td>\n",
       "      <td>926</td>\n",
       "      <td>...</td>\n",
       "      <td>36</td>\n",
       "      <td>0</td>\n",
       "      <td>0</td>\n",
       "      <td>0</td>\n",
       "      <td>0</td>\n",
       "      <td>0</td>\n",
       "      <td>195500</td>\n",
       "      <td>12</td>\n",
       "      <td>12</td>\n",
       "      <td>12.0</td>\n",
       "    </tr>\n",
       "    <tr>\n",
       "      <th>6</th>\n",
       "      <td>120</td>\n",
       "      <td>4920</td>\n",
       "      <td>8</td>\n",
       "      <td>5</td>\n",
       "      <td>0.0</td>\n",
       "      <td>616.0</td>\n",
       "      <td>0.0</td>\n",
       "      <td>722.0</td>\n",
       "      <td>1338.0</td>\n",
       "      <td>1338</td>\n",
       "      <td>...</td>\n",
       "      <td>0</td>\n",
       "      <td>170</td>\n",
       "      <td>0</td>\n",
       "      <td>0</td>\n",
       "      <td>0</td>\n",
       "      <td>0</td>\n",
       "      <td>213500</td>\n",
       "      <td>9</td>\n",
       "      <td>9</td>\n",
       "      <td>9.0</td>\n",
       "    </tr>\n",
       "    <tr>\n",
       "      <th>7</th>\n",
       "      <td>120</td>\n",
       "      <td>5005</td>\n",
       "      <td>8</td>\n",
       "      <td>5</td>\n",
       "      <td>0.0</td>\n",
       "      <td>263.0</td>\n",
       "      <td>0.0</td>\n",
       "      <td>1017.0</td>\n",
       "      <td>1280.0</td>\n",
       "      <td>1280</td>\n",
       "      <td>...</td>\n",
       "      <td>82</td>\n",
       "      <td>0</td>\n",
       "      <td>0</td>\n",
       "      <td>144</td>\n",
       "      <td>0</td>\n",
       "      <td>0</td>\n",
       "      <td>191500</td>\n",
       "      <td>18</td>\n",
       "      <td>18</td>\n",
       "      <td>18.0</td>\n",
       "    </tr>\n",
       "    <tr>\n",
       "      <th>8</th>\n",
       "      <td>120</td>\n",
       "      <td>5389</td>\n",
       "      <td>8</td>\n",
       "      <td>5</td>\n",
       "      <td>0.0</td>\n",
       "      <td>1180.0</td>\n",
       "      <td>0.0</td>\n",
       "      <td>415.0</td>\n",
       "      <td>1595.0</td>\n",
       "      <td>1616</td>\n",
       "      <td>...</td>\n",
       "      <td>152</td>\n",
       "      <td>0</td>\n",
       "      <td>0</td>\n",
       "      <td>0</td>\n",
       "      <td>0</td>\n",
       "      <td>0</td>\n",
       "      <td>236500</td>\n",
       "      <td>15</td>\n",
       "      <td>14</td>\n",
       "      <td>15.0</td>\n",
       "    </tr>\n",
       "    <tr>\n",
       "      <th>9</th>\n",
       "      <td>60</td>\n",
       "      <td>7500</td>\n",
       "      <td>7</td>\n",
       "      <td>5</td>\n",
       "      <td>0.0</td>\n",
       "      <td>0.0</td>\n",
       "      <td>0.0</td>\n",
       "      <td>994.0</td>\n",
       "      <td>994.0</td>\n",
       "      <td>1028</td>\n",
       "      <td>...</td>\n",
       "      <td>60</td>\n",
       "      <td>0</td>\n",
       "      <td>0</td>\n",
       "      <td>0</td>\n",
       "      <td>0</td>\n",
       "      <td>0</td>\n",
       "      <td>189000</td>\n",
       "      <td>11</td>\n",
       "      <td>11</td>\n",
       "      <td>11.0</td>\n",
       "    </tr>\n",
       "  </tbody>\n",
       "</table>\n",
       "<p>10 rows × 34 columns</p>\n",
       "</div>"
      ],
      "text/plain": [
       "   MS SubClass  Lot Area  Overall Qual  Overall Cond  Mas Vnr Area  \\\n",
       "0           20     31770             6             5         112.0   \n",
       "1           20     11622             5             6           0.0   \n",
       "2           20     14267             6             6         108.0   \n",
       "3           20     11160             7             5           0.0   \n",
       "4           60     13830             5             5           0.0   \n",
       "5           60      9978             6             6          20.0   \n",
       "6          120      4920             8             5           0.0   \n",
       "7          120      5005             8             5           0.0   \n",
       "8          120      5389             8             5           0.0   \n",
       "9           60      7500             7             5           0.0   \n",
       "\n",
       "   BsmtFin SF 1  BsmtFin SF 2  Bsmt Unf SF  Total Bsmt SF  1st Flr SF  \\\n",
       "0         639.0           0.0        441.0         1080.0        1656   \n",
       "1         468.0         144.0        270.0          882.0         896   \n",
       "2         923.0           0.0        406.0         1329.0        1329   \n",
       "3        1065.0           0.0       1045.0         2110.0        2110   \n",
       "4         791.0           0.0        137.0          928.0         928   \n",
       "5         602.0           0.0        324.0          926.0         926   \n",
       "6         616.0           0.0        722.0         1338.0        1338   \n",
       "7         263.0           0.0       1017.0         1280.0        1280   \n",
       "8        1180.0           0.0        415.0         1595.0        1616   \n",
       "9           0.0           0.0        994.0          994.0        1028   \n",
       "\n",
       "          ...          Open Porch SF  Enclosed Porch  3Ssn Porch  \\\n",
       "0         ...                     62               0           0   \n",
       "1         ...                      0               0           0   \n",
       "2         ...                     36               0           0   \n",
       "3         ...                      0               0           0   \n",
       "4         ...                     34               0           0   \n",
       "5         ...                     36               0           0   \n",
       "6         ...                      0             170           0   \n",
       "7         ...                     82               0           0   \n",
       "8         ...                    152               0           0   \n",
       "9         ...                     60               0           0   \n",
       "\n",
       "   Screen Porch  Pool Area  Misc Val  SalePrice  years_since_built  \\\n",
       "0             0          0         0     215000                 50   \n",
       "1           120          0         0     105000                 49   \n",
       "2             0          0     12500     172000                 52   \n",
       "3             0          0         0     244000                 42   \n",
       "4             0          0         0     189900                 13   \n",
       "5             0          0         0     195500                 12   \n",
       "6             0          0         0     213500                  9   \n",
       "7           144          0         0     191500                 18   \n",
       "8             0          0         0     236500                 15   \n",
       "9             0          0         0     189000                 11   \n",
       "\n",
       "   years_since_remod  years_since_garage  \n",
       "0                 50                50.0  \n",
       "1                 49                49.0  \n",
       "2                 52                52.0  \n",
       "3                 42                42.0  \n",
       "4                 12                13.0  \n",
       "5                 12                12.0  \n",
       "6                  9                 9.0  \n",
       "7                 18                18.0  \n",
       "8                 14                15.0  \n",
       "9                 11                11.0  \n",
       "\n",
       "[10 rows x 34 columns]"
      ]
     },
     "execution_count": 19,
     "metadata": {},
     "output_type": "execute_result"
    }
   ],
   "source": [
    "# create our numerical dataframe\n",
    "numerical_df = transform_df.select_dtypes(exclude=['object'])\n",
    "numerical_df.head(10)"
   ]
  },
  {
   "cell_type": "code",
   "execution_count": 20,
   "metadata": {
    "collapsed": false
   },
   "outputs": [
    {
     "data": {
      "text/plain": [
       "SalePrice             1.000000\n",
       "Overall Qual          0.801116\n",
       "Gr Liv Area           0.717693\n",
       "Garage Cars           0.648388\n",
       "Total Bsmt SF         0.643861\n",
       "Garage Area           0.641505\n",
       "1st Flr SF            0.635042\n",
       "years_since_built     0.558788\n",
       "Full Bath             0.545994\n",
       "years_since_remod     0.534791\n",
       "Mas Vnr Area          0.507323\n",
       "TotRms AbvGrd         0.498784\n",
       "Fireplaces            0.474728\n",
       "BsmtFin SF 1          0.439262\n",
       "years_since_garage    0.437440\n",
       "Wood Deck SF          0.328141\n",
       "Open Porch SF         0.316615\n",
       "Half Bath             0.285235\n",
       "Bsmt Full Bath        0.276649\n",
       "2nd Flr SF            0.269973\n",
       "Lot Area              0.267663\n",
       "Bsmt Unf SF           0.182474\n",
       "Bedroom AbvGr         0.144354\n",
       "Enclosed Porch        0.128581\n",
       "Kitchen AbvGr         0.119708\n",
       "Screen Porch          0.112410\n",
       "Overall Cond          0.101377\n",
       "MS SubClass           0.084831\n",
       "Pool Area             0.068475\n",
       "Low Qual Fin SF       0.037599\n",
       "Bsmt Half Bath        0.035791\n",
       "3Ssn Porch            0.032313\n",
       "Misc Val              0.019242\n",
       "BsmtFin SF 2          0.006238\n",
       "Name: SalePrice, dtype: float64"
      ]
     },
     "execution_count": 20,
     "metadata": {},
     "output_type": "execute_result"
    }
   ],
   "source": [
    "# calculate correlations with SalePrice\n",
    "corr_with_price = numerical_df.corr()['SalePrice'].abs().sort_values(ascending=False)\n",
    "corr_with_price"
   ]
  },
  {
   "cell_type": "code",
   "execution_count": 21,
   "metadata": {
    "collapsed": false
   },
   "outputs": [
    {
     "data": {
      "text/plain": [
       "SalePrice             1.000000\n",
       "Overall Qual          0.801116\n",
       "Gr Liv Area           0.717693\n",
       "Garage Cars           0.648388\n",
       "Total Bsmt SF         0.643861\n",
       "Garage Area           0.641505\n",
       "1st Flr SF            0.635042\n",
       "years_since_built     0.558788\n",
       "Full Bath             0.545994\n",
       "years_since_remod     0.534791\n",
       "Mas Vnr Area          0.507323\n",
       "TotRms AbvGrd         0.498784\n",
       "Fireplaces            0.474728\n",
       "BsmtFin SF 1          0.439262\n",
       "years_since_garage    0.437440\n",
       "Wood Deck SF          0.328141\n",
       "Open Porch SF         0.316615\n",
       "Name: SalePrice, dtype: float64"
      ]
     },
     "execution_count": 21,
     "metadata": {},
     "output_type": "execute_result"
    }
   ],
   "source": [
    "# remove those features with little correlation with SalePrice\n",
    "strong_corrs = corr_with_price[corr_with_price > 0.30]\n",
    "strong_corrs"
   ]
  },
  {
   "cell_type": "code",
   "execution_count": 22,
   "metadata": {
    "collapsed": false
   },
   "outputs": [
    {
     "data": {
      "text/plain": [
       "<matplotlib.axes._subplots.AxesSubplot at 0x7f0e1b0b3198>"
      ]
     },
     "execution_count": 22,
     "metadata": {},
     "output_type": "execute_result"
    },
    {
     "data": {
      "image/png": "[encoded data removed]",
      "text/plain": [
       "<matplotlib.figure.Figure at 0x7f0e1d119be0>"
      ]
     },
     "metadata": {},
     "output_type": "display_data"
    }
   ],
   "source": [
    "# create a correlation heatmap of the numerical features\n",
    "corr_matrix = numerical_df[strong_corrs.index].corr()\n",
    "sns.heatmap(corr_matrix)"
   ]
  },
  {
   "cell_type": "code",
   "execution_count": 23,
   "metadata": {
    "collapsed": false
   },
   "outputs": [
    {
     "data": {
      "text/html": [
       "<div>\n",
       "<style scoped>\n",
       "    .dataframe tbody tr th:only-of-type {\n",
       "        vertical-align: middle;\n",
       "    }\n",
       "\n",
       "    .dataframe tbody tr th {\n",
       "        vertical-align: top;\n",
       "    }\n",
       "\n",
       "    .dataframe thead th {\n",
       "        text-align: right;\n",
       "    }\n",
       "</style>\n",
       "<table border=\"1\" class=\"dataframe\">\n",
       "  <thead>\n",
       "    <tr style=\"text-align: right;\">\n",
       "      <th></th>\n",
       "      <th>Garage Area</th>\n",
       "      <th>1st Flr SF</th>\n",
       "      <th>years_since_built</th>\n",
       "      <th>TotRms AbvGrd</th>\n",
       "    </tr>\n",
       "  </thead>\n",
       "  <tbody>\n",
       "    <tr>\n",
       "      <th>SalePrice</th>\n",
       "      <td>0.641505</td>\n",
       "      <td>0.635042</td>\n",
       "      <td>-0.558788</td>\n",
       "      <td>0.498784</td>\n",
       "    </tr>\n",
       "    <tr>\n",
       "      <th>Overall Qual</th>\n",
       "      <td>0.561417</td>\n",
       "      <td>0.474637</td>\n",
       "      <td>-0.596142</td>\n",
       "      <td>0.376452</td>\n",
       "    </tr>\n",
       "    <tr>\n",
       "      <th>Gr Liv Area</th>\n",
       "      <td>0.480455</td>\n",
       "      <td>0.547001</td>\n",
       "      <td>-0.240372</td>\n",
       "      <td>0.806118</td>\n",
       "    </tr>\n",
       "    <tr>\n",
       "      <th>Garage Cars</th>\n",
       "      <td>0.888869</td>\n",
       "      <td>0.440982</td>\n",
       "      <td>-0.536627</td>\n",
       "      <td>0.353531</td>\n",
       "    </tr>\n",
       "    <tr>\n",
       "      <th>Total Bsmt SF</th>\n",
       "      <td>0.482361</td>\n",
       "      <td>0.792141</td>\n",
       "      <td>-0.408937</td>\n",
       "      <td>0.266593</td>\n",
       "    </tr>\n",
       "    <tr>\n",
       "      <th>Garage Area</th>\n",
       "      <td>1.000000</td>\n",
       "      <td>0.488648</td>\n",
       "      <td>-0.479588</td>\n",
       "      <td>0.322246</td>\n",
       "    </tr>\n",
       "    <tr>\n",
       "      <th>1st Flr SF</th>\n",
       "      <td>0.488648</td>\n",
       "      <td>1.000000</td>\n",
       "      <td>-0.310610</td>\n",
       "      <td>0.377263</td>\n",
       "    </tr>\n",
       "    <tr>\n",
       "      <th>years_since_built</th>\n",
       "      <td>-0.479588</td>\n",
       "      <td>-0.310610</td>\n",
       "      <td>1.000000</td>\n",
       "      <td>-0.110383</td>\n",
       "    </tr>\n",
       "    <tr>\n",
       "      <th>Full Bath</th>\n",
       "      <td>0.405240</td>\n",
       "      <td>0.372664</td>\n",
       "      <td>-0.468015</td>\n",
       "      <td>0.528785</td>\n",
       "    </tr>\n",
       "    <tr>\n",
       "      <th>years_since_remod</th>\n",
       "      <td>-0.375086</td>\n",
       "      <td>-0.241513</td>\n",
       "      <td>0.612615</td>\n",
       "      <td>-0.197471</td>\n",
       "    </tr>\n",
       "    <tr>\n",
       "      <th>Mas Vnr Area</th>\n",
       "      <td>0.365835</td>\n",
       "      <td>0.376504</td>\n",
       "      <td>-0.306479</td>\n",
       "      <td>0.267292</td>\n",
       "    </tr>\n",
       "    <tr>\n",
       "      <th>TotRms AbvGrd</th>\n",
       "      <td>0.322246</td>\n",
       "      <td>0.377263</td>\n",
       "      <td>-0.110383</td>\n",
       "      <td>1.000000</td>\n",
       "    </tr>\n",
       "    <tr>\n",
       "      <th>Fireplaces</th>\n",
       "      <td>0.292285</td>\n",
       "      <td>0.406845</td>\n",
       "      <td>-0.169411</td>\n",
       "      <td>0.300483</td>\n",
       "    </tr>\n",
       "    <tr>\n",
       "      <th>BsmtFin SF 1</th>\n",
       "      <td>0.303815</td>\n",
       "      <td>0.439639</td>\n",
       "      <td>-0.278013</td>\n",
       "      <td>0.030370</td>\n",
       "    </tr>\n",
       "    <tr>\n",
       "      <th>years_since_garage</th>\n",
       "      <td>-0.321727</td>\n",
       "      <td>-0.208733</td>\n",
       "      <td>0.711992</td>\n",
       "      <td>-0.137553</td>\n",
       "    </tr>\n",
       "    <tr>\n",
       "      <th>Wood Deck SF</th>\n",
       "      <td>0.234684</td>\n",
       "      <td>0.218843</td>\n",
       "      <td>-0.227658</td>\n",
       "      <td>0.148642</td>\n",
       "    </tr>\n",
       "    <tr>\n",
       "      <th>Open Porch SF</th>\n",
       "      <td>0.225048</td>\n",
       "      <td>0.213259</td>\n",
       "      <td>-0.196446</td>\n",
       "      <td>0.222767</td>\n",
       "    </tr>\n",
       "  </tbody>\n",
       "</table>\n",
       "</div>"
      ],
      "text/plain": [
       "                    Garage Area  1st Flr SF  years_since_built  TotRms AbvGrd\n",
       "SalePrice              0.641505    0.635042          -0.558788       0.498784\n",
       "Overall Qual           0.561417    0.474637          -0.596142       0.376452\n",
       "Gr Liv Area            0.480455    0.547001          -0.240372       0.806118\n",
       "Garage Cars            0.888869    0.440982          -0.536627       0.353531\n",
       "Total Bsmt SF          0.482361    0.792141          -0.408937       0.266593\n",
       "Garage Area            1.000000    0.488648          -0.479588       0.322246\n",
       "1st Flr SF             0.488648    1.000000          -0.310610       0.377263\n",
       "years_since_built     -0.479588   -0.310610           1.000000      -0.110383\n",
       "Full Bath              0.405240    0.372664          -0.468015       0.528785\n",
       "years_since_remod     -0.375086   -0.241513           0.612615      -0.197471\n",
       "Mas Vnr Area           0.365835    0.376504          -0.306479       0.267292\n",
       "TotRms AbvGrd          0.322246    0.377263          -0.110383       1.000000\n",
       "Fireplaces             0.292285    0.406845          -0.169411       0.300483\n",
       "BsmtFin SF 1           0.303815    0.439639          -0.278013       0.030370\n",
       "years_since_garage    -0.321727   -0.208733           0.711992      -0.137553\n",
       "Wood Deck SF           0.234684    0.218843          -0.227658       0.148642\n",
       "Open Porch SF          0.225048    0.213259          -0.196446       0.222767"
      ]
     },
     "execution_count": 23,
     "metadata": {},
     "output_type": "execute_result"
    }
   ],
   "source": [
    "# review some of the features with correlations closest to +1 or -1\n",
    "corr_matrix[['Garage Area', '1st Flr SF', 'years_since_built', 'TotRms AbvGrd']]"
   ]
  },
  {
   "cell_type": "markdown",
   "metadata": {},
   "source": [
    "From the above correlations, for most features the correlations are low enough (in absolute value terms) that I am not too concerned with possible multicollinearity.  However, a couple are on the high side to look at more closely.\n",
    "\n",
    "Consider `Total Bsmt SF` and `1st Flr SF` with a correlation of 0.792141, or `Gr Liv Area` and `TotRms AbvGrd` with a correlation of 0.806118, or `Garage Cars` and `Garage Area` with a correlation of 0.888869.\n",
    "\n",
    "For the first two pairs, I am okay with leaving these in for now.  For `Garage Cars` and `Garage Area`, both of these are direct measures of how big the garage is (one is number of cars that the garage holds while the other is how many square feet the garage covers).  Since these both measure garage size and they are relatively highly correlated, I will drop one of these features - `Garage Cars`."
   ]
  },
  {
   "cell_type": "code",
   "execution_count": 24,
   "metadata": {
    "collapsed": false
   },
   "outputs": [],
   "source": [
    "# which remaining features are supposed to be categorial\n",
    "# review data description for details\n",
    "categoricals = ['MS SubClass', 'MS Zoning', 'Street', 'Lot Shape', \n",
    "                'Land Contour', 'Utilities', 'Lot Config', \n",
    "                'Land Slope', 'Neighborhood', 'Condition 1', 'Condition 2', \n",
    "                'Bldg Type', 'House Style', 'Roof Style', 'Roof Matl', \n",
    "                'Exterior 1st', 'Exterior 2nd', 'Exter Qual', 'Exter Cond', \n",
    "                'Foundation', 'Heating', 'Heating QC', 'Central Air', \n",
    "                'Kitchen Qual', 'Functional', 'Paved Drive', 'Misc Val']"
   ]
  },
  {
   "cell_type": "code",
   "execution_count": 25,
   "metadata": {
    "collapsed": false
   },
   "outputs": [
    {
     "data": {
      "text/plain": [
       "Misc Val        37\n",
       "Neighborhood    28\n",
       "Exterior 2nd    17\n",
       "Exterior 1st    16\n",
       "MS SubClass     16\n",
       "Condition 1      9\n",
       "Condition 2      8\n",
       "Roof Matl        8\n",
       "Functional       8\n",
       "House Style      8\n",
       "MS Zoning        7\n",
       "Heating          6\n",
       "Roof Style       6\n",
       "Foundation       6\n",
       "Kitchen Qual     5\n",
       "Bldg Type        5\n",
       "Exter Cond       5\n",
       "Lot Config       5\n",
       "Heating QC       5\n",
       "Exter Qual       4\n",
       "Land Contour     4\n",
       "Lot Shape        4\n",
       "Paved Drive      3\n",
       "Land Slope       3\n",
       "Utilities        3\n",
       "Central Air      2\n",
       "Street           2\n",
       "dtype: int64"
      ]
     },
     "execution_count": 25,
     "metadata": {},
     "output_type": "execute_result"
    }
   ],
   "source": [
    "# let's look at numbers of unique codes in each of these features\n",
    "unique_codes = transform_df[categoricals].apply(lambda col: len(col.value_counts())).sort_values(ascending=False)\n",
    "unique_codes"
   ]
  },
  {
   "cell_type": "code",
   "execution_count": 26,
   "metadata": {
    "collapsed": false
   },
   "outputs": [
    {
     "data": {
      "text/plain": [
       "Index(['Misc Val', 'Neighborhood', 'Exterior 2nd', 'Exterior 1st',\n",
       "       'MS SubClass'],\n",
       "      dtype='object')"
      ]
     },
     "execution_count": 26,
     "metadata": {},
     "output_type": "execute_result"
    }
   ],
   "source": [
    "# let's drop any columns with more than 10 unique values\n",
    "# this would create a lot of columns when we dummy code these columns\n",
    "drop_unique_codes = unique_codes[unique_codes > 10].index\n",
    "drop_unique_codes"
   ]
  },
  {
   "cell_type": "code",
   "execution_count": 27,
   "metadata": {
    "collapsed": true
   },
   "outputs": [],
   "source": [
    "transform_df = transform_df.drop(drop_unique_codes, axis=1)"
   ]
  },
  {
   "cell_type": "code",
   "execution_count": 28,
   "metadata": {
    "collapsed": false
   },
   "outputs": [
    {
     "data": {
      "text/html": [
       "<div>\n",
       "<style scoped>\n",
       "    .dataframe tbody tr th:only-of-type {\n",
       "        vertical-align: middle;\n",
       "    }\n",
       "\n",
       "    .dataframe tbody tr th {\n",
       "        vertical-align: top;\n",
       "    }\n",
       "\n",
       "    .dataframe thead th {\n",
       "        text-align: right;\n",
       "    }\n",
       "</style>\n",
       "<table border=\"1\" class=\"dataframe\">\n",
       "  <thead>\n",
       "    <tr style=\"text-align: right;\">\n",
       "      <th></th>\n",
       "      <th>MS Zoning</th>\n",
       "      <th>Street</th>\n",
       "      <th>Lot Shape</th>\n",
       "      <th>Land Contour</th>\n",
       "      <th>Utilities</th>\n",
       "      <th>Lot Config</th>\n",
       "      <th>Land Slope</th>\n",
       "      <th>Condition 1</th>\n",
       "      <th>Condition 2</th>\n",
       "      <th>Bldg Type</th>\n",
       "      <th>...</th>\n",
       "      <th>Roof Matl</th>\n",
       "      <th>Exter Qual</th>\n",
       "      <th>Exter Cond</th>\n",
       "      <th>Foundation</th>\n",
       "      <th>Heating</th>\n",
       "      <th>Heating QC</th>\n",
       "      <th>Central Air</th>\n",
       "      <th>Kitchen Qual</th>\n",
       "      <th>Functional</th>\n",
       "      <th>Paved Drive</th>\n",
       "    </tr>\n",
       "  </thead>\n",
       "  <tbody>\n",
       "    <tr>\n",
       "      <th>count</th>\n",
       "      <td>2926</td>\n",
       "      <td>2926</td>\n",
       "      <td>2926</td>\n",
       "      <td>2926</td>\n",
       "      <td>2926</td>\n",
       "      <td>2926</td>\n",
       "      <td>2926</td>\n",
       "      <td>2926</td>\n",
       "      <td>2926</td>\n",
       "      <td>2926</td>\n",
       "      <td>...</td>\n",
       "      <td>2926</td>\n",
       "      <td>2926</td>\n",
       "      <td>2926</td>\n",
       "      <td>2926</td>\n",
       "      <td>2926</td>\n",
       "      <td>2926</td>\n",
       "      <td>2926</td>\n",
       "      <td>2926</td>\n",
       "      <td>2926</td>\n",
       "      <td>2926</td>\n",
       "    </tr>\n",
       "    <tr>\n",
       "      <th>unique</th>\n",
       "      <td>7</td>\n",
       "      <td>2</td>\n",
       "      <td>4</td>\n",
       "      <td>4</td>\n",
       "      <td>3</td>\n",
       "      <td>5</td>\n",
       "      <td>3</td>\n",
       "      <td>9</td>\n",
       "      <td>8</td>\n",
       "      <td>5</td>\n",
       "      <td>...</td>\n",
       "      <td>8</td>\n",
       "      <td>4</td>\n",
       "      <td>5</td>\n",
       "      <td>6</td>\n",
       "      <td>6</td>\n",
       "      <td>5</td>\n",
       "      <td>2</td>\n",
       "      <td>5</td>\n",
       "      <td>8</td>\n",
       "      <td>3</td>\n",
       "    </tr>\n",
       "    <tr>\n",
       "      <th>top</th>\n",
       "      <td>RL</td>\n",
       "      <td>Pave</td>\n",
       "      <td>Reg</td>\n",
       "      <td>Lvl</td>\n",
       "      <td>AllPub</td>\n",
       "      <td>Inside</td>\n",
       "      <td>Gtl</td>\n",
       "      <td>Norm</td>\n",
       "      <td>Norm</td>\n",
       "      <td>1Fam</td>\n",
       "      <td>...</td>\n",
       "      <td>CompShg</td>\n",
       "      <td>TA</td>\n",
       "      <td>TA</td>\n",
       "      <td>PConc</td>\n",
       "      <td>GasA</td>\n",
       "      <td>Ex</td>\n",
       "      <td>Y</td>\n",
       "      <td>TA</td>\n",
       "      <td>Typ</td>\n",
       "      <td>Y</td>\n",
       "    </tr>\n",
       "    <tr>\n",
       "      <th>freq</th>\n",
       "      <td>2269</td>\n",
       "      <td>2914</td>\n",
       "      <td>1859</td>\n",
       "      <td>2632</td>\n",
       "      <td>2923</td>\n",
       "      <td>2137</td>\n",
       "      <td>2785</td>\n",
       "      <td>2519</td>\n",
       "      <td>2897</td>\n",
       "      <td>2421</td>\n",
       "      <td>...</td>\n",
       "      <td>2883</td>\n",
       "      <td>1799</td>\n",
       "      <td>2545</td>\n",
       "      <td>1306</td>\n",
       "      <td>2881</td>\n",
       "      <td>1491</td>\n",
       "      <td>2730</td>\n",
       "      <td>1494</td>\n",
       "      <td>2724</td>\n",
       "      <td>2648</td>\n",
       "    </tr>\n",
       "  </tbody>\n",
       "</table>\n",
       "<p>4 rows × 22 columns</p>\n",
       "</div>"
      ],
      "text/plain": [
       "       MS Zoning Street Lot Shape Land Contour Utilities Lot Config  \\\n",
       "count       2926   2926      2926         2926      2926       2926   \n",
       "unique         7      2         4            4         3          5   \n",
       "top           RL   Pave       Reg          Lvl    AllPub     Inside   \n",
       "freq        2269   2914      1859         2632      2923       2137   \n",
       "\n",
       "       Land Slope Condition 1 Condition 2 Bldg Type     ...     Roof Matl  \\\n",
       "count        2926        2926        2926      2926     ...          2926   \n",
       "unique          3           9           8         5     ...             8   \n",
       "top           Gtl        Norm        Norm      1Fam     ...       CompShg   \n",
       "freq         2785        2519        2897      2421     ...          2883   \n",
       "\n",
       "       Exter Qual Exter Cond Foundation Heating Heating QC Central Air  \\\n",
       "count        2926       2926       2926    2926       2926        2926   \n",
       "unique          4          5          6       6          5           2   \n",
       "top            TA         TA      PConc    GasA         Ex           Y   \n",
       "freq         1799       2545       1306    2881       1491        2730   \n",
       "\n",
       "       Kitchen Qual Functional Paved Drive  \n",
       "count          2926       2926        2926  \n",
       "unique            5          8           3  \n",
       "top              TA        Typ           Y  \n",
       "freq           1494       2724        2648  \n",
       "\n",
       "[4 rows x 22 columns]"
      ]
     },
     "execution_count": 28,
     "metadata": {},
     "output_type": "execute_result"
    }
   ],
   "source": [
    "# review remaining categoricals\n",
    "transform_df.describe(include=['object'])"
   ]
  },
  {
   "cell_type": "markdown",
   "metadata": {},
   "source": [
    "It appears that there are a number of features where more than 95% of the values belong to one category.  These are very low variability features that will add little to our model (there is little variability for our model to capture).\n",
    "\n",
    "Let's drop any feature where the frequency of the top category is more than 95% of the values of that feature."
   ]
  },
  {
   "cell_type": "code",
   "execution_count": 29,
   "metadata": {
    "collapsed": false
   },
   "outputs": [
    {
     "data": {
      "text/plain": [
       "Street         2914\n",
       "Utilities      2923\n",
       "Land Slope     2785\n",
       "Condition 2    2897\n",
       "Roof Matl      2883\n",
       "Heating        2881\n",
       "Name: freq, dtype: object"
      ]
     },
     "execution_count": 29,
     "metadata": {},
     "output_type": "execute_result"
    }
   ],
   "source": [
    "cats = transform_df.describe(include=['object'])\n",
    "freq = cats.iloc[3, :]\n",
    "bad_freq = freq[freq >= 2780]\n",
    "bad_freq"
   ]
  },
  {
   "cell_type": "code",
   "execution_count": 30,
   "metadata": {
    "collapsed": false
   },
   "outputs": [
    {
     "data": {
      "text/plain": [
       "Index([], dtype='object')"
      ]
     },
     "execution_count": 30,
     "metadata": {},
     "output_type": "execute_result"
    }
   ],
   "source": [
    "# are any of our categoricals currently numerical?\n",
    "cats_filtered = ['MS Zoning', 'Lot Shape', 'Land Contour', 'Lot Config', \n",
    "                 'Condition 1', 'Bldg Type', 'House Style', 'Roof Style', \n",
    "                 'Exter Qual', 'Exter Cond', 'Foundation', 'Heating QC', \n",
    "                 'Central Air', 'Kitchen Qual', 'Functional', 'Paved Drive']\n",
    "\n",
    "transform_df[cats_filtered].select_dtypes(exclude=['object']).columns"
   ]
  },
  {
   "cell_type": "markdown",
   "metadata": {},
   "source": [
    "None of our remaining categoricals are currently numeric columns, so no adjustments need to be made for this potential issue."
   ]
  },
  {
   "cell_type": "code",
   "execution_count": 31,
   "metadata": {
    "collapsed": false
   },
   "outputs": [
    {
     "data": {
      "text/html": [
       "<div>\n",
       "<style scoped>\n",
       "    .dataframe tbody tr th:only-of-type {\n",
       "        vertical-align: middle;\n",
       "    }\n",
       "\n",
       "    .dataframe tbody tr th {\n",
       "        vertical-align: top;\n",
       "    }\n",
       "\n",
       "    .dataframe thead th {\n",
       "        text-align: right;\n",
       "    }\n",
       "</style>\n",
       "<table border=\"1\" class=\"dataframe\">\n",
       "  <thead>\n",
       "    <tr style=\"text-align: right;\">\n",
       "      <th></th>\n",
       "      <th>MS Zoning_A (agr)</th>\n",
       "      <th>MS Zoning_C (all)</th>\n",
       "      <th>MS Zoning_FV</th>\n",
       "      <th>MS Zoning_I (all)</th>\n",
       "      <th>MS Zoning_RH</th>\n",
       "      <th>MS Zoning_RL</th>\n",
       "      <th>MS Zoning_RM</th>\n",
       "      <th>Lot Shape_IR1</th>\n",
       "      <th>Lot Shape_IR2</th>\n",
       "      <th>Lot Shape_IR3</th>\n",
       "      <th>...</th>\n",
       "      <th>Functional_Maj2</th>\n",
       "      <th>Functional_Min1</th>\n",
       "      <th>Functional_Min2</th>\n",
       "      <th>Functional_Mod</th>\n",
       "      <th>Functional_Sal</th>\n",
       "      <th>Functional_Sev</th>\n",
       "      <th>Functional_Typ</th>\n",
       "      <th>Paved Drive_N</th>\n",
       "      <th>Paved Drive_P</th>\n",
       "      <th>Paved Drive_Y</th>\n",
       "    </tr>\n",
       "  </thead>\n",
       "  <tbody>\n",
       "    <tr>\n",
       "      <th>0</th>\n",
       "      <td>0</td>\n",
       "      <td>0</td>\n",
       "      <td>0</td>\n",
       "      <td>0</td>\n",
       "      <td>0</td>\n",
       "      <td>1</td>\n",
       "      <td>0</td>\n",
       "      <td>1</td>\n",
       "      <td>0</td>\n",
       "      <td>0</td>\n",
       "      <td>...</td>\n",
       "      <td>0</td>\n",
       "      <td>0</td>\n",
       "      <td>0</td>\n",
       "      <td>0</td>\n",
       "      <td>0</td>\n",
       "      <td>0</td>\n",
       "      <td>1</td>\n",
       "      <td>0</td>\n",
       "      <td>1</td>\n",
       "      <td>0</td>\n",
       "    </tr>\n",
       "    <tr>\n",
       "      <th>1</th>\n",
       "      <td>0</td>\n",
       "      <td>0</td>\n",
       "      <td>0</td>\n",
       "      <td>0</td>\n",
       "      <td>1</td>\n",
       "      <td>0</td>\n",
       "      <td>0</td>\n",
       "      <td>0</td>\n",
       "      <td>0</td>\n",
       "      <td>0</td>\n",
       "      <td>...</td>\n",
       "      <td>0</td>\n",
       "      <td>0</td>\n",
       "      <td>0</td>\n",
       "      <td>0</td>\n",
       "      <td>0</td>\n",
       "      <td>0</td>\n",
       "      <td>1</td>\n",
       "      <td>0</td>\n",
       "      <td>0</td>\n",
       "      <td>1</td>\n",
       "    </tr>\n",
       "    <tr>\n",
       "      <th>2</th>\n",
       "      <td>0</td>\n",
       "      <td>0</td>\n",
       "      <td>0</td>\n",
       "      <td>0</td>\n",
       "      <td>0</td>\n",
       "      <td>1</td>\n",
       "      <td>0</td>\n",
       "      <td>1</td>\n",
       "      <td>0</td>\n",
       "      <td>0</td>\n",
       "      <td>...</td>\n",
       "      <td>0</td>\n",
       "      <td>0</td>\n",
       "      <td>0</td>\n",
       "      <td>0</td>\n",
       "      <td>0</td>\n",
       "      <td>0</td>\n",
       "      <td>1</td>\n",
       "      <td>0</td>\n",
       "      <td>0</td>\n",
       "      <td>1</td>\n",
       "    </tr>\n",
       "    <tr>\n",
       "      <th>3</th>\n",
       "      <td>0</td>\n",
       "      <td>0</td>\n",
       "      <td>0</td>\n",
       "      <td>0</td>\n",
       "      <td>0</td>\n",
       "      <td>1</td>\n",
       "      <td>0</td>\n",
       "      <td>0</td>\n",
       "      <td>0</td>\n",
       "      <td>0</td>\n",
       "      <td>...</td>\n",
       "      <td>0</td>\n",
       "      <td>0</td>\n",
       "      <td>0</td>\n",
       "      <td>0</td>\n",
       "      <td>0</td>\n",
       "      <td>0</td>\n",
       "      <td>1</td>\n",
       "      <td>0</td>\n",
       "      <td>0</td>\n",
       "      <td>1</td>\n",
       "    </tr>\n",
       "    <tr>\n",
       "      <th>4</th>\n",
       "      <td>0</td>\n",
       "      <td>0</td>\n",
       "      <td>0</td>\n",
       "      <td>0</td>\n",
       "      <td>0</td>\n",
       "      <td>1</td>\n",
       "      <td>0</td>\n",
       "      <td>1</td>\n",
       "      <td>0</td>\n",
       "      <td>0</td>\n",
       "      <td>...</td>\n",
       "      <td>0</td>\n",
       "      <td>0</td>\n",
       "      <td>0</td>\n",
       "      <td>0</td>\n",
       "      <td>0</td>\n",
       "      <td>0</td>\n",
       "      <td>1</td>\n",
       "      <td>0</td>\n",
       "      <td>0</td>\n",
       "      <td>1</td>\n",
       "    </tr>\n",
       "  </tbody>\n",
       "</table>\n",
       "<p>5 rows × 86 columns</p>\n",
       "</div>"
      ],
      "text/plain": [
       "   MS Zoning_A (agr)  MS Zoning_C (all)  MS Zoning_FV  MS Zoning_I (all)  \\\n",
       "0                  0                  0             0                  0   \n",
       "1                  0                  0             0                  0   \n",
       "2                  0                  0             0                  0   \n",
       "3                  0                  0             0                  0   \n",
       "4                  0                  0             0                  0   \n",
       "\n",
       "   MS Zoning_RH  MS Zoning_RL  MS Zoning_RM  Lot Shape_IR1  Lot Shape_IR2  \\\n",
       "0             0             1             0              1              0   \n",
       "1             1             0             0              0              0   \n",
       "2             0             1             0              1              0   \n",
       "3             0             1             0              0              0   \n",
       "4             0             1             0              1              0   \n",
       "\n",
       "   Lot Shape_IR3      ...        Functional_Maj2  Functional_Min1  \\\n",
       "0              0      ...                      0                0   \n",
       "1              0      ...                      0                0   \n",
       "2              0      ...                      0                0   \n",
       "3              0      ...                      0                0   \n",
       "4              0      ...                      0                0   \n",
       "\n",
       "   Functional_Min2  Functional_Mod  Functional_Sal  Functional_Sev  \\\n",
       "0                0               0               0               0   \n",
       "1                0               0               0               0   \n",
       "2                0               0               0               0   \n",
       "3                0               0               0               0   \n",
       "4                0               0               0               0   \n",
       "\n",
       "   Functional_Typ  Paved Drive_N  Paved Drive_P  Paved Drive_Y  \n",
       "0               1              0              1              0  \n",
       "1               1              0              0              1  \n",
       "2               1              0              0              1  \n",
       "3               1              0              0              1  \n",
       "4               1              0              0              1  \n",
       "\n",
       "[5 rows x 86 columns]"
      ]
     },
     "execution_count": 31,
     "metadata": {},
     "output_type": "execute_result"
    }
   ],
   "source": [
    "# create dummy variables for our categoricals\n",
    "# use prefix since many categories have similar values\n",
    "# this will keep unique names for all our features\n",
    "cat_df = transform_df[cats_filtered]\n",
    "for col in cats_filtered:\n",
    "    cat_df = pd.concat([cat_df, pd.get_dummies(cat_df[col], prefix=col)], axis=1)\n",
    "    cat_df = cat_df.drop([col], axis=1)\n",
    "    \n",
    "cat_df.head()"
   ]
  },
  {
   "cell_type": "markdown",
   "metadata": {},
   "source": [
    "Now let's incorporate everything above into our `select_features` function."
   ]
  },
  {
   "cell_type": "code",
   "execution_count": 32,
   "metadata": {
    "collapsed": true
   },
   "outputs": [],
   "source": [
    "# revise our select_features function based on the above work\n",
    "def select_features(df):\n",
    "    # remove numerical features with low correlation with our target\n",
    "    numerical_df = df.select_dtypes(exclude=['object'])\n",
    "    corr_with_price = numerical_df.corr()['SalePrice'].abs().sort_values(ascending=False)\n",
    "    weak_corrs = corr_with_price[corr_with_price <= 0.30]\n",
    "    df = df.drop(weak_corrs.index, axis=1)\n",
    "    df = df.drop(['Garage Cars'], axis=1)\n",
    "    \n",
    "    # review categoricals\n",
    "    categoricals = ['MS Zoning', 'Street', 'Lot Shape', 'Land Contour', \n",
    "                    'Utilities', 'Lot Config', 'Land Slope', 'Neighborhood', \n",
    "                    'Condition 1', 'Condition 2', 'Bldg Type', 'House Style', \n",
    "                    'Roof Style', 'Roof Matl', 'Exterior 1st', \n",
    "                    'Exterior 2nd', 'Exter Qual', 'Exter Cond', \n",
    "                    'Foundation', 'Heating', 'Heating QC', 'Central Air', \n",
    "                    'Kitchen Qual', 'Functional', 'Paved Drive']\n",
    "    \n",
    "    # drop those with too many categories\n",
    "    unique_codes = df[categoricals].apply(lambda col: len(col.value_counts())).sort_values(ascending=False)\n",
    "    drop_unique_codes = unique_codes[unique_codes > 10].index\n",
    "    df = df.drop(drop_unique_codes, axis=1)\n",
    "    \n",
    "    # drop those with too little variation\n",
    "    cats = df.describe(include=['object'])\n",
    "    freq = cats.iloc[3, :]\n",
    "    bad_freq = freq[freq >= 2780]\n",
    "    df = df.drop(bad_freq.index, axis=1)\n",
    "    \n",
    "    # create dummy variables for our categoricals\n",
    "    cats_filtered = df.select_dtypes(include=['object']).columns\n",
    "    for col in cats_filtered:\n",
    "        df = pd.concat([df, pd.get_dummies(df[col], prefix=col)], axis=1)\n",
    "        df = df.drop([col], axis=1)\n",
    "    \n",
    "    return df"
   ]
  },
  {
   "cell_type": "code",
   "execution_count": 33,
   "metadata": {
    "collapsed": false
   },
   "outputs": [
    {
     "data": {
      "text/plain": [
       "32951.62573435863"
      ]
     },
     "execution_count": 33,
     "metadata": {},
     "output_type": "execute_result"
    }
   ],
   "source": [
    "# re-run the model with our revised select_features function\n",
    "housing = pd.read_csv('AmesHousing.tsv', sep='\\t')\n",
    "transform_df = transform_features(housing)\n",
    "filtered_df = select_features(transform_df)\n",
    "rmse = train_and_test(filtered_df)\n",
    "rmse"
   ]
  },
  {
   "cell_type": "markdown",
   "metadata": {
    "collapsed": false
   },
   "source": [
    "## Training and Testing\n",
    "\n",
    "Next, let's update the train_and_test function to incorporate cross validation.  We can incorporate several types:\n",
    "\n",
    "- k = 0: holdout validation\n",
    "    - assign the first 1460 rows to train and the remainder to test\n",
    "    - train on train; test on test\n",
    "    - return the RMSE\n",
    "- k = 1: simple cross validation\n",
    "    - shuffle the row ordering\n",
    "    - assign the first 1460 rows to fold_one and the remainder to fold_two\n",
    "    - train on fold_one; test on fold_two\n",
    "    - train on fold_two; test on fold_one\n",
    "    - return the average RMSE\n",
    "- k > 1: k-fold cross validation\n",
    "    - perform k-fold cross validation using k folds\n",
    "    - return the avereage RMSE"
   ]
  },
  {
   "cell_type": "code",
   "execution_count": 34,
   "metadata": {
    "collapsed": false
   },
   "outputs": [],
   "source": [
    "# revise train_and_test() to incorporate the above\n",
    "# add a parameter k\n",
    "def train_and_test(df, k=10):\n",
    "    features = df.columns.drop('SalePrice')\n",
    "    \n",
    "    # when k=0, this is the original function\n",
    "    if k == 0:\n",
    "        train = df[:1460]\n",
    "        test = df[1460:]\n",
    "        \n",
    "        X = train[features]\n",
    "        y = train['SalePrice']\n",
    "    \n",
    "        reg = LinearRegression()\n",
    "        reg.fit(X, y)\n",
    "        predictions = reg.predict(test[features])\n",
    "        rmse = mean_squared_error(test['SalePrice'], predictions) ** (1/2)\n",
    "        return rmse\n",
    "    \n",
    "    # implement simple cross validation\n",
    "    elif k == 1:\n",
    "        shuffled_df = df.sample(frac=1, random_state=1)\n",
    "        fold_one = shuffled_df[:1460]\n",
    "        fold_two = shuffled_df[1460:]\n",
    "        \n",
    "        X1 = fold_one[features]\n",
    "        X2 = fold_two[features]\n",
    "        y1 = fold_one['SalePrice']\n",
    "        y2 = fold_two['SalePrice']\n",
    "        \n",
    "        reg1 = LinearRegression()\n",
    "        reg1.fit(X1, y1)\n",
    "        predictions1 = reg1.predict(X2)\n",
    "        rmse1 = mean_squared_error(y2, predictions1) ** (1/2)\n",
    "        \n",
    "        reg2 = LinearRegression()\n",
    "        reg2.fit(X2, y2)\n",
    "        predictions2 = reg2.predict(X1)\n",
    "        rmse2 = mean_squared_error(y1, predictions2) ** (1/2)\n",
    "        \n",
    "        avg_rmse = (rmse1 + rmse2) / 2\n",
    "        return avg_rmse\n",
    "    \n",
    "    # implement k-fold cross validation\n",
    "    else:\n",
    "        kf = KFold(k, shuffle=True, random_state=1)\n",
    "        reg = LinearRegression()\n",
    "        mses = cross_val_score(reg, df[features], df['SalePrice'], scoring=\"neg_mean_squared_error\", cv=kf)\n",
    "        rmses = np.sqrt(np.absolute(mses))\n",
    "        avg_rmse = np.mean(rmses)\n",
    "    \n",
    "        return avg_rmse"
   ]
  },
  {
   "cell_type": "code",
   "execution_count": 35,
   "metadata": {
    "collapsed": false
   },
   "outputs": [
    {
     "data": {
      "text/plain": [
       "32951.62573435863"
      ]
     },
     "execution_count": 35,
     "metadata": {},
     "output_type": "execute_result"
    }
   ],
   "source": [
    "# re-run the model with our revised train_and_test function\n",
    "# k = 0 -- should match the previous run before modifying function\n",
    "housing = pd.read_csv('AmesHousing.tsv', sep='\\t')\n",
    "transform_df = transform_features(housing)\n",
    "filtered_df = select_features(transform_df)\n",
    "rmse = train_and_test(filtered_df, k=0)\n",
    "rmse"
   ]
  },
  {
   "cell_type": "code",
   "execution_count": 36,
   "metadata": {
    "collapsed": false
   },
   "outputs": [
    {
     "data": {
      "text/plain": [
       "30060.068272526973"
      ]
     },
     "execution_count": 36,
     "metadata": {},
     "output_type": "execute_result"
    }
   ],
   "source": [
    "# re-run for k = 1\n",
    "housing = pd.read_csv('AmesHousing.tsv', sep='\\t')\n",
    "transform_df = transform_features(housing)\n",
    "filtered_df = select_features(transform_df)\n",
    "rmse = train_and_test(filtered_df, k=1)\n",
    "rmse"
   ]
  },
  {
   "cell_type": "code",
   "execution_count": 37,
   "metadata": {
    "collapsed": false
   },
   "outputs": [
    {
     "data": {
      "text/plain": [
       "28659.96146634063"
      ]
     },
     "execution_count": 37,
     "metadata": {},
     "output_type": "execute_result"
    }
   ],
   "source": [
    "# re-run for larger k\n",
    "housing = pd.read_csv('AmesHousing.tsv', sep='\\t')\n",
    "transform_df = transform_features(housing)\n",
    "filtered_df = select_features(transform_df)\n",
    "rmse = train_and_test(filtered_df, k=5)\n",
    "rmse"
   ]
  },
  {
   "cell_type": "code",
   "execution_count": 38,
   "metadata": {
    "collapsed": false
   },
   "outputs": [
    {
     "data": {
      "text/plain": [
       "28194.484639731138"
      ]
     },
     "execution_count": 38,
     "metadata": {},
     "output_type": "execute_result"
    }
   ],
   "source": [
    "# re-run using default k\n",
    "housing = pd.read_csv('AmesHousing.tsv', sep='\\t')\n",
    "transform_df = transform_features(housing)\n",
    "filtered_df = select_features(transform_df)\n",
    "rmse = train_and_test(filtered_df)\n",
    "rmse"
   ]
  },
  {
   "cell_type": "code",
   "execution_count": null,
   "metadata": {
    "collapsed": false
   },
   "outputs": [],
   "source": []
  }
 ],
 "metadata": {
  "anaconda-cloud": {},
  "kernelspec": {
   "display_name": "Python 3",
   "language": "python",
   "name": "python3"
  },
  "language_info": {
   "codemirror_mode": {
    "name": "ipython",
    "version": 3
   },
   "file_extension": ".py",
   "mimetype": "text/x-python",
   "name": "python",
   "nbconvert_exporter": "python",
   "pygments_lexer": "ipython3",
   "version": "3.4.3"
  }
 },
 "nbformat": 4,
 "nbformat_minor": 2
}
