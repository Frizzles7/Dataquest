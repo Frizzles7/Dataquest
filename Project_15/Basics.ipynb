{
 "cells": [
  {
   "cell_type": "markdown",
   "metadata": {},
   "source": [
    "# Finding Advertising Markets\n",
    "\n",
    "In this project, we are working for an e-learning company that offers courses on programming.  We are looking for the best two markets in which to advertise our product.  To do this, we will use different summary statistics.\n",
    "\n",
    "The data we will use will come from freeCodeCamp's 2017 survey of developers.  This dataset is available on __[GitHub here](https://github.com/freeCodeCamp/2017-new-coder-survey)__."
   ]
  },
  {
   "cell_type": "code",
   "execution_count": 1,
   "metadata": {
    "collapsed": false
   },
   "outputs": [],
   "source": [
    "# imports\n",
    "\n",
    "import numpy as np\n",
    "import pandas as pd\n",
    "import matplotlib.pyplot as plt\n",
    "%matplotlib inline"
   ]
  },
  {
   "cell_type": "code",
   "execution_count": 2,
   "metadata": {
    "collapsed": false
   },
   "outputs": [
    {
     "name": "stdout",
     "output_type": "stream",
     "text": [
      "(18175, 136)\n"
     ]
    }
   ],
   "source": [
    "survey_data = pd.read_csv('2017-fCC-New-Coders-Survey-Data.csv', low_memory=0)\n",
    "print(survey_data.shape)"
   ]
  },
  {
   "cell_type": "code",
   "execution_count": 3,
   "metadata": {
    "collapsed": false
   },
   "outputs": [
    {
     "data": {
      "text/html": [
       "<div>\n",
       "<style scoped>\n",
       "    .dataframe tbody tr th:only-of-type {\n",
       "        vertical-align: middle;\n",
       "    }\n",
       "\n",
       "    .dataframe tbody tr th {\n",
       "        vertical-align: top;\n",
       "    }\n",
       "\n",
       "    .dataframe thead th {\n",
       "        text-align: right;\n",
       "    }\n",
       "</style>\n",
       "<table border=\"1\" class=\"dataframe\">\n",
       "  <thead>\n",
       "    <tr style=\"text-align: right;\">\n",
       "      <th></th>\n",
       "      <th>Age</th>\n",
       "      <th>AttendedBootcamp</th>\n",
       "      <th>BootcampFinish</th>\n",
       "      <th>BootcampLoanYesNo</th>\n",
       "      <th>BootcampName</th>\n",
       "      <th>BootcampRecommend</th>\n",
       "      <th>ChildrenNumber</th>\n",
       "      <th>CityPopulation</th>\n",
       "      <th>CodeEventConferences</th>\n",
       "      <th>CodeEventDjangoGirls</th>\n",
       "      <th>...</th>\n",
       "      <th>YouTubeFCC</th>\n",
       "      <th>YouTubeFunFunFunction</th>\n",
       "      <th>YouTubeGoogleDev</th>\n",
       "      <th>YouTubeLearnCode</th>\n",
       "      <th>YouTubeLevelUpTuts</th>\n",
       "      <th>YouTubeMIT</th>\n",
       "      <th>YouTubeMozillaHacks</th>\n",
       "      <th>YouTubeOther</th>\n",
       "      <th>YouTubeSimplilearn</th>\n",
       "      <th>YouTubeTheNewBoston</th>\n",
       "    </tr>\n",
       "  </thead>\n",
       "  <tbody>\n",
       "    <tr>\n",
       "      <th>0</th>\n",
       "      <td>27.0</td>\n",
       "      <td>0.0</td>\n",
       "      <td>NaN</td>\n",
       "      <td>NaN</td>\n",
       "      <td>NaN</td>\n",
       "      <td>NaN</td>\n",
       "      <td>NaN</td>\n",
       "      <td>more than 1 million</td>\n",
       "      <td>NaN</td>\n",
       "      <td>NaN</td>\n",
       "      <td>...</td>\n",
       "      <td>NaN</td>\n",
       "      <td>NaN</td>\n",
       "      <td>NaN</td>\n",
       "      <td>NaN</td>\n",
       "      <td>NaN</td>\n",
       "      <td>NaN</td>\n",
       "      <td>NaN</td>\n",
       "      <td>NaN</td>\n",
       "      <td>NaN</td>\n",
       "      <td>NaN</td>\n",
       "    </tr>\n",
       "    <tr>\n",
       "      <th>1</th>\n",
       "      <td>34.0</td>\n",
       "      <td>0.0</td>\n",
       "      <td>NaN</td>\n",
       "      <td>NaN</td>\n",
       "      <td>NaN</td>\n",
       "      <td>NaN</td>\n",
       "      <td>NaN</td>\n",
       "      <td>less than 100,000</td>\n",
       "      <td>NaN</td>\n",
       "      <td>NaN</td>\n",
       "      <td>...</td>\n",
       "      <td>1.0</td>\n",
       "      <td>NaN</td>\n",
       "      <td>NaN</td>\n",
       "      <td>NaN</td>\n",
       "      <td>NaN</td>\n",
       "      <td>NaN</td>\n",
       "      <td>NaN</td>\n",
       "      <td>NaN</td>\n",
       "      <td>NaN</td>\n",
       "      <td>NaN</td>\n",
       "    </tr>\n",
       "    <tr>\n",
       "      <th>2</th>\n",
       "      <td>21.0</td>\n",
       "      <td>0.0</td>\n",
       "      <td>NaN</td>\n",
       "      <td>NaN</td>\n",
       "      <td>NaN</td>\n",
       "      <td>NaN</td>\n",
       "      <td>NaN</td>\n",
       "      <td>more than 1 million</td>\n",
       "      <td>NaN</td>\n",
       "      <td>NaN</td>\n",
       "      <td>...</td>\n",
       "      <td>NaN</td>\n",
       "      <td>NaN</td>\n",
       "      <td>NaN</td>\n",
       "      <td>1.0</td>\n",
       "      <td>1.0</td>\n",
       "      <td>NaN</td>\n",
       "      <td>NaN</td>\n",
       "      <td>NaN</td>\n",
       "      <td>NaN</td>\n",
       "      <td>NaN</td>\n",
       "    </tr>\n",
       "    <tr>\n",
       "      <th>3</th>\n",
       "      <td>26.0</td>\n",
       "      <td>0.0</td>\n",
       "      <td>NaN</td>\n",
       "      <td>NaN</td>\n",
       "      <td>NaN</td>\n",
       "      <td>NaN</td>\n",
       "      <td>NaN</td>\n",
       "      <td>between 100,000 and 1 million</td>\n",
       "      <td>NaN</td>\n",
       "      <td>NaN</td>\n",
       "      <td>...</td>\n",
       "      <td>1.0</td>\n",
       "      <td>1.0</td>\n",
       "      <td>NaN</td>\n",
       "      <td>NaN</td>\n",
       "      <td>1.0</td>\n",
       "      <td>NaN</td>\n",
       "      <td>NaN</td>\n",
       "      <td>NaN</td>\n",
       "      <td>NaN</td>\n",
       "      <td>NaN</td>\n",
       "    </tr>\n",
       "    <tr>\n",
       "      <th>4</th>\n",
       "      <td>20.0</td>\n",
       "      <td>0.0</td>\n",
       "      <td>NaN</td>\n",
       "      <td>NaN</td>\n",
       "      <td>NaN</td>\n",
       "      <td>NaN</td>\n",
       "      <td>NaN</td>\n",
       "      <td>between 100,000 and 1 million</td>\n",
       "      <td>NaN</td>\n",
       "      <td>NaN</td>\n",
       "      <td>...</td>\n",
       "      <td>NaN</td>\n",
       "      <td>NaN</td>\n",
       "      <td>NaN</td>\n",
       "      <td>NaN</td>\n",
       "      <td>NaN</td>\n",
       "      <td>NaN</td>\n",
       "      <td>NaN</td>\n",
       "      <td>NaN</td>\n",
       "      <td>NaN</td>\n",
       "      <td>NaN</td>\n",
       "    </tr>\n",
       "  </tbody>\n",
       "</table>\n",
       "<p>5 rows × 136 columns</p>\n",
       "</div>"
      ],
      "text/plain": [
       "    Age  AttendedBootcamp  BootcampFinish  BootcampLoanYesNo BootcampName  \\\n",
       "0  27.0               0.0             NaN                NaN          NaN   \n",
       "1  34.0               0.0             NaN                NaN          NaN   \n",
       "2  21.0               0.0             NaN                NaN          NaN   \n",
       "3  26.0               0.0             NaN                NaN          NaN   \n",
       "4  20.0               0.0             NaN                NaN          NaN   \n",
       "\n",
       "   BootcampRecommend  ChildrenNumber                 CityPopulation  \\\n",
       "0                NaN             NaN            more than 1 million   \n",
       "1                NaN             NaN              less than 100,000   \n",
       "2                NaN             NaN            more than 1 million   \n",
       "3                NaN             NaN  between 100,000 and 1 million   \n",
       "4                NaN             NaN  between 100,000 and 1 million   \n",
       "\n",
       "   CodeEventConferences  CodeEventDjangoGirls         ...           \\\n",
       "0                   NaN                   NaN         ...            \n",
       "1                   NaN                   NaN         ...            \n",
       "2                   NaN                   NaN         ...            \n",
       "3                   NaN                   NaN         ...            \n",
       "4                   NaN                   NaN         ...            \n",
       "\n",
       "   YouTubeFCC  YouTubeFunFunFunction  YouTubeGoogleDev  YouTubeLearnCode  \\\n",
       "0         NaN                    NaN               NaN               NaN   \n",
       "1         1.0                    NaN               NaN               NaN   \n",
       "2         NaN                    NaN               NaN               1.0   \n",
       "3         1.0                    1.0               NaN               NaN   \n",
       "4         NaN                    NaN               NaN               NaN   \n",
       "\n",
       "   YouTubeLevelUpTuts  YouTubeMIT  YouTubeMozillaHacks YouTubeOther  \\\n",
       "0                 NaN         NaN                  NaN          NaN   \n",
       "1                 NaN         NaN                  NaN          NaN   \n",
       "2                 1.0         NaN                  NaN          NaN   \n",
       "3                 1.0         NaN                  NaN          NaN   \n",
       "4                 NaN         NaN                  NaN          NaN   \n",
       "\n",
       "   YouTubeSimplilearn  YouTubeTheNewBoston  \n",
       "0                 NaN                  NaN  \n",
       "1                 NaN                  NaN  \n",
       "2                 NaN                  NaN  \n",
       "3                 NaN                  NaN  \n",
       "4                 NaN                  NaN  \n",
       "\n",
       "[5 rows x 136 columns]"
      ]
     },
     "execution_count": 3,
     "metadata": {},
     "output_type": "execute_result"
    }
   ],
   "source": [
    "# review inital rows of data\n",
    "survey_data.head()"
   ]
  },
  {
   "cell_type": "code",
   "execution_count": 4,
   "metadata": {
    "collapsed": false
   },
   "outputs": [
    {
     "data": {
      "text/plain": [
       "['Age',\n",
       " 'AttendedBootcamp',\n",
       " 'BootcampFinish',\n",
       " 'BootcampLoanYesNo',\n",
       " 'BootcampName',\n",
       " 'BootcampRecommend',\n",
       " 'ChildrenNumber',\n",
       " 'CityPopulation',\n",
       " 'CodeEventConferences',\n",
       " 'CodeEventDjangoGirls',\n",
       " 'CodeEventFCC',\n",
       " 'CodeEventGameJam',\n",
       " 'CodeEventGirlDev',\n",
       " 'CodeEventHackathons',\n",
       " 'CodeEventMeetup',\n",
       " 'CodeEventNodeSchool',\n",
       " 'CodeEventNone',\n",
       " 'CodeEventOther',\n",
       " 'CodeEventRailsBridge',\n",
       " 'CodeEventRailsGirls',\n",
       " 'CodeEventStartUpWknd',\n",
       " 'CodeEventWkdBootcamps',\n",
       " 'CodeEventWomenCode',\n",
       " 'CodeEventWorkshops',\n",
       " 'CommuteTime',\n",
       " 'CountryCitizen',\n",
       " 'CountryLive',\n",
       " 'EmploymentField',\n",
       " 'EmploymentFieldOther',\n",
       " 'EmploymentStatus',\n",
       " 'EmploymentStatusOther',\n",
       " 'ExpectedEarning',\n",
       " 'FinanciallySupporting',\n",
       " 'FirstDevJob',\n",
       " 'Gender',\n",
       " 'GenderOther',\n",
       " 'HasChildren',\n",
       " 'HasDebt',\n",
       " 'HasFinancialDependents',\n",
       " 'HasHighSpdInternet',\n",
       " 'HasHomeMortgage',\n",
       " 'HasServedInMilitary',\n",
       " 'HasStudentDebt',\n",
       " 'HomeMortgageOwe',\n",
       " 'HoursLearning',\n",
       " 'ID.x',\n",
       " 'ID.y',\n",
       " 'Income',\n",
       " 'IsEthnicMinority',\n",
       " 'IsReceiveDisabilitiesBenefits',\n",
       " 'IsSoftwareDev',\n",
       " 'IsUnderEmployed',\n",
       " 'JobApplyWhen',\n",
       " 'JobInterestBackEnd',\n",
       " 'JobInterestDataEngr',\n",
       " 'JobInterestDataSci',\n",
       " 'JobInterestDevOps',\n",
       " 'JobInterestFrontEnd',\n",
       " 'JobInterestFullStack',\n",
       " 'JobInterestGameDev',\n",
       " 'JobInterestInfoSec',\n",
       " 'JobInterestMobile',\n",
       " 'JobInterestOther',\n",
       " 'JobInterestProjMngr',\n",
       " 'JobInterestQAEngr',\n",
       " 'JobInterestUX',\n",
       " 'JobPref',\n",
       " 'JobRelocateYesNo',\n",
       " 'JobRoleInterest',\n",
       " 'JobWherePref',\n",
       " 'LanguageAtHome',\n",
       " 'MaritalStatus',\n",
       " 'MoneyForLearning',\n",
       " 'MonthsProgramming',\n",
       " 'NetworkID',\n",
       " 'Part1EndTime',\n",
       " 'Part1StartTime',\n",
       " 'Part2EndTime',\n",
       " 'Part2StartTime',\n",
       " 'PodcastChangeLog',\n",
       " 'PodcastCodeNewbie',\n",
       " 'PodcastCodePen',\n",
       " 'PodcastDevTea',\n",
       " 'PodcastDotNET',\n",
       " 'PodcastGiantRobots',\n",
       " 'PodcastJSAir',\n",
       " 'PodcastJSJabber',\n",
       " 'PodcastNone',\n",
       " 'PodcastOther',\n",
       " 'PodcastProgThrowdown',\n",
       " 'PodcastRubyRogues',\n",
       " 'PodcastSEDaily',\n",
       " 'PodcastSERadio',\n",
       " 'PodcastShopTalk',\n",
       " 'PodcastTalkPython',\n",
       " 'PodcastTheWebAhead',\n",
       " 'ResourceCodecademy',\n",
       " 'ResourceCodeWars',\n",
       " 'ResourceCoursera',\n",
       " 'ResourceCSS',\n",
       " 'ResourceEdX',\n",
       " 'ResourceEgghead',\n",
       " 'ResourceFCC',\n",
       " 'ResourceHackerRank',\n",
       " 'ResourceKA',\n",
       " 'ResourceLynda',\n",
       " 'ResourceMDN',\n",
       " 'ResourceOdinProj',\n",
       " 'ResourceOther',\n",
       " 'ResourcePluralSight',\n",
       " 'ResourceSkillcrush',\n",
       " 'ResourceSO',\n",
       " 'ResourceTreehouse',\n",
       " 'ResourceUdacity',\n",
       " 'ResourceUdemy',\n",
       " 'ResourceW3S',\n",
       " 'SchoolDegree',\n",
       " 'SchoolMajor',\n",
       " 'StudentDebtOwe',\n",
       " 'YouTubeCodeCourse',\n",
       " 'YouTubeCodingTrain',\n",
       " 'YouTubeCodingTut360',\n",
       " 'YouTubeComputerphile',\n",
       " 'YouTubeDerekBanas',\n",
       " 'YouTubeDevTips',\n",
       " 'YouTubeEngineeredTruth',\n",
       " 'YouTubeFCC',\n",
       " 'YouTubeFunFunFunction',\n",
       " 'YouTubeGoogleDev',\n",
       " 'YouTubeLearnCode',\n",
       " 'YouTubeLevelUpTuts',\n",
       " 'YouTubeMIT',\n",
       " 'YouTubeMozillaHacks',\n",
       " 'YouTubeOther',\n",
       " 'YouTubeSimplilearn',\n",
       " 'YouTubeTheNewBoston']"
      ]
     },
     "execution_count": 4,
     "metadata": {},
     "output_type": "execute_result"
    }
   ],
   "source": [
    "# review columns to determine appropriate ones for our analysis\n",
    "list(survey_data)"
   ]
  },
  {
   "cell_type": "markdown",
   "metadata": {},
   "source": [
    "## Data Summary\n",
    "\n",
    "In attempting to determine in what markets to advertise for this e-learning company, we can use this survey data rather than collecting our own data (this is a cheaper and faster alternative).\n",
    "\n",
    "Our company has classes on web and mobile development as well as data science and game development.  In determining where to advertise, we would like to use this data to see which coders are interested in the topics the company covers (the `JobInterest...` fields), how much coders are willing to spend to learn (`MoneyForLearning`), and where geographically these coders are located (`CountryLive`)."
   ]
  },
  {
   "cell_type": "markdown",
   "metadata": {},
   "source": [
    "## Is This Survey Data Appropriate?\n",
    "\n",
    "The first question we will address is whether this survey data is appropriate for our use.  Is this data representative for our population of interest (coders who may want to use our company's e-learning courses)?  Are these coders interested in the subjects our company teaches (primarily web and mobile development, but also other subjects)?"
   ]
  },
  {
   "cell_type": "code",
   "execution_count": 5,
   "metadata": {
    "collapsed": false
   },
   "outputs": [
    {
     "data": {
      "text/plain": [
       "Full-Stack Web Developer                                                                                                                                                                                               11.770595\n",
       "  Front-End Web Developer                                                                                                                                                                                               6.435927\n",
       "  Data Scientist                                                                                                                                                                                                        2.173913\n",
       "Back-End Web Developer                                                                                                                                                                                                  2.030892\n",
       "  Mobile Developer                                                                                                                                                                                                      1.673341\n",
       "Game Developer                                                                                                                                                                                                          1.630435\n",
       "Information Security                                                                                                                                                                                                    1.315789\n",
       "Full-Stack Web Developer,   Front-End Web Developer                                                                                                                                                                     0.915332\n",
       "  Front-End Web Developer, Full-Stack Web Developer                                                                                                                                                                     0.800915\n",
       "  Product Manager                                                                                                                                                                                                       0.786613\n",
       "Data Engineer                                                                                                                                                                                                           0.758009\n",
       "  User Experience Designer                                                                                                                                                                                              0.743707\n",
       "  User Experience Designer,   Front-End Web Developer                                                                                                                                                                   0.614989\n",
       "  Front-End Web Developer, Back-End Web Developer, Full-Stack Web Developer                                                                                                                                             0.557780\n",
       "Back-End Web Developer, Full-Stack Web Developer,   Front-End Web Developer                                                                                                                                             0.514874\n",
       "  DevOps / SysAdmin                                                                                                                                                                                                     0.514874\n",
       "Back-End Web Developer,   Front-End Web Developer, Full-Stack Web Developer                                                                                                                                             0.514874\n",
       "Full-Stack Web Developer,   Front-End Web Developer, Back-End Web Developer                                                                                                                                             0.443364\n",
       "  Front-End Web Developer, Full-Stack Web Developer, Back-End Web Developer                                                                                                                                             0.429062\n",
       "Full-Stack Web Developer,   Mobile Developer                                                                                                                                                                            0.414760\n",
       "  Front-End Web Developer,   User Experience Designer                                                                                                                                                                   0.414760\n",
       "Back-End Web Developer, Full-Stack Web Developer                                                                                                                                                                        0.386156\n",
       "Full-Stack Web Developer, Back-End Web Developer                                                                                                                                                                        0.371854\n",
       "Back-End Web Developer,   Front-End Web Developer                                                                                                                                                                       0.286041\n",
       "Full-Stack Web Developer, Back-End Web Developer,   Front-End Web Developer                                                                                                                                             0.271739\n",
       "Data Engineer,   Data Scientist                                                                                                                                                                                         0.271739\n",
       "  Front-End Web Developer,   Mobile Developer                                                                                                                                                                           0.257437\n",
       "Full-Stack Web Developer,   Data Scientist                                                                                                                                                                              0.243135\n",
       "  Data Scientist, Data Engineer                                                                                                                                                                                         0.228833\n",
       "  Mobile Developer, Game Developer                                                                                                                                                                                      0.228833\n",
       "                                                                                                                                                                                                                         ...    \n",
       "Back-End Web Developer, Full-Stack Web Developer,   User Experience Designer,   Mobile Developer,   Front-End Web Developer                                                                                             0.014302\n",
       "Data Engineer, Back-End Web Developer,   DevOps / SysAdmin,   Front-End Web Developer, Full-Stack Web Developer                                                                                                         0.014302\n",
       "Back-End Web Developer,   Mobile Developer, Information Security,   Quality Assurance Engineer,   Front-End Web Developer, Game Developer,   User Experience Designer                                                   0.014302\n",
       "Data Engineer,   DevOps / SysAdmin, Back-End Web Developer,   Data Scientist                                                                                                                                            0.014302\n",
       "  User Experience Designer, Full-Stack Web Developer,   Front-End Web Developer,   Product Manager                                                                                                                      0.014302\n",
       "  Front-End Web Developer, Full-Stack Web Developer, Back-End Web Developer, Information Security,   Product Manager                                                                                                    0.014302\n",
       "Full-Stack Web Developer, Information Security, Data Engineer                                                                                                                                                           0.014302\n",
       "  Front-End Web Developer, Back-End Web Developer, Game Developer,   Mobile Developer, Full-Stack Web Developer, Software Engineer                                                                                      0.014302\n",
       "Game Developer,   Product Manager, Data Engineer,   Data Scientist,   Quality Assurance Engineer, Artificial Intelligence Engineer                                                                                      0.014302\n",
       "Back-End Web Developer,   DevOps / SysAdmin, Game Developer, Full-Stack Web Developer,   Front-End Web Developer,   Mobile Developer                                                                                    0.014302\n",
       "Back-End Web Developer,   User Experience Designer, Data Engineer,   Data Scientist, Full-Stack Web Developer                                                                                                           0.014302\n",
       "Back-End Web Developer, Full-Stack Web Developer, Data Engineer,   Front-End Web Developer,   Mobile Developer                                                                                                          0.014302\n",
       "Information Security, Game Developer,   Product Manager                                                                                                                                                                 0.014302\n",
       "  Product Manager,   Front-End Web Developer, Back-End Web Developer, Full-Stack Web Developer, Growth Hacker                                                                                                           0.014302\n",
       "  User Experience Designer, Full-Stack Web Developer,   Front-End Web Developer,   Mobile Developer                                                                                                                     0.014302\n",
       "  Data Scientist, Data Engineer, Back-End Web Developer,   DevOps / SysAdmin                                                                                                                                            0.014302\n",
       "Information Security,   Front-End Web Developer,   Mobile Developer, Data Engineer,   Data Scientist, Full-Stack Web Developer                                                                                          0.014302\n",
       "Back-End Web Developer, Data Engineer,   Quality Assurance Engineer,   Product Manager,   Data Scientist, Information Security, Full-Stack Web Developer,   Front-End Web Developer,   User Experience Designer         0.014302\n",
       "  DevOps / SysAdmin,   Mobile Developer, Data Engineer, Full-Stack Web Developer                                                                                                                                        0.014302\n",
       "  User Experience Designer, Full-Stack Web Developer, Game Developer,   Front-End Web Developer                                                                                                                         0.014302\n",
       "  Front-End Web Developer, Full-Stack Web Developer,   Mobile Developer, Information Security,   User Experience Designer,   DevOps / SysAdmin,   Quality Assurance Engineer, Data Engineer, Back-End Web Developer     0.014302\n",
       "Full-Stack Web Developer, Back-End Web Developer,   User Experience Designer, Library Developer                                                                                                                         0.014302\n",
       "Information Security, Data Engineer,   Mobile Developer, Game Developer, Full-Stack Web Developer                                                                                                                       0.014302\n",
       "Information Security,   Front-End Web Developer,   Mobile Developer,   User Experience Designer, Game Developer, Back-End Web Developer, Full-Stack Web Developer                                                       0.014302\n",
       "  Data Scientist,   Product Manager, Game Developer, Data Engineer, Back-End Web Developer, Information Security                                                                                                        0.014302\n",
       "  Data Scientist, Back-End Web Developer, Information Security, Data Engineer,   Mobile Developer                                                                                                                       0.014302\n",
       "  Mobile Developer,   DevOps / SysAdmin, Back-End Web Developer, Data Engineer                                                                                                                                          0.014302\n",
       "  Data Scientist,   DevOps / SysAdmin, Game Developer, Information Security                                                                                                                                             0.014302\n",
       "Information Security,   DevOps / SysAdmin, Back-End Web Developer, Full-Stack Web Developer,   Front-End Web Developer                                                                                                  0.014302\n",
       "  User Experience Designer, Full-Stack Web Developer,   Product Manager,   Front-End Web Developer                                                                                                                      0.014302\n",
       "Name: JobRoleInterest, Length: 3213, dtype: float64"
      ]
     },
     "execution_count": 5,
     "metadata": {},
     "output_type": "execute_result"
    }
   ],
   "source": [
    "# look at JobRoleInterest\n",
    "survey_data['JobRoleInterest'].value_counts(normalize=True) * 100"
   ]
  },
  {
   "cell_type": "markdown",
   "metadata": {},
   "source": [
    "Web and mobile development rank high in the interests, which is good for the usefulness of this data for our purposes, but there are many responses with multiple interests.  To better analyze what roles the survey respondents are interested in, let's look a little closer at this field."
   ]
  },
  {
   "cell_type": "code",
   "execution_count": 6,
   "metadata": {
    "collapsed": false
   },
   "outputs": [
    {
     "data": {
      "text/plain": [
       "0    0.0\n",
       "1    1.0\n",
       "2    5.0\n",
       "3    3.0\n",
       "4    5.0\n",
       "Name: number_role_interests, dtype: float64"
      ]
     },
     "execution_count": 6,
     "metadata": {},
     "output_type": "execute_result"
    }
   ],
   "source": [
    "# determine how many roles each respondent was interested in\n",
    "job_interests = ['JobInterestBackEnd', 'JobInterestDataEngr', \n",
    "                 'JobInterestDataSci', 'JobInterestDevOps', \n",
    "                 'JobInterestFrontEnd', 'JobInterestFullStack',\n",
    "                 'JobInterestGameDev', 'JobInterestInfoSec', \n",
    "                 'JobInterestMobile', 'JobInterestOther', \n",
    "                 'JobInterestProjMngr', 'JobInterestQAEngr', \n",
    "                 'JobInterestUX']\n",
    "survey_data['number_role_interests'] = survey_data[job_interests].sum(axis=1)\n",
    "survey_data['number_role_interests'].head()"
   ]
  },
  {
   "cell_type": "code",
   "execution_count": 7,
   "metadata": {
    "collapsed": false
   },
   "outputs": [
    {
     "data": {
      "text/plain": [
       "0.0     56.060523\n",
       "1.0     13.793673\n",
       "3.0      6.987620\n",
       "4.0      6.806052\n",
       "5.0      5.155433\n",
       "2.0      4.847318\n",
       "6.0      2.905089\n",
       "7.0      1.738652\n",
       "8.0      0.775791\n",
       "9.0      0.445667\n",
       "10.0     0.225585\n",
       "12.0     0.170564\n",
       "11.0     0.088033\n",
       "Name: number_role_interests, dtype: float64"
      ]
     },
     "execution_count": 7,
     "metadata": {},
     "output_type": "execute_result"
    }
   ],
   "source": [
    "# examine these counts across the dataset\n",
    "survey_data['number_role_interests'].value_counts(normalize=True) * 100"
   ]
  },
  {
   "cell_type": "markdown",
   "metadata": {},
   "source": [
    "From the above, most of the respondents didn't provide a job interest.  Of those who did, only a small portion had only one interest - many more had multiple interests.\n",
    "\n",
    "Next, it would be good to know of those who expressed an interest, what proportion are interested in web or mobile development, our company's primary focus."
   ]
  },
  {
   "cell_type": "code",
   "execution_count": 8,
   "metadata": {
    "collapsed": false
   },
   "outputs": [],
   "source": [
    "# isolate those who have expressed some interest(s)\n",
    "has_interests = survey_data[pd.notnull(survey_data['JobRoleInterest'])].copy()\n",
    "# replace nan with 0\n",
    "has_interests.fillna(value=0, inplace=True)"
   ]
  },
  {
   "cell_type": "code",
   "execution_count": 9,
   "metadata": {
    "collapsed": false
   },
   "outputs": [
    {
     "data": {
      "text/plain": [
       "1.0    86.084096\n",
       "0.0    13.915904\n",
       "Name: web_or_mobile, dtype: float64"
      ]
     },
     "execution_count": 9,
     "metadata": {},
     "output_type": "execute_result"
    }
   ],
   "source": [
    "# determine how many are interested in web or mobile development\n",
    "has_interests['web_or_mobile'] = (has_interests['JobInterestFullStack'] + \n",
    "                                  has_interests['JobInterestFrontEnd'] + \n",
    "                                  has_interests['JobInterestBackEnd'] + \n",
    "                                  has_interests['JobInterestMobile'])\n",
    "has_interests['web_or_mobile'] = has_interests['web_or_mobile'].apply(\n",
    "    lambda x: min(x,1))\n",
    "has_interests['web_or_mobile'].value_counts(normalize=True) * 100"
   ]
  },
  {
   "cell_type": "code",
   "execution_count": 10,
   "metadata": {
    "collapsed": false
   },
   "outputs": [
    {
     "data": {
      "image/png": "[encoded data removed]",
      "text/plain": [
       "<matplotlib.figure.Figure at 0x7fb9b6b9cb38>"
      ]
     },
     "metadata": {},
     "output_type": "display_data"
    }
   ],
   "source": [
    "# create graph of web_or_mobile\n",
    "plt.style.use('fivethirtyeight')\n",
    "int_freq = has_interests['web_or_mobile'].value_counts(normalize=True) * 100\n",
    "int_freq.plot.bar(figsize=(7,7))\n",
    "plt.title('Survey Participant Interests\\nWeb and Mobile Development')\n",
    "plt.ylabel('Percentage')\n",
    "plt.xticks([0,1],['Web or Mobile', 'Other Interest'], rotation=0)\n",
    "plt.ylim((0,100))\n",
    "plt.show()"
   ]
  },
  {
   "cell_type": "markdown",
   "metadata": {},
   "source": [
    "From the above analysis, it appears that most of the survey participants who expressed an interest are interested in the areas of programming in which our company offers e-learning courses.  We will want to advertise to people interested in different areas of programming, but especially web and mobile development.  This dataset looks like it will work for our purposes."
   ]
  },
  {
   "cell_type": "markdown",
   "metadata": {},
   "source": [
    "## Location\n",
    "\n",
    "The next piece to analyze in our data is where these people are located.  We can look at the `CountryLive` variable, which identifies in which country the participant currently lives.  This may help us to determine in which countries (i.e. markets) we may want to advertise."
   ]
  },
  {
   "cell_type": "code",
   "execution_count": 11,
   "metadata": {
    "collapsed": false
   },
   "outputs": [
    {
     "data": {
      "text/plain": [
       "United States of America    3125\n",
       "India                        528\n",
       "United Kingdom               315\n",
       "Canada                       260\n",
       "Poland                       131\n",
       "Brazil                       129\n",
       "Germany                      125\n",
       "Australia                    112\n",
       "Russia                       102\n",
       "Ukraine                       89\n",
       "Name: CountryLive, dtype: int64"
      ]
     },
     "execution_count": 11,
     "metadata": {},
     "output_type": "execute_result"
    }
   ],
   "source": [
    "# look at the distribution of countries participants live in\n",
    "# let's use the dataset where participants expressed at least one interest\n",
    "has_interests = survey_data[pd.notnull(survey_data['JobRoleInterest'])].copy()\n",
    "has_interests['CountryLive'].value_counts().head(10)"
   ]
  },
  {
   "cell_type": "code",
   "execution_count": 12,
   "metadata": {
    "collapsed": false
   },
   "outputs": [
    {
     "data": {
      "text/plain": [
       "United States of America    0.457005\n",
       "India                       0.077216\n",
       "United Kingdom              0.046066\n",
       "Canada                      0.038023\n",
       "Poland                      0.019158\n",
       "Brazil                      0.018865\n",
       "Germany                     0.018280\n",
       "Australia                   0.016379\n",
       "Russia                      0.014917\n",
       "Ukraine                     0.013016\n",
       "Name: CountryLive, dtype: float64"
      ]
     },
     "execution_count": 12,
     "metadata": {},
     "output_type": "execute_result"
    }
   ],
   "source": [
    "# also look at this normalized\n",
    "has_interests['CountryLive'].value_counts(normalize=True).head(10)"
   ]
  },
  {
   "cell_type": "markdown",
   "metadata": {},
   "source": [
    "From the above, the USA has both the largest absolute number (3125) and largest relative number (0.457005) of people who expressed an interest.  This is definitely a promising market to investigate.\n",
    "\n",
    "For our second market, the next countries to look at are India, the United Kingdom, and Canada.  While these are all much smaller relative to the USA, these three form the next largest group.\n",
    "\n",
    "It would be interesting to see in these countries whether there are people willing to pay for the e-learning services our company can provide."
   ]
  },
  {
   "cell_type": "markdown",
   "metadata": {},
   "source": [
    "## Spending Money on Learning\n",
    "\n",
    "How much are these participants willing to spend on learning?  Ultimately, for our company to be successful, not only will we need interested coders, but also these coders will need to be willing to purchase our programming courses.\n",
    "\n",
    "Our company sells subscriptions at the price of $59 per month.  We would like to compare this to what our survey participants are willing to spend each month.  However, the data we have in `MoneyForLearning` is the amount of money the participant spent on learning in total from the time they began coding.  We will want to transform this into a monthly amount to compare to what our company charges.\n",
    "\n",
    "Let's investigate the top four countries we found above - the USA, India, the United Kingdom, and Canada.  These have the highest frequencies of participants interested in web and mobile development, and English is an official language in all of these countries (which is important, as our e-learning courses are written in English)."
   ]
  },
  {
   "cell_type": "code",
   "execution_count": 13,
   "metadata": {
    "collapsed": true
   },
   "outputs": [],
   "source": [
    "# to get our per-month, we need to divide by MonthsProgramming\n",
    "# let's set all of those with 0s to 1s so we can divide in the next step\n",
    "has_interests['MonthsProgramming'].replace(0, 1, inplace=True)"
   ]
  },
  {
   "cell_type": "code",
   "execution_count": 14,
   "metadata": {
    "collapsed": false
   },
   "outputs": [
    {
     "data": {
      "text/plain": [
       "675"
      ]
     },
     "execution_count": 14,
     "metadata": {},
     "output_type": "execute_result"
    }
   ],
   "source": [
    "# estimate amount of money spent on learning per month\n",
    "has_interests['money_per_month'] = has_interests['MoneyForLearning'] / has_interests['MonthsProgramming']\n",
    "# how many missing values?\n",
    "has_interests['money_per_month'].isnull().sum()"
   ]
  },
  {
   "cell_type": "code",
   "execution_count": 15,
   "metadata": {
    "collapsed": false
   },
   "outputs": [],
   "source": [
    "# keep rows without missing values in money_per_month\n",
    "int_money = has_interests[has_interests['money_per_month'].notnull()]"
   ]
  },
  {
   "cell_type": "code",
   "execution_count": 16,
   "metadata": {
    "collapsed": false
   },
   "outputs": [],
   "source": [
    "# keep rows without missing values in CountryLive\n",
    "int_money = int_money[int_money['CountryLive'].notnull()]"
   ]
  },
  {
   "cell_type": "code",
   "execution_count": 17,
   "metadata": {
    "collapsed": false
   },
   "outputs": [
    {
     "data": {
      "text/plain": [
       "United States of America    2933\n",
       "India                        463\n",
       "United Kingdom               279\n",
       "Canada                       240\n",
       "Poland                       122\n",
       "Germany                      114\n",
       "Brazil                       111\n",
       "Australia                    102\n",
       "Russia                        79\n",
       "Ukraine                       79\n",
       "Name: CountryLive, dtype: int64"
      ]
     },
     "execution_count": 17,
     "metadata": {},
     "output_type": "execute_result"
    }
   ],
   "source": [
    "# review counts by country after dropping some rows\n",
    "int_money['CountryLive'].value_counts().head(10)"
   ]
  },
  {
   "cell_type": "markdown",
   "metadata": {},
   "source": [
    "We have removed several rows with data, but we still have a significant amount of data to proceed.  We would like to group our data by country for our four countries of interest and determine how much money is spent per month on average in each of these countries."
   ]
  },
  {
   "cell_type": "code",
   "execution_count": 18,
   "metadata": {
    "collapsed": false
   },
   "outputs": [
    {
     "data": {
      "text/plain": [
       "CountryLive\n",
       "United States of America    227.997996\n",
       "India                       135.100982\n",
       "United Kingdom               45.534443\n",
       "Canada                      113.510961\n",
       "Name: money_per_month, dtype: float64"
      ]
     },
     "execution_count": 18,
     "metadata": {},
     "output_type": "execute_result"
    }
   ],
   "source": [
    "# review mean by country\n",
    "countries = ['United States of America','India','United Kingdom','Canada']\n",
    "countries_mean = int_money.groupby('CountryLive').mean()\n",
    "countries_mean['money_per_month'][countries]"
   ]
  },
  {
   "cell_type": "markdown",
   "metadata": {},
   "source": [
    "It is unexpected that the means for the United Kingdom and Canada `money_per_month` are lower than that of India.  Given that the standard of living is higher in the United Kingdom and Canada, I would have expected more disposable income to be spent on e-learning in these countries than in India.  Maybe this is indicative of a data issue, or maybe the data is correct and something else explains why this doesn't follow the expected pattern."
   ]
  },
  {
   "cell_type": "markdown",
   "metadata": {},
   "source": [
    "## Look for Outliers\n",
    "\n",
    "Let's next look at boxplots for each of the four countries of interest.  Are there any outliers in our data?  Do we need to remove any outliers and then recompute the previous calculations?"
   ]
  },
  {
   "cell_type": "code",
   "execution_count": 19,
   "metadata": {
    "collapsed": false
   },
   "outputs": [],
   "source": [
    "# select data for only the four countries of interest\n",
    "int_money_four = int_money[int_money['CountryLive'].isin(countries)]"
   ]
  },
  {
   "cell_type": "code",
   "execution_count": 20,
   "metadata": {
    "collapsed": false
   },
   "outputs": [
    {
     "name": "stderr",
     "output_type": "stream",
     "text": [
      "/dataquest/system/env/python3/lib/python3.4/site-packages/seaborn/categorical.py:454: FutureWarning: remove_na is deprecated and is a private function. Do not use.\n",
      "  box_data = remove_na(group_data)\n"
     ]
    },
    {
     "data": {
      "image/png": "[encoded data removed]",
      "text/plain": [
       "<matplotlib.figure.Figure at 0x7fb9aa728cc0>"
      ]
     },
     "metadata": {},
     "output_type": "display_data"
    }
   ],
   "source": [
    "# create boxplots for each of the four countries\n",
    "\n",
    "import seaborn as sns\n",
    "sns.boxplot(x='CountryLive', y='money_per_month', data=int_money_four)\n",
    "plt.title('Money Spent by Month\\nby Country')\n",
    "plt.ylabel('USD per Month')\n",
    "plt.xlabel('Country')\n",
    "plt.xticks([0,1,2,3],['US', 'UK', 'India', 'Canada'], rotation=0)\n",
    "plt.show()"
   ]
  },
  {
   "cell_type": "markdown",
   "metadata": {},
   "source": [
    "There seem to be some extreme outliers in the data based on the above plot.  In the US, there are values of \\$50,000 and \\$80,000 per month.  In India, there seems to be one over \\$10,000.  Let's only look at monthly spending less than \\$10,000 and recompute."
   ]
  },
  {
   "cell_type": "code",
   "execution_count": 21,
   "metadata": {
    "collapsed": true
   },
   "outputs": [],
   "source": [
    "# only keep rows where monthly spending < $10,000\n",
    "int_money_four = int_money_four[int_money_four['money_per_month'] < 10000]"
   ]
  },
  {
   "cell_type": "code",
   "execution_count": 22,
   "metadata": {
    "collapsed": false
   },
   "outputs": [
    {
     "data": {
      "text/plain": [
       "CountryLive\n",
       "United States of America    155.459187\n",
       "India                       113.748387\n",
       "United Kingdom               45.534443\n",
       "Canada                      113.510961\n",
       "Name: money_per_month, dtype: float64"
      ]
     },
     "execution_count": 22,
     "metadata": {},
     "output_type": "execute_result"
    }
   ],
   "source": [
    "# recompute the means from above\n",
    "countries_mean_rev = int_money_four.groupby('CountryLive').mean()\n",
    "countries_mean_rev['money_per_month'][countries]"
   ]
  },
  {
   "cell_type": "code",
   "execution_count": 23,
   "metadata": {
    "collapsed": false
   },
   "outputs": [
    {
     "name": "stderr",
     "output_type": "stream",
     "text": [
      "/dataquest/system/env/python3/lib/python3.4/site-packages/seaborn/categorical.py:454: FutureWarning: remove_na is deprecated and is a private function. Do not use.\n",
      "  box_data = remove_na(group_data)\n"
     ]
    },
    {
     "data": {
      "image/png": "[encoded data removed]",
      "text/plain": [
       "<matplotlib.figure.Figure at 0x7fb9b5dda780>"
      ]
     },
     "metadata": {},
     "output_type": "display_data"
    }
   ],
   "source": [
    "# redo the boxplot\n",
    "sns.boxplot(x='CountryLive', y='money_per_month', data=int_money_four)\n",
    "plt.title('Money Spent by Month\\nby Country')\n",
    "plt.ylabel('USD per Month')\n",
    "plt.xlabel('Country')\n",
    "plt.xticks([0,1,2,3],['US', 'UK', 'India', 'Canada'], rotation=0)\n",
    "plt.show()"
   ]
  },
  {
   "cell_type": "markdown",
   "metadata": {},
   "source": [
    "There still appear to be a few possible outliers.  Maybe some of these people attended bootcamps.  If so, the data may be correct, as these bootcamps can be very expensive.  \n",
    "\n",
    "In addition, for a new programmer who starts with a bootcamp, a large amount is paid up front and then likely little is paid in the next few months.  If we see very high numbers with a bootcamp but only a few months of programming, the monthly amount the person is willing to spend ongoing is probably overstated (the person is not going to pay for another bootcamp every couple months).\n",
    "\n",
    "If we can't find anything in the data to support these very high monthly costs, then we will remove the outliers."
   ]
  },
  {
   "cell_type": "code",
   "execution_count": 24,
   "metadata": {
    "collapsed": false
   },
   "outputs": [
    {
     "data": {
      "text/html": [
       "<div>\n",
       "<style scoped>\n",
       "    .dataframe tbody tr th:only-of-type {\n",
       "        vertical-align: middle;\n",
       "    }\n",
       "\n",
       "    .dataframe tbody tr th {\n",
       "        vertical-align: top;\n",
       "    }\n",
       "\n",
       "    .dataframe thead th {\n",
       "        text-align: right;\n",
       "    }\n",
       "</style>\n",
       "<table border=\"1\" class=\"dataframe\">\n",
       "  <thead>\n",
       "    <tr style=\"text-align: right;\">\n",
       "      <th></th>\n",
       "      <th>AttendedBootcamp</th>\n",
       "      <th>MonthsProgramming</th>\n",
       "      <th>money_per_month</th>\n",
       "    </tr>\n",
       "  </thead>\n",
       "  <tbody>\n",
       "    <tr>\n",
       "      <th>13659</th>\n",
       "      <td>1.0</td>\n",
       "      <td>2.0</td>\n",
       "      <td>5000.0</td>\n",
       "    </tr>\n",
       "  </tbody>\n",
       "</table>\n",
       "</div>"
      ],
      "text/plain": [
       "       AttendedBootcamp  MonthsProgramming  money_per_month\n",
       "13659               1.0                2.0           5000.0"
      ]
     },
     "execution_count": 24,
     "metadata": {},
     "output_type": "execute_result"
    }
   ],
   "source": [
    "# review Canada outliers\n",
    "canada_outliers = int_money_four[\n",
    "    (int_money_four['CountryLive'] == 'Canada') &\n",
    "    (int_money_four['money_per_month'] > 3000)\n",
    "    ]\n",
    "canada_outliers[['AttendedBootcamp', 'MonthsProgramming', 'money_per_month']]"
   ]
  },
  {
   "cell_type": "markdown",
   "metadata": {},
   "source": [
    "Let's remove this one person as an extreme outlier.  This person has only been programming for two months, and has spent a large amount of money on a bootcamp.  The ongoing average monthly spending will likely be much lower."
   ]
  },
  {
   "cell_type": "code",
   "execution_count": 25,
   "metadata": {
    "collapsed": true
   },
   "outputs": [],
   "source": [
    "# remove the outliers for Canada\n",
    "int_money_four = int_money_four.drop(canada_outliers.index)"
   ]
  },
  {
   "cell_type": "code",
   "execution_count": 26,
   "metadata": {
    "collapsed": false
   },
   "outputs": [
    {
     "data": {
      "text/html": [
       "<div>\n",
       "<style scoped>\n",
       "    .dataframe tbody tr th:only-of-type {\n",
       "        vertical-align: middle;\n",
       "    }\n",
       "\n",
       "    .dataframe tbody tr th {\n",
       "        vertical-align: top;\n",
       "    }\n",
       "\n",
       "    .dataframe thead th {\n",
       "        text-align: right;\n",
       "    }\n",
       "</style>\n",
       "<table border=\"1\" class=\"dataframe\">\n",
       "  <thead>\n",
       "    <tr style=\"text-align: right;\">\n",
       "      <th></th>\n",
       "      <th>AttendedBootcamp</th>\n",
       "      <th>MonthsProgramming</th>\n",
       "      <th>money_per_month</th>\n",
       "    </tr>\n",
       "  </thead>\n",
       "  <tbody>\n",
       "    <tr>\n",
       "      <th>1728</th>\n",
       "      <td>0.0</td>\n",
       "      <td>4.0</td>\n",
       "      <td>5000.000000</td>\n",
       "    </tr>\n",
       "    <tr>\n",
       "      <th>1755</th>\n",
       "      <td>0.0</td>\n",
       "      <td>15.0</td>\n",
       "      <td>3333.333333</td>\n",
       "    </tr>\n",
       "    <tr>\n",
       "      <th>7989</th>\n",
       "      <td>0.0</td>\n",
       "      <td>1.0</td>\n",
       "      <td>5000.000000</td>\n",
       "    </tr>\n",
       "    <tr>\n",
       "      <th>8126</th>\n",
       "      <td>0.0</td>\n",
       "      <td>1.0</td>\n",
       "      <td>5000.000000</td>\n",
       "    </tr>\n",
       "    <tr>\n",
       "      <th>15587</th>\n",
       "      <td>0.0</td>\n",
       "      <td>24.0</td>\n",
       "      <td>4166.666667</td>\n",
       "    </tr>\n",
       "  </tbody>\n",
       "</table>\n",
       "</div>"
      ],
      "text/plain": [
       "       AttendedBootcamp  MonthsProgramming  money_per_month\n",
       "1728                0.0                4.0      5000.000000\n",
       "1755                0.0               15.0      3333.333333\n",
       "7989                0.0                1.0      5000.000000\n",
       "8126                0.0                1.0      5000.000000\n",
       "15587               0.0               24.0      4166.666667"
      ]
     },
     "execution_count": 26,
     "metadata": {},
     "output_type": "execute_result"
    }
   ],
   "source": [
    "# review India outliers\n",
    "india_outliers = int_money_four[\n",
    "    (int_money_four['CountryLive'] == 'India') &\n",
    "    (int_money_four['money_per_month'] > 3000)\n",
    "    ]\n",
    "india_outliers[['AttendedBootcamp', 'MonthsProgramming', 'money_per_month']]"
   ]
  },
  {
   "cell_type": "markdown",
   "metadata": {},
   "source": [
    "None of the outliers for India attended a bootcamp.  Several of these are new programmers, so maybe they purchased a bootcamp but did not report it.  Or maybe these programmers are incorrectly including tuition in the spending reported.  We do not know why these appear to be so large, so we will exclude them as outliers."
   ]
  },
  {
   "cell_type": "code",
   "execution_count": 27,
   "metadata": {
    "collapsed": true
   },
   "outputs": [],
   "source": [
    "# remove the outliers for India\n",
    "int_money_four = int_money_four.drop(india_outliers.index)"
   ]
  },
  {
   "cell_type": "code",
   "execution_count": 28,
   "metadata": {
    "collapsed": false
   },
   "outputs": [
    {
     "data": {
      "text/html": [
       "<div>\n",
       "<style scoped>\n",
       "    .dataframe tbody tr th:only-of-type {\n",
       "        vertical-align: middle;\n",
       "    }\n",
       "\n",
       "    .dataframe tbody tr th {\n",
       "        vertical-align: top;\n",
       "    }\n",
       "\n",
       "    .dataframe thead th {\n",
       "        text-align: right;\n",
       "    }\n",
       "</style>\n",
       "<table border=\"1\" class=\"dataframe\">\n",
       "  <thead>\n",
       "    <tr style=\"text-align: right;\">\n",
       "      <th></th>\n",
       "      <th>AttendedBootcamp</th>\n",
       "      <th>MonthsProgramming</th>\n",
       "      <th>money_per_month</th>\n",
       "    </tr>\n",
       "  </thead>\n",
       "  <tbody>\n",
       "    <tr>\n",
       "      <th>718</th>\n",
       "      <td>1.0</td>\n",
       "      <td>1.0</td>\n",
       "      <td>8000.000000</td>\n",
       "    </tr>\n",
       "    <tr>\n",
       "      <th>1222</th>\n",
       "      <td>1.0</td>\n",
       "      <td>2.0</td>\n",
       "      <td>6500.000000</td>\n",
       "    </tr>\n",
       "    <tr>\n",
       "      <th>3184</th>\n",
       "      <td>1.0</td>\n",
       "      <td>1.0</td>\n",
       "      <td>9000.000000</td>\n",
       "    </tr>\n",
       "    <tr>\n",
       "      <th>7505</th>\n",
       "      <td>1.0</td>\n",
       "      <td>3.0</td>\n",
       "      <td>6666.666667</td>\n",
       "    </tr>\n",
       "    <tr>\n",
       "      <th>9778</th>\n",
       "      <td>1.0</td>\n",
       "      <td>1.0</td>\n",
       "      <td>8000.000000</td>\n",
       "    </tr>\n",
       "  </tbody>\n",
       "</table>\n",
       "</div>"
      ],
      "text/plain": [
       "      AttendedBootcamp  MonthsProgramming  money_per_month\n",
       "718                1.0                1.0      8000.000000\n",
       "1222               1.0                2.0      6500.000000\n",
       "3184               1.0                1.0      9000.000000\n",
       "7505               1.0                3.0      6666.666667\n",
       "9778               1.0                1.0      8000.000000"
      ]
     },
     "execution_count": 28,
     "metadata": {},
     "output_type": "execute_result"
    }
   ],
   "source": [
    "# review US outliers\n",
    "usa_outliers = int_money_four[\n",
    "    (int_money_four['CountryLive'] == 'United States of America') &\n",
    "    (int_money_four['money_per_month'] > 6000)\n",
    "    ]\n",
    "usa_outliers[['AttendedBootcamp', 'MonthsProgramming', 'money_per_month']]"
   ]
  },
  {
   "cell_type": "markdown",
   "metadata": {},
   "source": [
    "Similar to what we saw with India, all of these people purchased bootcamps and are within a few months of just beginning programming.  I expect that this is a one-time large cost and ongoing monthly spending will be lower, so I will remove these outliers from the data as well."
   ]
  },
  {
   "cell_type": "code",
   "execution_count": 29,
   "metadata": {
    "collapsed": true
   },
   "outputs": [],
   "source": [
    "# remove the outliers for USA\n",
    "int_money_four = int_money_four.drop(usa_outliers.index)"
   ]
  },
  {
   "cell_type": "code",
   "execution_count": 30,
   "metadata": {
    "collapsed": false
   },
   "outputs": [
    {
     "name": "stderr",
     "output_type": "stream",
     "text": [
      "/dataquest/system/env/python3/lib/python3.4/site-packages/seaborn/categorical.py:454: FutureWarning: remove_na is deprecated and is a private function. Do not use.\n",
      "  box_data = remove_na(group_data)\n"
     ]
    },
    {
     "data": {
      "image/png": "[encoded data removed]",
      "text/plain": [
       "<matplotlib.figure.Figure at 0x7fb9b5dd64e0>"
      ]
     },
     "metadata": {},
     "output_type": "display_data"
    }
   ],
   "source": [
    "# redo the boxplot\n",
    "sns.boxplot(x='CountryLive', y='money_per_month', data=int_money_four)\n",
    "plt.title('Money Spent by Month\\nby Country')\n",
    "plt.ylabel('USD per Month')\n",
    "plt.xlabel('Country')\n",
    "plt.xticks([0,1,2,3],['US', 'UK', 'India', 'Canada'], rotation=0)\n",
    "plt.show()"
   ]
  },
  {
   "cell_type": "code",
   "execution_count": 31,
   "metadata": {
    "collapsed": false
   },
   "outputs": [
    {
     "data": {
      "text/plain": [
       "CountryLive\n",
       "United States of America    142.654608\n",
       "India                        65.758763\n",
       "United Kingdom               45.534443\n",
       "Canada                       93.065400\n",
       "Name: money_per_month, dtype: float64"
      ]
     },
     "execution_count": 31,
     "metadata": {},
     "output_type": "execute_result"
    }
   ],
   "source": [
    "# recompute the means from above\n",
    "countries_mean_rev2 = int_money_four.groupby('CountryLive').mean()\n",
    "countries_mean_rev2['money_per_month'][countries]"
   ]
  },
  {
   "cell_type": "markdown",
   "metadata": {},
   "source": [
    "## Choosing the Two Markets\n",
    "\n",
    "From the above analysis, it now seems that the USA is clearly one market in which our company should advertise.\n",
    "\n",
    "The second market choice is less clear.\n",
    "\n",
    "- Canada appears to be willing to spend more per month on learning.\n",
    "- India appears to have a larger potential pool of new programmers.\n",
    "\n",
    "There are several possible ways to proceed:\n",
    "\n",
    "1. Advertise in the USA only.  The other two countries are much smaller and have significantly less money to spend per month.  It may be worth it to not split the advertising across countries.\n",
    "\n",
    "2. Advertise in the USA and Canada.  These countries have the most amount of money to spend per month.  However, Canada is a smaller market, so the majority of our spending should likely be in the USA.\n",
    "\n",
    "3. Advertise in the USA and India.  These countries have the largest markets of possible new programmers.  However, India is a smaller market, so the majority of our spending should likely be in the USA.\n",
    "\n",
    "4. Advertise in the USA, Canada, and India.  It may be better to advertise in all three countries, to take advantage of the higher monthly amount to spend in Canada and the larger market in India, if the company thinks that advertising in three different markets is workable.\n",
    "\n",
    "In the end, the ultimate decision probably rests with the marketing department and management.  Other factors may come into play including how much it costs to advertise in these different countries, the company's future plans for expansion into other languages, etc."
   ]
  },
  {
   "cell_type": "code",
   "execution_count": null,
   "metadata": {
    "collapsed": true
   },
   "outputs": [],
   "source": []
  }
 ],
 "metadata": {
  "kernelspec": {
   "display_name": "Python 3",
   "language": "python",
   "name": "python3"
  },
  "language_info": {
   "codemirror_mode": {
    "name": "ipython",
    "version": 3
   },
   "file_extension": ".py",
   "mimetype": "text/x-python",
   "name": "python",
   "nbconvert_exporter": "python",
   "pygments_lexer": "ipython3",
   "version": "3.4.3"
  }
 },
 "nbformat": 4,
 "nbformat_minor": 2
}
